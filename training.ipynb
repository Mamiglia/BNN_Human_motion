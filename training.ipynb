{
 "cells": [
  {
   "cell_type": "code",
   "execution_count": null,
   "metadata": {},
   "outputs": [],
   "source": [
    "%%capture\n",
    "!rm -r ./*\n",
    "!git clone https://github.com/Mamiglia/BNN_Human_motion\n",
    "!mv BNN_Human_motion/* .\n",
    "!pip install lightning bayesian-torch"
   ]
  },
  {
   "cell_type": "markdown",
   "metadata": {},
   "source": [
    "# Training Notebook\n",
    "In this notebook call the training functions on all the architectures, then save the models\n"
   ]
  },
  {
   "cell_type": "code",
   "execution_count": null,
   "metadata": {},
   "outputs": [],
   "source": [
    "input_n  =10 # number of frames to train on (default=10)\n",
    "output_n =25 # number of frames to predict on\n",
    "input_dim=3  # dimensions of the input coordinates(default=3)\n",
    "skip_rate=1  # skip rate of frames\n",
    "joints_to_consider=22"
   ]
  },
  {
   "cell_type": "code",
   "execution_count": null,
   "metadata": {},
   "outputs": [],
   "source": [
    "from funcs import load_dataset\n",
    "\n",
    "trainset, valset = load_dataset(input_n, output_n, skip_rate, 256)"
   ]
  },
  {
   "cell_type": "markdown",
   "metadata": {},
   "source": [
    "## Transformer"
   ]
  },
  {
   "cell_type": "code",
   "execution_count": null,
   "metadata": {},
   "outputs": [],
   "source": [
    "from funcs import STTFormerBayes, LitSTTFormerBayes\n",
    "\n",
    "model = LitSTTFormerBayes(num_joints=joints_to_consider,\n",
    "                 num_frames=input_n, num_frames_out=output_n, num_heads=5,\n",
    "                 num_channels=3, kernel_size=[5,5], use_pes=True)"
   ]
  },
  {
   "cell_type": "code",
   "execution_count": null,
   "metadata": {},
   "outputs": [],
   "source": [
    "import lightning as L\n",
    "from lightning.pytorch.callbacks.early_stopping import EarlyStopping\n",
    "\n",
    "early_stop_callback = EarlyStopping(monitor=\"validation_loss\", min_delta=0.5, patience=5, verbose=True)\n",
    "trainer = L.Trainer(\n",
    "    accelerator='gpu',\n",
    "    default_root_dir=\"logs/transformer/\",\n",
    "    callbacks = [early_stop_callback],\n",
    "    gradient_clip_val = 0.5,\n",
    "    max_epochs=35)\n",
    "\n",
    "trainer.fit(model=model, train_dataloaders=trainset, val_dataloaders=valset)"
   ]
  },
  {
   "cell_type": "code",
   "execution_count": null,
   "metadata": {},
   "outputs": [],
   "source": [
    "%load_ext tensorboard\n",
    "%tensorboard --logdir logs/transformer/"
   ]
  },
  {
   "cell_type": "markdown",
   "metadata": {},
   "source": [
    "## Save model parameters"
   ]
  }
 ],
 "metadata": {
  "language_info": {
   "name": "python"
  }
 },
 "nbformat": 4,
 "nbformat_minor": 2
}
