{
  "nbformat": 4,
  "nbformat_minor": 0,
  "metadata": {
    "colab": {
      "provenance": [],
      "gpuType": "T4",
      "collapsed_sections": [
        "O2iahSd2N0WY",
        "x7XN2DeWN4oq",
        "O5QcmUEbN7si",
        "sgLBW26sN9rY",
        "taeH4HZlOEWm"
      ]
    },
    "kernelspec": {
      "name": "python3",
      "display_name": "Python 3"
    },
    "language_info": {
      "name": "python"
    },
    "accelerator": "GPU"
  },
  "cells": [
    {
      "cell_type": "markdown",
      "source": [
        "## Clone the repo"
      ],
      "metadata": {
        "id": "O2iahSd2N0WY"
      }
    },
    {
      "cell_type": "code",
      "source": [
        "!rm -r ./*\n",
        "!git clone https://github.com/Mamiglia/BNN_Human_motion\n",
        "!mv BNN_Human_motion/* .\n",
        "!pip install bayesian-torch lightning"
      ],
      "metadata": {
        "id": "kQytzkH_0ZBP"
      },
      "execution_count": null,
      "outputs": []
    },
    {
      "cell_type": "markdown",
      "source": [
        "## Needed import"
      ],
      "metadata": {
        "id": "x7XN2DeWN4oq"
      }
    },
    {
      "cell_type": "code",
      "source": [
        "import torch\n",
        "import os\n",
        "from funcs.dataloader import load_dataset\n",
        "from funcs.gated_recurrent_nn.model import Model\n",
        "from funcs.gated_recurrent_nn.training import Training\n",
        "from funcs.gated_recurrent_nn.testing import *"
      ],
      "metadata": {
        "id": "YjQeUc0VNtcW"
      },
      "execution_count": 2,
      "outputs": []
    },
    {
      "cell_type": "markdown",
      "source": [
        "## Set the device"
      ],
      "metadata": {
        "id": "O5QcmUEbN7si"
      }
    },
    {
      "cell_type": "code",
      "source": [
        "device = torch.device('cuda' if torch.cuda.is_available() else 'cpu')\n",
        "print('Using device:', device, '- Type:', torch.cuda.get_device_name(0))"
      ],
      "metadata": {
        "id": "Xeptqw0gNioz",
        "colab": {
          "base_uri": "https://localhost:8080/"
        },
        "outputId": "29cac7df-ecd2-432e-dc39-035d11db8870"
      },
      "execution_count": 3,
      "outputs": [
        {
          "output_type": "stream",
          "name": "stdout",
          "text": [
            "Using device: cuda - Type: Tesla T4\n"
          ]
        }
      ]
    },
    {
      "cell_type": "markdown",
      "source": [
        "## Load the datasets"
      ],
      "metadata": {
        "id": "sgLBW26sN9rY"
      }
    },
    {
      "cell_type": "code",
      "source": [
        "train_dataset, vald_dataset, _ = load_dataset()"
      ],
      "metadata": {
        "id": "m1tcGj8ZNngF",
        "colab": {
          "base_uri": "https://localhost:8080/"
        },
        "outputId": "73a43267-45ae-4f52-8a9d-d904872d0704"
      },
      "execution_count": 4,
      "outputs": [
        {
          "output_type": "stream",
          "name": "stdout",
          "text": [
            "Loading Train Dataset...\n",
            "Loading Validation Dataset...\n",
            "Loading Test Dataset...\n",
            ">>> Training dataset length: 180077\n",
            ">>> Validation dataset length: 28110\n",
            ">>> Test dataset length: 3840\n"
          ]
        }
      ]
    },
    {
      "cell_type": "markdown",
      "source": [
        "## Model initialization"
      ],
      "metadata": {
        "id": "taeH4HZlOEWm"
      }
    },
    {
      "cell_type": "code",
      "source": [
        "num_channels = 3\n",
        "output_n = 25\n",
        "input_n = 10\n",
        "num_joints = 22\n",
        "num_heads = 8\n",
        "dropout = 0.3\n",
        "d_model = 512\n",
        "num_predictions = 2\n",
        "\n",
        "model = Model(num_channels=num_channels,\n",
        "              num_frames_out=output_n,\n",
        "              old_frames=input_n,\n",
        "              num_joints=num_joints,\n",
        "              num_heads=num_heads,\n",
        "              drop=dropout,\n",
        "              d_model=d_model,\n",
        "              num_predictions=num_predictions).to(device)"
      ],
      "metadata": {
        "id": "ACNncjkZNzNK"
      },
      "execution_count": 5,
      "outputs": []
    },
    {
      "cell_type": "code",
      "source": [
        "trainable, non_trainable, total = model.count_parameters()\n",
        "print(f'Trainable parameters: {trainable}')\n",
        "print(f'Total parameters: {total}')"
      ],
      "metadata": {
        "colab": {
          "base_uri": "https://localhost:8080/"
        },
        "id": "XVt5nGDfzWwU",
        "outputId": "108656b0-9d1c-4fa7-8c59-af6ee3b251bd"
      },
      "execution_count": 6,
      "outputs": [
        {
          "output_type": "stream",
          "name": "stdout",
          "text": [
            "Trainable parameters: 5281177\n",
            "Total parameters: 5281177\n"
          ]
        }
      ]
    },
    {
      "cell_type": "markdown",
      "source": [
        "## Training"
      ],
      "metadata": {
        "id": "YjHRtSe0O6Vg"
      }
    },
    {
      "cell_type": "code",
      "source": [
        "!pip install wandb -qqq\n",
        "import wandb\n",
        "wandb.login()"
      ],
      "metadata": {
        "id": "lOBeOnJeKXrq"
      },
      "execution_count": null,
      "outputs": []
    },
    {
      "cell_type": "code",
      "source": [
        "clip_grad = None\n",
        "n_epochs = 2\n",
        "log_step = 100\n",
        "lr = 1e-04\n",
        "use_scheduler = True\n",
        "milestones = [4, 8, 12, 16]\n",
        "gamma = 0.7\n",
        "weight_decay = 3e-04\n",
        "use_wandb = False\n",
        "save_and_plot = True\n",
        "path = os.path.join(os.getcwd(), 'funcs/gated_recurrent_nn/checkpoints/Best_checkpoint.pt')\n",
        "\n",
        "\n",
        "if use_wandb:\n",
        "    wandb.init(project=\"AML_FinalProject\", config={\n",
        "        \"learning_rate\": lr,\n",
        "        \"dropout\": dropout,\n",
        "        \"gamma\": gamma,\n",
        "        \"weight_decay\": weight_decay,\n",
        "        \"milestones\": milestones,\n",
        "        \"architecture\": \"Encoder (Transformer+CNN) Decoder (GRU+CNN)\",\n",
        "        \"parameters\": trainable,\n",
        "    })\n",
        "    config = wandb.config\n",
        "\n",
        "\n",
        "model_training = Training(model=model,\n",
        "                          input_n=input_n,\n",
        "                          output_n=output_n,\n",
        "                          clip_grad=clip_grad,\n",
        "                          device=device,\n",
        "                          n_epochs=n_epochs,\n",
        "                          log_step=log_step,\n",
        "                          lr=lr,\n",
        "                          use_scheduler=use_scheduler,\n",
        "                          milestones=milestones,\n",
        "                          gamma=gamma,\n",
        "                          weight_decay=weight_decay,\n",
        "                          use_wandb=use_wandb,\n",
        "                          save_and_plot=save_and_plot,\n",
        "                          path=path)"
      ],
      "metadata": {
        "id": "tseD_HzvNt2n"
      },
      "execution_count": null,
      "outputs": []
    },
    {
      "cell_type": "code",
      "execution_count": null,
      "metadata": {
        "colab": {
          "base_uri": "https://localhost:8080/",
          "height": 1000
        },
        "id": "gn1COwQEMUwO",
        "outputId": "ee458296-804c-42e8-ed76-8d8d31e4795a"
      },
      "outputs": [
        {
          "metadata": {
            "tags": null
          },
          "name": "stderr",
          "output_type": "stream",
          "text": [
            "\r0it [00:00, ?it/s]"
          ]
        },
        {
          "metadata": {
            "tags": null
          },
          "name": "stdout",
          "output_type": "stream",
          "text": [
            "[Epoch: 1  | Iteration:     1 | Train ] MPJPE loss: 107.290 | KL loss: 0.989 | Total loss: 108.279\n"
          ]
        },
        {
          "metadata": {
            "tags": null
          },
          "name": "stderr",
          "output_type": "stream",
          "text": [
            "100it [02:30,  1.50s/it]"
          ]
        },
        {
          "metadata": {
            "tags": null
          },
          "name": "stdout",
          "output_type": "stream",
          "text": [
            "[Epoch: 1  | Iteration:   101 | Train ] MPJPE loss: 99.251 | KL loss: 0.985 | Total loss: 100.236\n"
          ]
        },
        {
          "metadata": {
            "tags": null
          },
          "name": "stderr",
          "output_type": "stream",
          "text": [
            "200it [05:00,  1.55s/it]"
          ]
        },
        {
          "metadata": {
            "tags": null
          },
          "name": "stdout",
          "output_type": "stream",
          "text": [
            "[Epoch: 1  | Iteration:   201 | Train ] MPJPE loss: 105.303 | KL loss: 0.981 | Total loss: 106.285\n"
          ]
        },
        {
          "metadata": {
            "tags": null
          },
          "name": "stderr",
          "output_type": "stream",
          "text": [
            "300it [07:30,  1.48s/it]"
          ]
        },
        {
          "metadata": {
            "tags": null
          },
          "name": "stdout",
          "output_type": "stream",
          "text": [
            "[Epoch: 1  | Iteration:   301 | Train ] MPJPE loss: 102.230 | KL loss: 0.978 | Total loss: 103.207\n"
          ]
        },
        {
          "metadata": {
            "tags": null
          },
          "name": "stderr",
          "output_type": "stream",
          "text": [
            "400it [09:59,  1.52s/it]"
          ]
        },
        {
          "metadata": {
            "tags": null
          },
          "name": "stdout",
          "output_type": "stream",
          "text": [
            "[Epoch: 1  | Iteration:   401 | Train ] MPJPE loss: 99.491 | KL loss: 0.974 | Total loss: 100.465\n"
          ]
        },
        {
          "metadata": {
            "tags": null
          },
          "name": "stderr",
          "output_type": "stream",
          "text": [
            "500it [12:29,  1.50s/it]"
          ]
        },
        {
          "metadata": {
            "tags": null
          },
          "name": "stdout",
          "output_type": "stream",
          "text": [
            "[Epoch: 1  | Iteration:   501 | Train ] MPJPE loss: 105.486 | KL loss: 0.970 | Total loss: 106.456\n"
          ]
        },
        {
          "metadata": {
            "tags": null
          },
          "name": "stderr",
          "output_type": "stream",
          "text": [
            "600it [14:59,  1.49s/it]"
          ]
        },
        {
          "metadata": {
            "tags": null
          },
          "name": "stdout",
          "output_type": "stream",
          "text": [
            "[Epoch: 1  | Iteration:   601 | Train ] MPJPE loss: 104.635 | KL loss: 0.967 | Total loss: 105.601\n"
          ]
        },
        {
          "metadata": {
            "tags": null
          },
          "name": "stderr",
          "output_type": "stream",
          "text": [
            "700it [17:29,  1.51s/it]"
          ]
        },
        {
          "metadata": {
            "tags": null
          },
          "name": "stdout",
          "output_type": "stream",
          "text": [
            "[Epoch: 1  | Iteration:   701 | Train ] MPJPE loss: 95.562 | KL loss: 0.963 | Total loss: 96.525\n"
          ]
        },
        {
          "metadata": {
            "tags": null
          },
          "name": "stderr",
          "output_type": "stream",
          "text": [
            "704it [17:35,  1.50s/it]\n",
            "1it [00:01,  1.06s/it]"
          ]
        },
        {
          "metadata": {
            "tags": null
          },
          "name": "stdout",
          "output_type": "stream",
          "text": [
            "\u001b[1m[Epoch: 1  | Iteration:     1 | Val   ] MPJPE loss: 118.894 | KL loss: 0.963 | Total loss: 119.857\u001b[0m\n"
          ]
        },
        {
          "metadata": {
            "tags": null
          },
          "name": "stderr",
          "output_type": "stream",
          "text": [
            "101it [00:48,  2.13it/s]"
          ]
        },
        {
          "metadata": {
            "tags": null
          },
          "name": "stdout",
          "output_type": "stream",
          "text": [
            "\u001b[1m[Epoch: 1  | Iteration:   101 | Val   ] MPJPE loss: 93.423 | KL loss: 0.963 | Total loss: 94.386\u001b[0m\n"
          ]
        },
        {
          "metadata": {
            "tags": null
          },
          "name": "stderr",
          "output_type": "stream",
          "text": [
            "110it [00:53,  2.05it/s]\n",
            "0it [00:00, ?it/s]"
          ]
        },
        {
          "metadata": {
            "tags": null
          },
          "name": "stdout",
          "output_type": "stream",
          "text": [
            "[Epoch: 2  | Iteration:     1 | Train ] MPJPE loss: 99.391 | KL loss: 0.963 | Total loss: 100.354\n"
          ]
        },
        {
          "metadata": {
            "tags": null
          },
          "name": "stderr",
          "output_type": "stream",
          "text": [
            "100it [02:36,  1.55s/it]"
          ]
        },
        {
          "metadata": {
            "tags": null
          },
          "name": "stdout",
          "output_type": "stream",
          "text": [
            "[Epoch: 2  | Iteration:   101 | Train ] MPJPE loss: 97.228 | KL loss: 0.960 | Total loss: 98.188\n"
          ]
        },
        {
          "metadata": {
            "tags": null
          },
          "name": "stderr",
          "output_type": "stream",
          "text": [
            "200it [05:12,  1.55s/it]"
          ]
        },
        {
          "metadata": {
            "tags": null
          },
          "name": "stdout",
          "output_type": "stream",
          "text": [
            "[Epoch: 2  | Iteration:   201 | Train ] MPJPE loss: 90.856 | KL loss: 0.957 | Total loss: 91.813\n"
          ]
        },
        {
          "metadata": {
            "tags": null
          },
          "name": "stderr",
          "output_type": "stream",
          "text": [
            "300it [07:46,  1.52s/it]"
          ]
        },
        {
          "metadata": {
            "tags": null
          },
          "name": "stdout",
          "output_type": "stream",
          "text": [
            "[Epoch: 2  | Iteration:   301 | Train ] MPJPE loss: 97.300 | KL loss: 0.954 | Total loss: 98.253\n"
          ]
        },
        {
          "metadata": {
            "tags": null
          },
          "name": "stderr",
          "output_type": "stream",
          "text": [
            "400it [10:19,  1.51s/it]"
          ]
        },
        {
          "metadata": {
            "tags": null
          },
          "name": "stdout",
          "output_type": "stream",
          "text": [
            "[Epoch: 2  | Iteration:   401 | Train ] MPJPE loss: 90.447 | KL loss: 0.951 | Total loss: 91.398\n"
          ]
        },
        {
          "metadata": {
            "tags": null
          },
          "name": "stderr",
          "output_type": "stream",
          "text": [
            "500it [12:52,  1.53s/it]"
          ]
        },
        {
          "metadata": {
            "tags": null
          },
          "name": "stdout",
          "output_type": "stream",
          "text": [
            "[Epoch: 2  | Iteration:   501 | Train ] MPJPE loss: 96.305 | KL loss: 0.948 | Total loss: 97.253\n"
          ]
        },
        {
          "metadata": {
            "tags": null
          },
          "name": "stderr",
          "output_type": "stream",
          "text": [
            "600it [15:25,  1.53s/it]"
          ]
        },
        {
          "metadata": {
            "tags": null
          },
          "name": "stdout",
          "output_type": "stream",
          "text": [
            "[Epoch: 2  | Iteration:   601 | Train ] MPJPE loss: 92.054 | KL loss: 0.945 | Total loss: 92.999\n"
          ]
        },
        {
          "metadata": {
            "tags": null
          },
          "name": "stderr",
          "output_type": "stream",
          "text": [
            "700it [17:59,  1.55s/it]"
          ]
        },
        {
          "metadata": {
            "tags": null
          },
          "name": "stdout",
          "output_type": "stream",
          "text": [
            "[Epoch: 2  | Iteration:   701 | Train ] MPJPE loss: 95.530 | KL loss: 0.942 | Total loss: 96.472\n"
          ]
        },
        {
          "metadata": {
            "tags": null
          },
          "name": "stderr",
          "output_type": "stream",
          "text": [
            "704it [18:05,  1.54s/it]\n",
            "1it [00:00,  1.21it/s]"
          ]
        },
        {
          "metadata": {
            "tags": null
          },
          "name": "stdout",
          "output_type": "stream",
          "text": [
            "\u001b[1m[Epoch: 2  | Iteration:     1 | Val   ] MPJPE loss: 107.413 | KL loss: 0.942 | Total loss: 108.354\u001b[0m\n"
          ]
        },
        {
          "metadata": {
            "tags": null
          },
          "name": "stderr",
          "output_type": "stream",
          "text": [
            "101it [00:48,  2.12it/s]"
          ]
        },
        {
          "metadata": {
            "tags": null
          },
          "name": "stdout",
          "output_type": "stream",
          "text": [
            "\u001b[1m[Epoch: 2  | Iteration:   101 | Val   ] MPJPE loss: 95.791 | KL loss: 0.942 | Total loss: 96.733\u001b[0m\n"
          ]
        },
        {
          "metadata": {
            "tags": null
          },
          "name": "stderr",
          "output_type": "stream",
          "text": [
            "110it [00:52,  2.08it/s]\n",
            "0it [00:00, ?it/s]"
          ]
        },
        {
          "metadata": {
            "tags": null
          },
          "name": "stdout",
          "output_type": "stream",
          "text": [
            "[Epoch: 3  | Iteration:     1 | Train ] MPJPE loss: 93.483 | KL loss: 0.942 | Total loss: 94.425\n"
          ]
        },
        {
          "metadata": {
            "tags": null
          },
          "name": "stderr",
          "output_type": "stream",
          "text": [
            "100it [02:38,  1.60s/it]"
          ]
        },
        {
          "metadata": {
            "tags": null
          },
          "name": "stdout",
          "output_type": "stream",
          "text": [
            "[Epoch: 3  | Iteration:   101 | Train ] MPJPE loss: 87.465 | KL loss: 0.939 | Total loss: 88.404\n"
          ]
        },
        {
          "metadata": {
            "tags": null
          },
          "name": "stderr",
          "output_type": "stream",
          "text": [
            "200it [05:16,  1.59s/it]"
          ]
        },
        {
          "metadata": {
            "tags": null
          },
          "name": "stdout",
          "output_type": "stream",
          "text": [
            "[Epoch: 3  | Iteration:   201 | Train ] MPJPE loss: 92.503 | KL loss: 0.936 | Total loss: 93.439\n"
          ]
        },
        {
          "metadata": {
            "tags": null
          },
          "name": "stderr",
          "output_type": "stream",
          "text": [
            "300it [07:52,  1.56s/it]"
          ]
        },
        {
          "metadata": {
            "tags": null
          },
          "name": "stdout",
          "output_type": "stream",
          "text": [
            "[Epoch: 3  | Iteration:   301 | Train ] MPJPE loss: 98.028 | KL loss: 0.933 | Total loss: 98.961\n"
          ]
        },
        {
          "metadata": {
            "tags": null
          },
          "name": "stderr",
          "output_type": "stream",
          "text": [
            "400it [10:27,  1.54s/it]"
          ]
        },
        {
          "metadata": {
            "tags": null
          },
          "name": "stdout",
          "output_type": "stream",
          "text": [
            "[Epoch: 3  | Iteration:   401 | Train ] MPJPE loss: 90.373 | KL loss: 0.930 | Total loss: 91.303\n"
          ]
        },
        {
          "metadata": {
            "tags": null
          },
          "name": "stderr",
          "output_type": "stream",
          "text": [
            "500it [13:01,  1.54s/it]"
          ]
        },
        {
          "metadata": {
            "tags": null
          },
          "name": "stdout",
          "output_type": "stream",
          "text": [
            "[Epoch: 3  | Iteration:   501 | Train ] MPJPE loss: 100.479 | KL loss: 0.927 | Total loss: 101.406\n"
          ]
        },
        {
          "metadata": {
            "tags": null
          },
          "name": "stderr",
          "output_type": "stream",
          "text": [
            "600it [15:34,  1.53s/it]"
          ]
        },
        {
          "metadata": {
            "tags": null
          },
          "name": "stdout",
          "output_type": "stream",
          "text": [
            "[Epoch: 3  | Iteration:   601 | Train ] MPJPE loss: 88.639 | KL loss: 0.925 | Total loss: 89.563\n"
          ]
        },
        {
          "metadata": {
            "tags": null
          },
          "name": "stderr",
          "output_type": "stream",
          "text": [
            "700it [18:07,  1.54s/it]"
          ]
        },
        {
          "metadata": {
            "tags": null
          },
          "name": "stdout",
          "output_type": "stream",
          "text": [
            "[Epoch: 3  | Iteration:   701 | Train ] MPJPE loss: 94.344 | KL loss: 0.922 | Total loss: 95.266\n"
          ]
        },
        {
          "metadata": {
            "tags": null
          },
          "name": "stderr",
          "output_type": "stream",
          "text": [
            "704it [18:14,  1.55s/it]\n",
            "1it [00:00,  1.23it/s]"
          ]
        },
        {
          "metadata": {
            "tags": null
          },
          "name": "stdout",
          "output_type": "stream",
          "text": [
            "\u001b[1m[Epoch: 3  | Iteration:     1 | Val   ] MPJPE loss: 106.476 | KL loss: 0.922 | Total loss: 107.398\u001b[0m\n"
          ]
        },
        {
          "metadata": {
            "tags": null
          },
          "name": "stderr",
          "output_type": "stream",
          "text": [
            "101it [00:48,  2.12it/s]"
          ]
        },
        {
          "metadata": {
            "tags": null
          },
          "name": "stdout",
          "output_type": "stream",
          "text": [
            "\u001b[1m[Epoch: 3  | Iteration:   101 | Val   ] MPJPE loss: 93.892 | KL loss: 0.922 | Total loss: 94.814\u001b[0m\n"
          ]
        },
        {
          "metadata": {
            "tags": null
          },
          "name": "stderr",
          "output_type": "stream",
          "text": [
            "110it [00:53,  2.04it/s]\n",
            "0it [00:00, ?it/s]"
          ]
        },
        {
          "metadata": {
            "tags": null
          },
          "name": "stdout",
          "output_type": "stream",
          "text": [
            "[Epoch: 4  | Iteration:     1 | Train ] MPJPE loss: 98.691 | KL loss: 0.922 | Total loss: 99.612\n"
          ]
        },
        {
          "metadata": {
            "tags": null
          },
          "name": "stderr",
          "output_type": "stream",
          "text": [
            "100it [02:39,  1.59s/it]"
          ]
        },
        {
          "metadata": {
            "tags": null
          },
          "name": "stdout",
          "output_type": "stream",
          "text": [
            "[Epoch: 4  | Iteration:   101 | Train ] MPJPE loss: 90.255 | KL loss: 0.919 | Total loss: 91.174\n"
          ]
        },
        {
          "metadata": {
            "tags": null
          },
          "name": "stderr",
          "output_type": "stream",
          "text": [
            "200it [05:17,  1.57s/it]"
          ]
        },
        {
          "metadata": {
            "tags": null
          },
          "name": "stdout",
          "output_type": "stream",
          "text": [
            "[Epoch: 4  | Iteration:   201 | Train ] MPJPE loss: 97.017 | KL loss: 0.916 | Total loss: 97.933\n"
          ]
        },
        {
          "metadata": {
            "tags": null
          },
          "name": "stderr",
          "output_type": "stream",
          "text": [
            "300it [07:53,  1.55s/it]"
          ]
        },
        {
          "metadata": {
            "tags": null
          },
          "name": "stdout",
          "output_type": "stream",
          "text": [
            "[Epoch: 4  | Iteration:   301 | Train ] MPJPE loss: 95.521 | KL loss: 0.913 | Total loss: 96.434\n"
          ]
        },
        {
          "metadata": {
            "tags": null
          },
          "name": "stderr",
          "output_type": "stream",
          "text": [
            "400it [10:28,  1.55s/it]"
          ]
        },
        {
          "metadata": {
            "tags": null
          },
          "name": "stdout",
          "output_type": "stream",
          "text": [
            "[Epoch: 4  | Iteration:   401 | Train ] MPJPE loss: 92.112 | KL loss: 0.910 | Total loss: 93.022\n"
          ]
        },
        {
          "metadata": {
            "tags": null
          },
          "name": "stderr",
          "output_type": "stream",
          "text": [
            "500it [13:02,  1.54s/it]"
          ]
        },
        {
          "metadata": {
            "tags": null
          },
          "name": "stdout",
          "output_type": "stream",
          "text": [
            "[Epoch: 4  | Iteration:   501 | Train ] MPJPE loss: 93.325 | KL loss: 0.908 | Total loss: 94.232\n"
          ]
        },
        {
          "metadata": {
            "tags": null
          },
          "name": "stderr",
          "output_type": "stream",
          "text": [
            "600it [15:37,  1.61s/it]"
          ]
        },
        {
          "metadata": {
            "tags": null
          },
          "name": "stdout",
          "output_type": "stream",
          "text": [
            "[Epoch: 4  | Iteration:   601 | Train ] MPJPE loss: 91.801 | KL loss: 0.905 | Total loss: 92.705\n"
          ]
        },
        {
          "metadata": {
            "tags": null
          },
          "name": "stderr",
          "output_type": "stream",
          "text": [
            "700it [18:10,  1.56s/it]"
          ]
        },
        {
          "metadata": {
            "tags": null
          },
          "name": "stdout",
          "output_type": "stream",
          "text": [
            "[Epoch: 4  | Iteration:   701 | Train ] MPJPE loss: 94.279 | KL loss: 0.902 | Total loss: 95.181\n"
          ]
        },
        {
          "metadata": {
            "tags": null
          },
          "name": "stderr",
          "output_type": "stream",
          "text": [
            "704it [18:17,  1.56s/it]\n",
            "1it [00:00,  1.15it/s]"
          ]
        },
        {
          "metadata": {
            "tags": null
          },
          "name": "stdout",
          "output_type": "stream",
          "text": [
            "\u001b[1m[Epoch: 4  | Iteration:     1 | Val   ] MPJPE loss: 103.428 | KL loss: 0.902 | Total loss: 104.330\u001b[0m\n"
          ]
        },
        {
          "metadata": {
            "tags": null
          },
          "name": "stderr",
          "output_type": "stream",
          "text": [
            "101it [00:48,  2.08it/s]"
          ]
        },
        {
          "metadata": {
            "tags": null
          },
          "name": "stdout",
          "output_type": "stream",
          "text": [
            "\u001b[1m[Epoch: 4  | Iteration:   101 | Val   ] MPJPE loss: 94.011 | KL loss: 0.902 | Total loss: 94.913\u001b[0m\n"
          ]
        },
        {
          "metadata": {
            "tags": null
          },
          "name": "stderr",
          "output_type": "stream",
          "text": [
            "110it [00:53,  2.04it/s]\n",
            "0it [00:00, ?it/s]"
          ]
        },
        {
          "metadata": {
            "tags": null
          },
          "name": "stdout",
          "output_type": "stream",
          "text": [
            "[Epoch: 5  | Iteration:     1 | Train ] MPJPE loss: 90.107 | KL loss: 0.902 | Total loss: 91.009\n"
          ]
        },
        {
          "metadata": {
            "tags": null
          },
          "name": "stderr",
          "output_type": "stream",
          "text": [
            "100it [02:38,  1.59s/it]"
          ]
        },
        {
          "metadata": {
            "tags": null
          },
          "name": "stdout",
          "output_type": "stream",
          "text": [
            "[Epoch: 5  | Iteration:   101 | Train ] MPJPE loss: 99.285 | KL loss: 0.899 | Total loss: 100.184\n"
          ]
        },
        {
          "metadata": {
            "tags": null
          },
          "name": "stderr",
          "output_type": "stream",
          "text": [
            "200it [05:16,  1.56s/it]"
          ]
        },
        {
          "metadata": {
            "tags": null
          },
          "name": "stdout",
          "output_type": "stream",
          "text": [
            "[Epoch: 5  | Iteration:   201 | Train ] MPJPE loss: 94.395 | KL loss: 0.896 | Total loss: 95.292\n"
          ]
        },
        {
          "metadata": {
            "tags": null
          },
          "name": "stderr",
          "output_type": "stream",
          "text": [
            "300it [07:51,  1.53s/it]"
          ]
        },
        {
          "metadata": {
            "tags": null
          },
          "name": "stdout",
          "output_type": "stream",
          "text": [
            "[Epoch: 5  | Iteration:   301 | Train ] MPJPE loss: 91.859 | KL loss: 0.893 | Total loss: 92.752\n"
          ]
        },
        {
          "metadata": {
            "tags": null
          },
          "name": "stderr",
          "output_type": "stream",
          "text": [
            "400it [10:26,  1.54s/it]"
          ]
        },
        {
          "metadata": {
            "tags": null
          },
          "name": "stdout",
          "output_type": "stream",
          "text": [
            "[Epoch: 5  | Iteration:   401 | Train ] MPJPE loss: 90.272 | KL loss: 0.891 | Total loss: 91.163\n"
          ]
        },
        {
          "metadata": {
            "tags": null
          },
          "name": "stderr",
          "output_type": "stream",
          "text": [
            "500it [12:59,  1.52s/it]"
          ]
        },
        {
          "metadata": {
            "tags": null
          },
          "name": "stdout",
          "output_type": "stream",
          "text": [
            "[Epoch: 5  | Iteration:   501 | Train ] MPJPE loss: 88.511 | KL loss: 0.888 | Total loss: 89.399\n"
          ]
        },
        {
          "metadata": {
            "tags": null
          },
          "name": "stderr",
          "output_type": "stream",
          "text": [
            "600it [15:32,  1.53s/it]"
          ]
        },
        {
          "metadata": {
            "tags": null
          },
          "name": "stdout",
          "output_type": "stream",
          "text": [
            "[Epoch: 5  | Iteration:   601 | Train ] MPJPE loss: 89.132 | KL loss: 0.885 | Total loss: 90.017\n"
          ]
        },
        {
          "metadata": {
            "tags": null
          },
          "name": "stderr",
          "output_type": "stream",
          "text": [
            "700it [18:05,  1.54s/it]"
          ]
        },
        {
          "metadata": {
            "tags": null
          },
          "name": "stdout",
          "output_type": "stream",
          "text": [
            "[Epoch: 5  | Iteration:   701 | Train ] MPJPE loss: 91.259 | KL loss: 0.882 | Total loss: 92.141\n"
          ]
        },
        {
          "metadata": {
            "tags": null
          },
          "name": "stderr",
          "output_type": "stream",
          "text": [
            "704it [18:11,  1.55s/it]\n",
            "1it [00:00,  1.63it/s]"
          ]
        },
        {
          "metadata": {
            "tags": null
          },
          "name": "stdout",
          "output_type": "stream",
          "text": [
            "\u001b[1m[Epoch: 5  | Iteration:     1 | Val   ] MPJPE loss: 99.078 | KL loss: 0.882 | Total loss: 99.960\u001b[0m\n"
          ]
        },
        {
          "metadata": {
            "tags": null
          },
          "name": "stderr",
          "output_type": "stream",
          "text": [
            "101it [00:47,  2.06it/s]"
          ]
        },
        {
          "metadata": {
            "tags": null
          },
          "name": "stdout",
          "output_type": "stream",
          "text": [
            "\u001b[1m[Epoch: 5  | Iteration:   101 | Val   ] MPJPE loss: 93.684 | KL loss: 0.882 | Total loss: 94.567\u001b[0m\n"
          ]
        },
        {
          "metadata": {
            "tags": null
          },
          "name": "stderr",
          "output_type": "stream",
          "text": [
            "110it [00:52,  2.10it/s]\n",
            "0it [00:00, ?it/s]"
          ]
        },
        {
          "metadata": {
            "tags": null
          },
          "name": "stdout",
          "output_type": "stream",
          "text": [
            "[Epoch: 6  | Iteration:     1 | Train ] MPJPE loss: 91.637 | KL loss: 0.882 | Total loss: 92.520\n"
          ]
        },
        {
          "metadata": {
            "tags": null
          },
          "name": "stderr",
          "output_type": "stream",
          "text": [
            "100it [02:37,  1.58s/it]"
          ]
        },
        {
          "metadata": {
            "tags": null
          },
          "name": "stdout",
          "output_type": "stream",
          "text": [
            "[Epoch: 6  | Iteration:   101 | Train ] MPJPE loss: 88.720 | KL loss: 0.880 | Total loss: 89.599\n"
          ]
        },
        {
          "output_type": "stream",
          "name": "stderr",
          "text": [
            "200it [05:15,  1.56s/it]"
          ]
        },
        {
          "output_type": "stream",
          "name": "stdout",
          "text": [
            "[Epoch: 6  | Iteration:   201 | Train ] MPJPE loss: 91.691 | KL loss: 0.877 | Total loss: 92.568\n"
          ]
        },
        {
          "output_type": "stream",
          "name": "stderr",
          "text": [
            "300it [07:50,  1.54s/it]"
          ]
        },
        {
          "output_type": "stream",
          "name": "stdout",
          "text": [
            "[Epoch: 6  | Iteration:   301 | Train ] MPJPE loss: 87.276 | KL loss: 0.874 | Total loss: 88.150\n"
          ]
        },
        {
          "output_type": "stream",
          "name": "stderr",
          "text": [
            "400it [10:24,  1.53s/it]"
          ]
        },
        {
          "output_type": "stream",
          "name": "stdout",
          "text": [
            "[Epoch: 6  | Iteration:   401 | Train ] MPJPE loss: 88.402 | KL loss: 0.871 | Total loss: 89.273\n"
          ]
        },
        {
          "output_type": "stream",
          "name": "stderr",
          "text": [
            "500it [12:58,  1.58s/it]"
          ]
        },
        {
          "output_type": "stream",
          "name": "stdout",
          "text": [
            "[Epoch: 6  | Iteration:   501 | Train ] MPJPE loss: 85.857 | KL loss: 0.869 | Total loss: 86.725\n"
          ]
        },
        {
          "output_type": "stream",
          "name": "stderr",
          "text": [
            "600it [15:31,  1.54s/it]"
          ]
        },
        {
          "output_type": "stream",
          "name": "stdout",
          "text": [
            "[Epoch: 6  | Iteration:   601 | Train ] MPJPE loss: 93.057 | KL loss: 0.866 | Total loss: 93.923\n"
          ]
        },
        {
          "output_type": "stream",
          "name": "stderr",
          "text": [
            "700it [18:04,  1.56s/it]"
          ]
        },
        {
          "output_type": "stream",
          "name": "stdout",
          "text": [
            "[Epoch: 6  | Iteration:   701 | Train ] MPJPE loss: 81.536 | KL loss: 0.863 | Total loss: 82.399\n"
          ]
        },
        {
          "output_type": "stream",
          "name": "stderr",
          "text": [
            "704it [18:11,  1.55s/it]\n",
            "1it [00:00,  1.15it/s]"
          ]
        },
        {
          "output_type": "stream",
          "name": "stdout",
          "text": [
            "\u001b[1m[Epoch: 6  | Iteration:     1 | Val   ] MPJPE loss: 97.907 | KL loss: 0.863 | Total loss: 98.770\u001b[0m\n"
          ]
        },
        {
          "output_type": "stream",
          "name": "stderr",
          "text": [
            "101it [00:48,  2.11it/s]"
          ]
        },
        {
          "output_type": "stream",
          "name": "stdout",
          "text": [
            "\u001b[1m[Epoch: 6  | Iteration:   101 | Val   ] MPJPE loss: 92.916 | KL loss: 0.863 | Total loss: 93.779\u001b[0m\n"
          ]
        },
        {
          "output_type": "stream",
          "name": "stderr",
          "text": [
            "110it [00:53,  2.05it/s]\n",
            "0it [00:00, ?it/s]"
          ]
        },
        {
          "output_type": "stream",
          "name": "stdout",
          "text": [
            "[Epoch: 7  | Iteration:     1 | Train ] MPJPE loss: 89.250 | KL loss: 0.863 | Total loss: 90.113\n"
          ]
        },
        {
          "output_type": "stream",
          "name": "stderr",
          "text": [
            "100it [02:38,  1.57s/it]"
          ]
        },
        {
          "output_type": "stream",
          "name": "stdout",
          "text": [
            "[Epoch: 7  | Iteration:   101 | Train ] MPJPE loss: 93.513 | KL loss: 0.860 | Total loss: 94.374\n"
          ]
        },
        {
          "output_type": "stream",
          "name": "stderr",
          "text": [
            "200it [05:16,  1.58s/it]"
          ]
        },
        {
          "output_type": "stream",
          "name": "stdout",
          "text": [
            "[Epoch: 7  | Iteration:   201 | Train ] MPJPE loss: 92.562 | KL loss: 0.858 | Total loss: 93.420\n"
          ]
        },
        {
          "output_type": "stream",
          "name": "stderr",
          "text": [
            "300it [07:51,  1.54s/it]"
          ]
        },
        {
          "output_type": "stream",
          "name": "stdout",
          "text": [
            "[Epoch: 7  | Iteration:   301 | Train ] MPJPE loss: 89.314 | KL loss: 0.855 | Total loss: 90.169\n"
          ]
        },
        {
          "output_type": "stream",
          "name": "stderr",
          "text": [
            "400it [10:26,  1.54s/it]"
          ]
        },
        {
          "output_type": "stream",
          "name": "stdout",
          "text": [
            "[Epoch: 7  | Iteration:   401 | Train ] MPJPE loss: 85.862 | KL loss: 0.852 | Total loss: 86.714\n"
          ]
        },
        {
          "output_type": "stream",
          "name": "stderr",
          "text": [
            "500it [13:01,  1.54s/it]"
          ]
        },
        {
          "output_type": "stream",
          "name": "stdout",
          "text": [
            "[Epoch: 7  | Iteration:   501 | Train ] MPJPE loss: 87.047 | KL loss: 0.850 | Total loss: 87.897\n"
          ]
        },
        {
          "output_type": "stream",
          "name": "stderr",
          "text": [
            "600it [15:35,  1.53s/it]"
          ]
        },
        {
          "output_type": "stream",
          "name": "stdout",
          "text": [
            "[Epoch: 7  | Iteration:   601 | Train ] MPJPE loss: 88.552 | KL loss: 0.847 | Total loss: 89.398\n"
          ]
        },
        {
          "output_type": "stream",
          "name": "stderr",
          "text": [
            "700it [18:08,  1.55s/it]"
          ]
        },
        {
          "output_type": "stream",
          "name": "stdout",
          "text": [
            "[Epoch: 7  | Iteration:   701 | Train ] MPJPE loss: 90.490 | KL loss: 0.844 | Total loss: 91.335\n"
          ]
        },
        {
          "output_type": "stream",
          "name": "stderr",
          "text": [
            "704it [18:15,  1.56s/it]\n",
            "1it [00:00,  1.19it/s]"
          ]
        },
        {
          "output_type": "stream",
          "name": "stdout",
          "text": [
            "\u001b[1m[Epoch: 7  | Iteration:     1 | Val   ] MPJPE loss: 94.965 | KL loss: 0.844 | Total loss: 95.809\u001b[0m\n"
          ]
        },
        {
          "output_type": "stream",
          "name": "stderr",
          "text": [
            "101it [00:49,  2.06it/s]"
          ]
        },
        {
          "output_type": "stream",
          "name": "stdout",
          "text": [
            "\u001b[1m[Epoch: 7  | Iteration:   101 | Val   ] MPJPE loss: 93.246 | KL loss: 0.844 | Total loss: 94.090\u001b[0m\n"
          ]
        },
        {
          "output_type": "stream",
          "name": "stderr",
          "text": [
            "110it [00:55,  1.99it/s]\n",
            "0it [00:00, ?it/s]"
          ]
        },
        {
          "output_type": "stream",
          "name": "stdout",
          "text": [
            "[Epoch: 8  | Iteration:     1 | Train ] MPJPE loss: 94.097 | KL loss: 0.844 | Total loss: 94.941\n"
          ]
        },
        {
          "output_type": "stream",
          "name": "stderr",
          "text": [
            "100it [02:40,  1.59s/it]"
          ]
        },
        {
          "output_type": "stream",
          "name": "stdout",
          "text": [
            "[Epoch: 8  | Iteration:   101 | Train ] MPJPE loss: 85.580 | KL loss: 0.841 | Total loss: 86.421\n"
          ]
        },
        {
          "output_type": "stream",
          "name": "stderr",
          "text": [
            "200it [05:18,  1.58s/it]"
          ]
        },
        {
          "output_type": "stream",
          "name": "stdout",
          "text": [
            "[Epoch: 8  | Iteration:   201 | Train ] MPJPE loss: 90.558 | KL loss: 0.839 | Total loss: 91.396\n"
          ]
        },
        {
          "output_type": "stream",
          "name": "stderr",
          "text": [
            "300it [07:55,  1.54s/it]"
          ]
        },
        {
          "output_type": "stream",
          "name": "stdout",
          "text": [
            "[Epoch: 8  | Iteration:   301 | Train ] MPJPE loss: 90.414 | KL loss: 0.836 | Total loss: 91.249\n"
          ]
        },
        {
          "output_type": "stream",
          "name": "stderr",
          "text": [
            "400it [10:31,  1.60s/it]"
          ]
        },
        {
          "output_type": "stream",
          "name": "stdout",
          "text": [
            "[Epoch: 8  | Iteration:   401 | Train ] MPJPE loss: 82.578 | KL loss: 0.833 | Total loss: 83.411\n"
          ]
        },
        {
          "output_type": "stream",
          "name": "stderr",
          "text": [
            "500it [13:06,  1.55s/it]"
          ]
        },
        {
          "output_type": "stream",
          "name": "stdout",
          "text": [
            "[Epoch: 8  | Iteration:   501 | Train ] MPJPE loss: 94.255 | KL loss: 0.831 | Total loss: 95.086\n"
          ]
        },
        {
          "output_type": "stream",
          "name": "stderr",
          "text": [
            "600it [15:40,  1.54s/it]"
          ]
        },
        {
          "output_type": "stream",
          "name": "stdout",
          "text": [
            "[Epoch: 8  | Iteration:   601 | Train ] MPJPE loss: 85.530 | KL loss: 0.828 | Total loss: 86.358\n"
          ]
        },
        {
          "output_type": "stream",
          "name": "stderr",
          "text": [
            "700it [18:13,  1.54s/it]"
          ]
        },
        {
          "output_type": "stream",
          "name": "stdout",
          "text": [
            "[Epoch: 8  | Iteration:   701 | Train ] MPJPE loss: 86.636 | KL loss: 0.825 | Total loss: 87.461\n"
          ]
        },
        {
          "output_type": "stream",
          "name": "stderr",
          "text": [
            "704it [18:20,  1.56s/it]\n",
            "1it [00:00,  1.14it/s]"
          ]
        },
        {
          "output_type": "stream",
          "name": "stdout",
          "text": [
            "\u001b[1m[Epoch: 8  | Iteration:     1 | Val   ] MPJPE loss: 91.164 | KL loss: 0.825 | Total loss: 91.989\u001b[0m\n"
          ]
        },
        {
          "output_type": "stream",
          "name": "stderr",
          "text": [
            "101it [00:48,  2.08it/s]"
          ]
        },
        {
          "output_type": "stream",
          "name": "stdout",
          "text": [
            "\u001b[1m[Epoch: 8  | Iteration:   101 | Val   ] MPJPE loss: 92.812 | KL loss: 0.825 | Total loss: 93.637\u001b[0m\n"
          ]
        },
        {
          "output_type": "stream",
          "name": "stderr",
          "text": [
            "110it [00:54,  2.03it/s]\n",
            "0it [00:00, ?it/s]"
          ]
        },
        {
          "output_type": "stream",
          "name": "stdout",
          "text": [
            "[Epoch: 9  | Iteration:     1 | Train ] MPJPE loss: 91.977 | KL loss: 0.825 | Total loss: 92.802\n"
          ]
        },
        {
          "output_type": "stream",
          "name": "stderr",
          "text": [
            "100it [02:39,  1.58s/it]"
          ]
        },
        {
          "output_type": "stream",
          "name": "stdout",
          "text": [
            "[Epoch: 9  | Iteration:   101 | Train ] MPJPE loss: 86.483 | KL loss: 0.822 | Total loss: 87.306\n"
          ]
        },
        {
          "output_type": "stream",
          "name": "stderr",
          "text": [
            "200it [05:18,  1.57s/it]"
          ]
        },
        {
          "output_type": "stream",
          "name": "stdout",
          "text": [
            "[Epoch: 9  | Iteration:   201 | Train ] MPJPE loss: 88.794 | KL loss: 0.820 | Total loss: 89.614\n"
          ]
        },
        {
          "output_type": "stream",
          "name": "stderr",
          "text": [
            "300it [07:55,  1.56s/it]"
          ]
        },
        {
          "output_type": "stream",
          "name": "stdout",
          "text": [
            "[Epoch: 9  | Iteration:   301 | Train ] MPJPE loss: 92.130 | KL loss: 0.817 | Total loss: 92.947\n"
          ]
        },
        {
          "output_type": "stream",
          "name": "stderr",
          "text": [
            "400it [10:30,  1.55s/it]"
          ]
        },
        {
          "output_type": "stream",
          "name": "stdout",
          "text": [
            "[Epoch: 9  | Iteration:   401 | Train ] MPJPE loss: 84.479 | KL loss: 0.814 | Total loss: 85.293\n"
          ]
        },
        {
          "output_type": "stream",
          "name": "stderr",
          "text": [
            "500it [13:04,  1.53s/it]"
          ]
        },
        {
          "output_type": "stream",
          "name": "stdout",
          "text": [
            "[Epoch: 9  | Iteration:   501 | Train ] MPJPE loss: 91.306 | KL loss: 0.812 | Total loss: 92.118\n"
          ]
        },
        {
          "output_type": "stream",
          "name": "stderr",
          "text": [
            "600it [15:38,  1.53s/it]"
          ]
        },
        {
          "output_type": "stream",
          "name": "stdout",
          "text": [
            "[Epoch: 9  | Iteration:   601 | Train ] MPJPE loss: 84.996 | KL loss: 0.809 | Total loss: 85.805\n"
          ]
        },
        {
          "output_type": "stream",
          "name": "stderr",
          "text": [
            "700it [18:11,  1.55s/it]"
          ]
        },
        {
          "output_type": "stream",
          "name": "stdout",
          "text": [
            "[Epoch: 9  | Iteration:   701 | Train ] MPJPE loss: 85.760 | KL loss: 0.806 | Total loss: 86.567\n"
          ]
        },
        {
          "output_type": "stream",
          "name": "stderr",
          "text": [
            "704it [18:18,  1.56s/it]\n",
            "1it [00:00,  1.13it/s]"
          ]
        },
        {
          "output_type": "stream",
          "name": "stdout",
          "text": [
            "\u001b[1m[Epoch: 9  | Iteration:     1 | Val   ] MPJPE loss: 89.615 | KL loss: 0.806 | Total loss: 90.421\u001b[0m\n"
          ]
        },
        {
          "output_type": "stream",
          "name": "stderr",
          "text": [
            "101it [00:49,  2.08it/s]"
          ]
        },
        {
          "output_type": "stream",
          "name": "stdout",
          "text": [
            "\u001b[1m[Epoch: 9  | Iteration:   101 | Val   ] MPJPE loss: 92.937 | KL loss: 0.806 | Total loss: 93.744\u001b[0m\n"
          ]
        },
        {
          "output_type": "stream",
          "name": "stderr",
          "text": [
            "110it [00:54,  2.02it/s]\n",
            "0it [00:00, ?it/s]"
          ]
        },
        {
          "output_type": "stream",
          "name": "stdout",
          "text": [
            "[Epoch: 10 | Iteration:     1 | Train ] MPJPE loss: 88.934 | KL loss: 0.806 | Total loss: 89.740\n"
          ]
        },
        {
          "output_type": "stream",
          "name": "stderr",
          "text": [
            "100it [02:37,  1.59s/it]"
          ]
        },
        {
          "output_type": "stream",
          "name": "stdout",
          "text": [
            "[Epoch: 10 | Iteration:   101 | Train ] MPJPE loss: 91.605 | KL loss: 0.803 | Total loss: 92.409\n"
          ]
        },
        {
          "output_type": "stream",
          "name": "stderr",
          "text": [
            "200it [05:14,  1.59s/it]"
          ]
        },
        {
          "output_type": "stream",
          "name": "stdout",
          "text": [
            "[Epoch: 10 | Iteration:   201 | Train ] MPJPE loss: 86.191 | KL loss: 0.801 | Total loss: 86.992\n"
          ]
        },
        {
          "output_type": "stream",
          "name": "stderr",
          "text": [
            "300it [07:50,  1.57s/it]"
          ]
        },
        {
          "output_type": "stream",
          "name": "stdout",
          "text": [
            "[Epoch: 10 | Iteration:   301 | Train ] MPJPE loss: 90.596 | KL loss: 0.798 | Total loss: 91.394\n"
          ]
        },
        {
          "output_type": "stream",
          "name": "stderr",
          "text": [
            "400it [10:24,  1.55s/it]"
          ]
        },
        {
          "output_type": "stream",
          "name": "stdout",
          "text": [
            "[Epoch: 10 | Iteration:   401 | Train ] MPJPE loss: 85.370 | KL loss: 0.795 | Total loss: 86.166\n"
          ]
        },
        {
          "output_type": "stream",
          "name": "stderr",
          "text": [
            "500it [12:58,  1.54s/it]"
          ]
        },
        {
          "output_type": "stream",
          "name": "stdout",
          "text": [
            "[Epoch: 10 | Iteration:   501 | Train ] MPJPE loss: 90.168 | KL loss: 0.793 | Total loss: 90.961\n"
          ]
        },
        {
          "output_type": "stream",
          "name": "stderr",
          "text": [
            "600it [15:32,  1.54s/it]"
          ]
        },
        {
          "output_type": "stream",
          "name": "stdout",
          "text": [
            "[Epoch: 10 | Iteration:   601 | Train ] MPJPE loss: 85.572 | KL loss: 0.790 | Total loss: 86.363\n"
          ]
        },
        {
          "output_type": "stream",
          "name": "stderr",
          "text": [
            "700it [18:06,  1.55s/it]"
          ]
        },
        {
          "output_type": "stream",
          "name": "stdout",
          "text": [
            "[Epoch: 10 | Iteration:   701 | Train ] MPJPE loss: 88.968 | KL loss: 0.787 | Total loss: 89.755\n"
          ]
        },
        {
          "output_type": "stream",
          "name": "stderr",
          "text": [
            "704it [18:13,  1.55s/it]\n",
            "1it [00:00,  1.16it/s]"
          ]
        },
        {
          "output_type": "stream",
          "name": "stdout",
          "text": [
            "\u001b[1m[Epoch: 10 | Iteration:     1 | Val   ] MPJPE loss: 86.931 | KL loss: 0.787 | Total loss: 87.719\u001b[0m\n"
          ]
        },
        {
          "output_type": "stream",
          "name": "stderr",
          "text": [
            "101it [00:48,  2.10it/s]"
          ]
        },
        {
          "output_type": "stream",
          "name": "stdout",
          "text": [
            "\u001b[1m[Epoch: 10 | Iteration:   101 | Val   ] MPJPE loss: 92.474 | KL loss: 0.787 | Total loss: 93.262\u001b[0m\n"
          ]
        },
        {
          "output_type": "stream",
          "name": "stderr",
          "text": [
            "110it [00:54,  2.03it/s]\n",
            "0it [00:00, ?it/s]"
          ]
        },
        {
          "output_type": "stream",
          "name": "stdout",
          "text": [
            "[Epoch: 11 | Iteration:     1 | Train ] MPJPE loss: 92.343 | KL loss: 0.787 | Total loss: 93.131\n"
          ]
        },
        {
          "output_type": "stream",
          "name": "stderr",
          "text": [
            "100it [02:39,  1.60s/it]"
          ]
        },
        {
          "output_type": "stream",
          "name": "stdout",
          "text": [
            "[Epoch: 11 | Iteration:   101 | Train ] MPJPE loss: 90.764 | KL loss: 0.785 | Total loss: 91.549\n"
          ]
        },
        {
          "output_type": "stream",
          "name": "stderr",
          "text": [
            "200it [05:18,  1.58s/it]"
          ]
        },
        {
          "output_type": "stream",
          "name": "stdout",
          "text": [
            "[Epoch: 11 | Iteration:   201 | Train ] MPJPE loss: 89.349 | KL loss: 0.782 | Total loss: 90.132\n"
          ]
        },
        {
          "output_type": "stream",
          "name": "stderr",
          "text": [
            "300it [07:56,  1.54s/it]"
          ]
        },
        {
          "output_type": "stream",
          "name": "stdout",
          "text": [
            "[Epoch: 11 | Iteration:   301 | Train ] MPJPE loss: 83.101 | KL loss: 0.779 | Total loss: 83.881\n"
          ]
        },
        {
          "output_type": "stream",
          "name": "stderr",
          "text": [
            "400it [10:31,  1.53s/it]"
          ]
        },
        {
          "output_type": "stream",
          "name": "stdout",
          "text": [
            "[Epoch: 11 | Iteration:   401 | Train ] MPJPE loss: 85.503 | KL loss: 0.777 | Total loss: 86.279\n"
          ]
        },
        {
          "output_type": "stream",
          "name": "stderr",
          "text": [
            "500it [13:05,  1.54s/it]"
          ]
        },
        {
          "output_type": "stream",
          "name": "stdout",
          "text": [
            "[Epoch: 11 | Iteration:   501 | Train ] MPJPE loss: 86.172 | KL loss: 0.774 | Total loss: 86.946\n"
          ]
        },
        {
          "output_type": "stream",
          "name": "stderr",
          "text": [
            "600it [15:40,  1.59s/it]"
          ]
        },
        {
          "output_type": "stream",
          "name": "stdout",
          "text": [
            "[Epoch: 11 | Iteration:   601 | Train ] MPJPE loss: 91.329 | KL loss: 0.771 | Total loss: 92.100\n"
          ]
        },
        {
          "output_type": "stream",
          "name": "stderr",
          "text": [
            "700it [18:12,  1.54s/it]"
          ]
        },
        {
          "output_type": "stream",
          "name": "stdout",
          "text": [
            "[Epoch: 11 | Iteration:   701 | Train ] MPJPE loss: 87.632 | KL loss: 0.769 | Total loss: 88.401\n"
          ]
        },
        {
          "output_type": "stream",
          "name": "stderr",
          "text": [
            "704it [18:19,  1.56s/it]\n",
            "1it [00:00,  1.18it/s]"
          ]
        },
        {
          "output_type": "stream",
          "name": "stdout",
          "text": [
            "\u001b[1m[Epoch: 11 | Iteration:     1 | Val   ] MPJPE loss: 85.668 | KL loss: 0.769 | Total loss: 86.436\u001b[0m\n"
          ]
        },
        {
          "output_type": "stream",
          "name": "stderr",
          "text": [
            "101it [00:48,  2.09it/s]"
          ]
        },
        {
          "output_type": "stream",
          "name": "stdout",
          "text": [
            "\u001b[1m[Epoch: 11 | Iteration:   101 | Val   ] MPJPE loss: 91.552 | KL loss: 0.769 | Total loss: 92.321\u001b[0m\n"
          ]
        },
        {
          "output_type": "stream",
          "name": "stderr",
          "text": [
            "110it [00:53,  2.05it/s]\n",
            "0it [00:00, ?it/s]"
          ]
        },
        {
          "output_type": "stream",
          "name": "stdout",
          "text": [
            "[Epoch: 12 | Iteration:     1 | Train ] MPJPE loss: 83.736 | KL loss: 0.769 | Total loss: 84.505\n"
          ]
        },
        {
          "output_type": "stream",
          "name": "stderr",
          "text": [
            "100it [02:39,  1.58s/it]"
          ]
        },
        {
          "output_type": "stream",
          "name": "stdout",
          "text": [
            "[Epoch: 12 | Iteration:   101 | Train ] MPJPE loss: 87.711 | KL loss: 0.766 | Total loss: 88.477\n"
          ]
        },
        {
          "output_type": "stream",
          "name": "stderr",
          "text": [
            "200it [05:17,  1.59s/it]"
          ]
        },
        {
          "output_type": "stream",
          "name": "stdout",
          "text": [
            "[Epoch: 12 | Iteration:   201 | Train ] MPJPE loss: 82.508 | KL loss: 0.763 | Total loss: 83.271\n"
          ]
        },
        {
          "output_type": "stream",
          "name": "stderr",
          "text": [
            "300it [07:54,  1.54s/it]"
          ]
        },
        {
          "output_type": "stream",
          "name": "stdout",
          "text": [
            "[Epoch: 12 | Iteration:   301 | Train ] MPJPE loss: 86.635 | KL loss: 0.761 | Total loss: 87.396\n"
          ]
        },
        {
          "output_type": "stream",
          "name": "stderr",
          "text": [
            "400it [10:29,  1.54s/it]"
          ]
        },
        {
          "output_type": "stream",
          "name": "stdout",
          "text": [
            "[Epoch: 12 | Iteration:   401 | Train ] MPJPE loss: 85.063 | KL loss: 0.758 | Total loss: 85.821\n"
          ]
        },
        {
          "output_type": "stream",
          "name": "stderr",
          "text": [
            "500it [13:03,  1.53s/it]"
          ]
        },
        {
          "output_type": "stream",
          "name": "stdout",
          "text": [
            "[Epoch: 12 | Iteration:   501 | Train ] MPJPE loss: 86.132 | KL loss: 0.756 | Total loss: 86.888\n"
          ]
        },
        {
          "output_type": "stream",
          "name": "stderr",
          "text": [
            "600it [15:36,  1.54s/it]"
          ]
        },
        {
          "output_type": "stream",
          "name": "stdout",
          "text": [
            "[Epoch: 12 | Iteration:   601 | Train ] MPJPE loss: 89.563 | KL loss: 0.753 | Total loss: 90.316\n"
          ]
        },
        {
          "output_type": "stream",
          "name": "stderr",
          "text": [
            "700it [18:10,  1.54s/it]"
          ]
        },
        {
          "output_type": "stream",
          "name": "stdout",
          "text": [
            "[Epoch: 12 | Iteration:   701 | Train ] MPJPE loss: 85.413 | KL loss: 0.750 | Total loss: 86.163\n"
          ]
        },
        {
          "output_type": "stream",
          "name": "stderr",
          "text": [
            "704it [18:16,  1.56s/it]\n",
            "1it [00:00,  1.16it/s]"
          ]
        },
        {
          "output_type": "stream",
          "name": "stdout",
          "text": [
            "\u001b[1m[Epoch: 12 | Iteration:     1 | Val   ] MPJPE loss: 85.078 | KL loss: 0.750 | Total loss: 85.828\u001b[0m\n"
          ]
        },
        {
          "output_type": "stream",
          "name": "stderr",
          "text": [
            "101it [00:48,  2.10it/s]"
          ]
        },
        {
          "output_type": "stream",
          "name": "stdout",
          "text": [
            "\u001b[1m[Epoch: 12 | Iteration:   101 | Val   ] MPJPE loss: 91.005 | KL loss: 0.750 | Total loss: 91.756\u001b[0m\n"
          ]
        },
        {
          "output_type": "stream",
          "name": "stderr",
          "text": [
            "110it [00:53,  2.06it/s]\n",
            "0it [00:00, ?it/s]"
          ]
        },
        {
          "output_type": "stream",
          "name": "stdout",
          "text": [
            "[Epoch: 13 | Iteration:     1 | Train ] MPJPE loss: 89.496 | KL loss: 0.750 | Total loss: 90.247\n"
          ]
        },
        {
          "output_type": "stream",
          "name": "stderr",
          "text": [
            "100it [02:38,  1.56s/it]"
          ]
        },
        {
          "output_type": "stream",
          "name": "stdout",
          "text": [
            "[Epoch: 13 | Iteration:   101 | Train ] MPJPE loss: 88.839 | KL loss: 0.748 | Total loss: 89.587\n"
          ]
        },
        {
          "output_type": "stream",
          "name": "stderr",
          "text": [
            "200it [05:15,  1.56s/it]"
          ]
        },
        {
          "output_type": "stream",
          "name": "stdout",
          "text": [
            "[Epoch: 13 | Iteration:   201 | Train ] MPJPE loss: 82.965 | KL loss: 0.745 | Total loss: 83.711\n"
          ]
        },
        {
          "output_type": "stream",
          "name": "stderr",
          "text": [
            "300it [07:51,  1.53s/it]"
          ]
        },
        {
          "output_type": "stream",
          "name": "stdout",
          "text": [
            "[Epoch: 13 | Iteration:   301 | Train ] MPJPE loss: 86.438 | KL loss: 0.742 | Total loss: 87.180\n"
          ]
        },
        {
          "output_type": "stream",
          "name": "stderr",
          "text": [
            "400it [10:26,  1.56s/it]"
          ]
        },
        {
          "output_type": "stream",
          "name": "stdout",
          "text": [
            "[Epoch: 13 | Iteration:   401 | Train ] MPJPE loss: 79.708 | KL loss: 0.740 | Total loss: 80.448\n"
          ]
        },
        {
          "output_type": "stream",
          "name": "stderr",
          "text": [
            "500it [13:00,  1.57s/it]"
          ]
        },
        {
          "output_type": "stream",
          "name": "stdout",
          "text": [
            "[Epoch: 13 | Iteration:   501 | Train ] MPJPE loss: 85.744 | KL loss: 0.737 | Total loss: 86.482\n"
          ]
        },
        {
          "output_type": "stream",
          "name": "stderr",
          "text": [
            "600it [15:34,  1.54s/it]"
          ]
        },
        {
          "output_type": "stream",
          "name": "stdout",
          "text": [
            "[Epoch: 13 | Iteration:   601 | Train ] MPJPE loss: 83.853 | KL loss: 0.735 | Total loss: 84.587\n"
          ]
        },
        {
          "output_type": "stream",
          "name": "stderr",
          "text": [
            "700it [18:08,  1.56s/it]"
          ]
        },
        {
          "output_type": "stream",
          "name": "stdout",
          "text": [
            "[Epoch: 13 | Iteration:   701 | Train ] MPJPE loss: 84.668 | KL loss: 0.732 | Total loss: 85.400\n"
          ]
        },
        {
          "output_type": "stream",
          "name": "stderr",
          "text": [
            "704it [18:14,  1.56s/it]\n",
            "1it [00:00,  1.15it/s]"
          ]
        },
        {
          "output_type": "stream",
          "name": "stdout",
          "text": [
            "\u001b[1m[Epoch: 13 | Iteration:     1 | Val   ] MPJPE loss: 83.620 | KL loss: 0.732 | Total loss: 84.352\u001b[0m\n"
          ]
        },
        {
          "output_type": "stream",
          "name": "stderr",
          "text": [
            "101it [00:49,  2.06it/s]"
          ]
        },
        {
          "output_type": "stream",
          "name": "stdout",
          "text": [
            "\u001b[1m[Epoch: 13 | Iteration:   101 | Val   ] MPJPE loss: 92.142 | KL loss: 0.732 | Total loss: 92.874\u001b[0m\n"
          ]
        },
        {
          "output_type": "stream",
          "name": "stderr",
          "text": [
            "110it [00:54,  2.01it/s]\n",
            "0it [00:00, ?it/s]"
          ]
        },
        {
          "output_type": "stream",
          "name": "stdout",
          "text": [
            "[Epoch: 14 | Iteration:     1 | Train ] MPJPE loss: 87.681 | KL loss: 0.732 | Total loss: 88.413\n"
          ]
        },
        {
          "output_type": "stream",
          "name": "stderr",
          "text": [
            "100it [02:39,  1.58s/it]"
          ]
        },
        {
          "output_type": "stream",
          "name": "stdout",
          "text": [
            "[Epoch: 14 | Iteration:   101 | Train ] MPJPE loss: 90.065 | KL loss: 0.729 | Total loss: 90.794\n"
          ]
        },
        {
          "output_type": "stream",
          "name": "stderr",
          "text": [
            "200it [05:18,  1.57s/it]"
          ]
        },
        {
          "output_type": "stream",
          "name": "stdout",
          "text": [
            "[Epoch: 14 | Iteration:   201 | Train ] MPJPE loss: 80.895 | KL loss: 0.727 | Total loss: 81.621\n"
          ]
        },
        {
          "output_type": "stream",
          "name": "stderr",
          "text": [
            "300it [07:54,  1.55s/it]"
          ]
        },
        {
          "output_type": "stream",
          "name": "stdout",
          "text": [
            "[Epoch: 14 | Iteration:   301 | Train ] MPJPE loss: 89.538 | KL loss: 0.724 | Total loss: 90.262\n"
          ]
        },
        {
          "output_type": "stream",
          "name": "stderr",
          "text": [
            "400it [10:29,  1.54s/it]"
          ]
        },
        {
          "output_type": "stream",
          "name": "stdout",
          "text": [
            "[Epoch: 14 | Iteration:   401 | Train ] MPJPE loss: 82.498 | KL loss: 0.722 | Total loss: 83.219\n"
          ]
        },
        {
          "output_type": "stream",
          "name": "stderr",
          "text": [
            "500it [13:03,  1.54s/it]"
          ]
        },
        {
          "output_type": "stream",
          "name": "stdout",
          "text": [
            "[Epoch: 14 | Iteration:   501 | Train ] MPJPE loss: 85.667 | KL loss: 0.719 | Total loss: 86.386\n"
          ]
        },
        {
          "output_type": "stream",
          "name": "stderr",
          "text": [
            "600it [15:37,  1.53s/it]"
          ]
        },
        {
          "output_type": "stream",
          "name": "stdout",
          "text": [
            "[Epoch: 14 | Iteration:   601 | Train ] MPJPE loss: 81.149 | KL loss: 0.717 | Total loss: 81.865\n"
          ]
        },
        {
          "output_type": "stream",
          "name": "stderr",
          "text": [
            "700it [18:11,  1.54s/it]"
          ]
        },
        {
          "output_type": "stream",
          "name": "stdout",
          "text": [
            "[Epoch: 14 | Iteration:   701 | Train ] MPJPE loss: 82.858 | KL loss: 0.714 | Total loss: 83.572\n"
          ]
        },
        {
          "output_type": "stream",
          "name": "stderr",
          "text": [
            "704it [18:18,  1.56s/it]\n",
            "1it [00:00,  1.16it/s]"
          ]
        },
        {
          "output_type": "stream",
          "name": "stdout",
          "text": [
            "\u001b[1m[Epoch: 14 | Iteration:     1 | Val   ] MPJPE loss: 84.169 | KL loss: 0.714 | Total loss: 84.882\u001b[0m\n"
          ]
        },
        {
          "output_type": "stream",
          "name": "stderr",
          "text": [
            "101it [00:49,  2.09it/s]"
          ]
        },
        {
          "output_type": "stream",
          "name": "stdout",
          "text": [
            "\u001b[1m[Epoch: 14 | Iteration:   101 | Val   ] MPJPE loss: 92.157 | KL loss: 0.714 | Total loss: 92.870\u001b[0m\n"
          ]
        },
        {
          "output_type": "stream",
          "name": "stderr",
          "text": [
            "110it [00:54,  2.01it/s]\n",
            "0it [00:00, ?it/s]"
          ]
        },
        {
          "output_type": "stream",
          "name": "stdout",
          "text": [
            "[Epoch: 15 | Iteration:     1 | Train ] MPJPE loss: 81.739 | KL loss: 0.714 | Total loss: 82.453\n"
          ]
        },
        {
          "output_type": "stream",
          "name": "stderr",
          "text": [
            "100it [02:39,  1.62s/it]"
          ]
        },
        {
          "output_type": "stream",
          "name": "stdout",
          "text": [
            "[Epoch: 15 | Iteration:   101 | Train ] MPJPE loss: 92.280 | KL loss: 0.711 | Total loss: 92.991\n"
          ]
        },
        {
          "output_type": "stream",
          "name": "stderr",
          "text": [
            "200it [05:18,  1.65s/it]"
          ]
        },
        {
          "output_type": "stream",
          "name": "stdout",
          "text": [
            "[Epoch: 15 | Iteration:   201 | Train ] MPJPE loss: 84.524 | KL loss: 0.709 | Total loss: 85.233\n"
          ]
        },
        {
          "output_type": "stream",
          "name": "stderr",
          "text": [
            "300it [07:54,  1.55s/it]"
          ]
        },
        {
          "output_type": "stream",
          "name": "stdout",
          "text": [
            "[Epoch: 15 | Iteration:   301 | Train ] MPJPE loss: 86.439 | KL loss: 0.706 | Total loss: 87.145\n"
          ]
        },
        {
          "output_type": "stream",
          "name": "stderr",
          "text": [
            "400it [10:30,  1.56s/it]"
          ]
        },
        {
          "output_type": "stream",
          "name": "stdout",
          "text": [
            "[Epoch: 15 | Iteration:   401 | Train ] MPJPE loss: 94.633 | KL loss: 0.704 | Total loss: 95.337\n"
          ]
        },
        {
          "output_type": "stream",
          "name": "stderr",
          "text": [
            "500it [13:05,  1.55s/it]"
          ]
        },
        {
          "output_type": "stream",
          "name": "stdout",
          "text": [
            "[Epoch: 15 | Iteration:   501 | Train ] MPJPE loss: 87.523 | KL loss: 0.701 | Total loss: 88.224\n"
          ]
        },
        {
          "output_type": "stream",
          "name": "stderr",
          "text": [
            "600it [15:39,  1.53s/it]"
          ]
        },
        {
          "output_type": "stream",
          "name": "stdout",
          "text": [
            "[Epoch: 15 | Iteration:   601 | Train ] MPJPE loss: 82.822 | KL loss: 0.699 | Total loss: 83.520\n"
          ]
        },
        {
          "output_type": "stream",
          "name": "stderr",
          "text": [
            "700it [18:12,  1.54s/it]"
          ]
        },
        {
          "output_type": "stream",
          "name": "stdout",
          "text": [
            "[Epoch: 15 | Iteration:   701 | Train ] MPJPE loss: 85.713 | KL loss: 0.696 | Total loss: 86.409\n"
          ]
        },
        {
          "output_type": "stream",
          "name": "stderr",
          "text": [
            "704it [18:19,  1.56s/it]\n",
            "1it [00:00,  1.13it/s]"
          ]
        },
        {
          "output_type": "stream",
          "name": "stdout",
          "text": [
            "\u001b[1m[Epoch: 15 | Iteration:     1 | Val   ] MPJPE loss: 85.472 | KL loss: 0.696 | Total loss: 86.167\u001b[0m\n"
          ]
        },
        {
          "output_type": "stream",
          "name": "stderr",
          "text": [
            "101it [00:49,  2.04it/s]"
          ]
        },
        {
          "output_type": "stream",
          "name": "stdout",
          "text": [
            "\u001b[1m[Epoch: 15 | Iteration:   101 | Val   ] MPJPE loss: 94.830 | KL loss: 0.696 | Total loss: 95.526\u001b[0m\n"
          ]
        },
        {
          "output_type": "stream",
          "name": "stderr",
          "text": [
            "110it [00:55,  1.99it/s]\n",
            "0it [00:00, ?it/s]"
          ]
        },
        {
          "output_type": "stream",
          "name": "stdout",
          "text": [
            "[Epoch: 16 | Iteration:     1 | Train ] MPJPE loss: 82.208 | KL loss: 0.696 | Total loss: 82.904\n"
          ]
        },
        {
          "output_type": "stream",
          "name": "stderr",
          "text": [
            "100it [02:38,  1.57s/it]"
          ]
        },
        {
          "output_type": "stream",
          "name": "stdout",
          "text": [
            "[Epoch: 16 | Iteration:   101 | Train ] MPJPE loss: 83.319 | KL loss: 0.693 | Total loss: 84.013\n"
          ]
        },
        {
          "output_type": "stream",
          "name": "stderr",
          "text": [
            "200it [05:15,  1.56s/it]"
          ]
        },
        {
          "output_type": "stream",
          "name": "stdout",
          "text": [
            "[Epoch: 16 | Iteration:   201 | Train ] MPJPE loss: 89.523 | KL loss: 0.691 | Total loss: 90.214\n"
          ]
        },
        {
          "output_type": "stream",
          "name": "stderr",
          "text": [
            "300it [07:51,  1.53s/it]"
          ]
        },
        {
          "output_type": "stream",
          "name": "stdout",
          "text": [
            "[Epoch: 16 | Iteration:   301 | Train ] MPJPE loss: 83.333 | KL loss: 0.688 | Total loss: 84.021\n"
          ]
        },
        {
          "output_type": "stream",
          "name": "stderr",
          "text": [
            "400it [10:26,  1.53s/it]"
          ]
        },
        {
          "output_type": "stream",
          "name": "stdout",
          "text": [
            "[Epoch: 16 | Iteration:   401 | Train ] MPJPE loss: 79.902 | KL loss: 0.686 | Total loss: 80.588\n"
          ]
        },
        {
          "output_type": "stream",
          "name": "stderr",
          "text": [
            "500it [12:59,  1.53s/it]"
          ]
        },
        {
          "output_type": "stream",
          "name": "stdout",
          "text": [
            "[Epoch: 16 | Iteration:   501 | Train ] MPJPE loss: 84.436 | KL loss: 0.683 | Total loss: 85.119\n"
          ]
        },
        {
          "output_type": "stream",
          "name": "stderr",
          "text": [
            "600it [15:32,  1.52s/it]"
          ]
        },
        {
          "output_type": "stream",
          "name": "stdout",
          "text": [
            "[Epoch: 16 | Iteration:   601 | Train ] MPJPE loss: 82.861 | KL loss: 0.681 | Total loss: 83.542\n"
          ]
        },
        {
          "output_type": "stream",
          "name": "stderr",
          "text": [
            "700it [18:05,  1.54s/it]"
          ]
        },
        {
          "output_type": "stream",
          "name": "stdout",
          "text": [
            "[Epoch: 16 | Iteration:   701 | Train ] MPJPE loss: 85.937 | KL loss: 0.678 | Total loss: 86.615\n"
          ]
        },
        {
          "output_type": "stream",
          "name": "stderr",
          "text": [
            "704it [18:12,  1.55s/it]\n",
            "1it [00:00,  1.20it/s]"
          ]
        },
        {
          "output_type": "stream",
          "name": "stdout",
          "text": [
            "\u001b[1m[Epoch: 16 | Iteration:     1 | Val   ] MPJPE loss: 83.903 | KL loss: 0.678 | Total loss: 84.581\u001b[0m\n"
          ]
        },
        {
          "output_type": "stream",
          "name": "stderr",
          "text": [
            "101it [00:47,  2.17it/s]"
          ]
        },
        {
          "output_type": "stream",
          "name": "stdout",
          "text": [
            "\u001b[1m[Epoch: 16 | Iteration:   101 | Val   ] MPJPE loss: 94.287 | KL loss: 0.678 | Total loss: 94.965\u001b[0m\n"
          ]
        },
        {
          "output_type": "stream",
          "name": "stderr",
          "text": [
            "110it [00:51,  2.12it/s]\n",
            "0it [00:00, ?it/s]"
          ]
        },
        {
          "output_type": "stream",
          "name": "stdout",
          "text": [
            "[Epoch: 17 | Iteration:     1 | Train ] MPJPE loss: 81.418 | KL loss: 0.678 | Total loss: 82.097\n"
          ]
        },
        {
          "output_type": "stream",
          "name": "stderr",
          "text": [
            "100it [02:36,  1.62s/it]"
          ]
        },
        {
          "output_type": "stream",
          "name": "stdout",
          "text": [
            "[Epoch: 17 | Iteration:   101 | Train ] MPJPE loss: 80.964 | KL loss: 0.676 | Total loss: 81.640\n"
          ]
        },
        {
          "output_type": "stream",
          "name": "stderr",
          "text": [
            "200it [05:12,  1.57s/it]"
          ]
        },
        {
          "output_type": "stream",
          "name": "stdout",
          "text": [
            "[Epoch: 17 | Iteration:   201 | Train ] MPJPE loss: 75.989 | KL loss: 0.673 | Total loss: 76.662\n"
          ]
        },
        {
          "output_type": "stream",
          "name": "stderr",
          "text": [
            "300it [07:46,  1.52s/it]"
          ]
        },
        {
          "output_type": "stream",
          "name": "stdout",
          "text": [
            "[Epoch: 17 | Iteration:   301 | Train ] MPJPE loss: 81.815 | KL loss: 0.671 | Total loss: 82.485\n"
          ]
        },
        {
          "output_type": "stream",
          "name": "stderr",
          "text": [
            "400it [10:19,  1.54s/it]"
          ]
        },
        {
          "output_type": "stream",
          "name": "stdout",
          "text": [
            "[Epoch: 17 | Iteration:   401 | Train ] MPJPE loss: 79.489 | KL loss: 0.668 | Total loss: 80.157\n"
          ]
        },
        {
          "output_type": "stream",
          "name": "stderr",
          "text": [
            "500it [12:51,  1.51s/it]"
          ]
        },
        {
          "output_type": "stream",
          "name": "stdout",
          "text": [
            "[Epoch: 17 | Iteration:   501 | Train ] MPJPE loss: 87.470 | KL loss: 0.666 | Total loss: 88.136\n"
          ]
        },
        {
          "output_type": "stream",
          "name": "stderr",
          "text": [
            "600it [15:24,  1.51s/it]"
          ]
        },
        {
          "output_type": "stream",
          "name": "stdout",
          "text": [
            "[Epoch: 17 | Iteration:   601 | Train ] MPJPE loss: 82.695 | KL loss: 0.663 | Total loss: 83.358\n"
          ]
        },
        {
          "output_type": "stream",
          "name": "stderr",
          "text": [
            "700it [17:56,  1.53s/it]"
          ]
        },
        {
          "output_type": "stream",
          "name": "stdout",
          "text": [
            "[Epoch: 17 | Iteration:   701 | Train ] MPJPE loss: 79.338 | KL loss: 0.661 | Total loss: 79.999\n"
          ]
        },
        {
          "output_type": "stream",
          "name": "stderr",
          "text": [
            "704it [18:02,  1.54s/it]\n",
            "1it [00:00,  1.16it/s]"
          ]
        },
        {
          "output_type": "stream",
          "name": "stdout",
          "text": [
            "\u001b[1m[Epoch: 17 | Iteration:     1 | Val   ] MPJPE loss: 80.134 | KL loss: 0.660 | Total loss: 80.795\u001b[0m\n"
          ]
        },
        {
          "output_type": "stream",
          "name": "stderr",
          "text": [
            "101it [00:47,  2.15it/s]"
          ]
        },
        {
          "output_type": "stream",
          "name": "stdout",
          "text": [
            "\u001b[1m[Epoch: 17 | Iteration:   101 | Val   ] MPJPE loss: 92.855 | KL loss: 0.660 | Total loss: 93.516\u001b[0m\n"
          ]
        },
        {
          "output_type": "stream",
          "name": "stderr",
          "text": [
            "110it [00:52,  2.08it/s]\n",
            "0it [00:00, ?it/s]"
          ]
        },
        {
          "output_type": "stream",
          "name": "stdout",
          "text": [
            "[Epoch: 18 | Iteration:     1 | Train ] MPJPE loss: 84.316 | KL loss: 0.660 | Total loss: 84.977\n"
          ]
        },
        {
          "output_type": "stream",
          "name": "stderr",
          "text": [
            "100it [02:36,  1.56s/it]"
          ]
        },
        {
          "output_type": "stream",
          "name": "stdout",
          "text": [
            "[Epoch: 18 | Iteration:   101 | Train ] MPJPE loss: 86.628 | KL loss: 0.658 | Total loss: 87.286\n"
          ]
        },
        {
          "output_type": "stream",
          "name": "stderr",
          "text": [
            "200it [05:12,  1.55s/it]"
          ]
        },
        {
          "output_type": "stream",
          "name": "stdout",
          "text": [
            "[Epoch: 18 | Iteration:   201 | Train ] MPJPE loss: 84.788 | KL loss: 0.656 | Total loss: 85.444\n"
          ]
        },
        {
          "output_type": "stream",
          "name": "stderr",
          "text": [
            "300it [07:46,  1.53s/it]"
          ]
        },
        {
          "output_type": "stream",
          "name": "stdout",
          "text": [
            "[Epoch: 18 | Iteration:   301 | Train ] MPJPE loss: 86.028 | KL loss: 0.653 | Total loss: 86.681\n"
          ]
        },
        {
          "output_type": "stream",
          "name": "stderr",
          "text": [
            "400it [10:20,  1.53s/it]"
          ]
        },
        {
          "output_type": "stream",
          "name": "stdout",
          "text": [
            "[Epoch: 18 | Iteration:   401 | Train ] MPJPE loss: 78.736 | KL loss: 0.651 | Total loss: 79.387\n"
          ]
        },
        {
          "output_type": "stream",
          "name": "stderr",
          "text": [
            "500it [12:52,  1.52s/it]"
          ]
        },
        {
          "output_type": "stream",
          "name": "stdout",
          "text": [
            "[Epoch: 18 | Iteration:   501 | Train ] MPJPE loss: 75.924 | KL loss: 0.648 | Total loss: 76.573\n"
          ]
        },
        {
          "output_type": "stream",
          "name": "stderr",
          "text": [
            "600it [15:25,  1.51s/it]"
          ]
        },
        {
          "output_type": "stream",
          "name": "stdout",
          "text": [
            "[Epoch: 18 | Iteration:   601 | Train ] MPJPE loss: 89.019 | KL loss: 0.646 | Total loss: 89.665\n"
          ]
        },
        {
          "output_type": "stream",
          "name": "stderr",
          "text": [
            "700it [17:57,  1.54s/it]"
          ]
        },
        {
          "output_type": "stream",
          "name": "stdout",
          "text": [
            "[Epoch: 18 | Iteration:   701 | Train ] MPJPE loss: 86.898 | KL loss: 0.643 | Total loss: 87.541\n"
          ]
        },
        {
          "output_type": "stream",
          "name": "stderr",
          "text": [
            "704it [18:04,  1.54s/it]\n",
            "1it [00:00,  1.15it/s]"
          ]
        },
        {
          "output_type": "stream",
          "name": "stdout",
          "text": [
            "\u001b[1m[Epoch: 18 | Iteration:     1 | Val   ] MPJPE loss: 80.989 | KL loss: 0.643 | Total loss: 81.632\u001b[0m\n"
          ]
        },
        {
          "output_type": "stream",
          "name": "stderr",
          "text": [
            "101it [00:48,  2.14it/s]"
          ]
        },
        {
          "output_type": "stream",
          "name": "stdout",
          "text": [
            "\u001b[1m[Epoch: 18 | Iteration:   101 | Val   ] MPJPE loss: 94.973 | KL loss: 0.643 | Total loss: 95.616\u001b[0m\n"
          ]
        },
        {
          "output_type": "stream",
          "name": "stderr",
          "text": [
            "110it [00:53,  2.06it/s]\n",
            "0it [00:00, ?it/s]"
          ]
        },
        {
          "output_type": "stream",
          "name": "stdout",
          "text": [
            "[Epoch: 19 | Iteration:     1 | Train ] MPJPE loss: 88.407 | KL loss: 0.643 | Total loss: 89.050\n"
          ]
        },
        {
          "output_type": "stream",
          "name": "stderr",
          "text": [
            "100it [02:38,  1.61s/it]"
          ]
        },
        {
          "output_type": "stream",
          "name": "stdout",
          "text": [
            "[Epoch: 19 | Iteration:   101 | Train ] MPJPE loss: 80.980 | KL loss: 0.641 | Total loss: 81.620\n"
          ]
        },
        {
          "output_type": "stream",
          "name": "stderr",
          "text": [
            "200it [05:14,  1.56s/it]"
          ]
        },
        {
          "output_type": "stream",
          "name": "stdout",
          "text": [
            "[Epoch: 19 | Iteration:   201 | Train ] MPJPE loss: 83.290 | KL loss: 0.638 | Total loss: 83.929\n"
          ]
        },
        {
          "output_type": "stream",
          "name": "stderr",
          "text": [
            "300it [07:49,  1.53s/it]"
          ]
        },
        {
          "output_type": "stream",
          "name": "stdout",
          "text": [
            "[Epoch: 19 | Iteration:   301 | Train ] MPJPE loss: 84.411 | KL loss: 0.636 | Total loss: 85.047\n"
          ]
        },
        {
          "output_type": "stream",
          "name": "stderr",
          "text": [
            "400it [10:23,  1.54s/it]"
          ]
        },
        {
          "output_type": "stream",
          "name": "stdout",
          "text": [
            "[Epoch: 19 | Iteration:   401 | Train ] MPJPE loss: 79.062 | KL loss: 0.633 | Total loss: 79.695\n"
          ]
        },
        {
          "output_type": "stream",
          "name": "stderr",
          "text": [
            "500it [12:56,  1.53s/it]"
          ]
        },
        {
          "output_type": "stream",
          "name": "stdout",
          "text": [
            "[Epoch: 19 | Iteration:   501 | Train ] MPJPE loss: 83.623 | KL loss: 0.631 | Total loss: 84.254\n"
          ]
        },
        {
          "output_type": "stream",
          "name": "stderr",
          "text": [
            "600it [15:29,  1.53s/it]"
          ]
        },
        {
          "output_type": "stream",
          "name": "stdout",
          "text": [
            "[Epoch: 19 | Iteration:   601 | Train ] MPJPE loss: 80.856 | KL loss: 0.629 | Total loss: 81.485\n"
          ]
        },
        {
          "output_type": "stream",
          "name": "stderr",
          "text": [
            "700it [18:02,  1.54s/it]"
          ]
        },
        {
          "output_type": "stream",
          "name": "stdout",
          "text": [
            "[Epoch: 19 | Iteration:   701 | Train ] MPJPE loss: 82.573 | KL loss: 0.626 | Total loss: 83.199\n"
          ]
        },
        {
          "output_type": "stream",
          "name": "stderr",
          "text": [
            "704it [18:09,  1.55s/it]\n",
            "1it [00:00,  1.16it/s]"
          ]
        },
        {
          "output_type": "stream",
          "name": "stdout",
          "text": [
            "\u001b[1m[Epoch: 19 | Iteration:     1 | Val   ] MPJPE loss: 79.672 | KL loss: 0.626 | Total loss: 80.298\u001b[0m\n"
          ]
        },
        {
          "output_type": "stream",
          "name": "stderr",
          "text": [
            "101it [00:48,  2.13it/s]"
          ]
        },
        {
          "output_type": "stream",
          "name": "stdout",
          "text": [
            "\u001b[1m[Epoch: 19 | Iteration:   101 | Val   ] MPJPE loss: 99.308 | KL loss: 0.626 | Total loss: 99.935\u001b[0m\n"
          ]
        },
        {
          "output_type": "stream",
          "name": "stderr",
          "text": [
            "110it [00:53,  2.05it/s]\n",
            "0it [00:00, ?it/s]"
          ]
        },
        {
          "output_type": "stream",
          "name": "stdout",
          "text": [
            "[Epoch: 20 | Iteration:     1 | Train ] MPJPE loss: 81.304 | KL loss: 0.626 | Total loss: 81.930\n"
          ]
        },
        {
          "output_type": "stream",
          "name": "stderr",
          "text": [
            "100it [02:37,  1.56s/it]"
          ]
        },
        {
          "output_type": "stream",
          "name": "stdout",
          "text": [
            "[Epoch: 20 | Iteration:   101 | Train ] MPJPE loss: 81.331 | KL loss: 0.624 | Total loss: 81.954\n"
          ]
        },
        {
          "output_type": "stream",
          "name": "stderr",
          "text": [
            "200it [05:14,  1.55s/it]"
          ]
        },
        {
          "output_type": "stream",
          "name": "stdout",
          "text": [
            "[Epoch: 20 | Iteration:   201 | Train ] MPJPE loss: 80.463 | KL loss: 0.621 | Total loss: 81.084\n"
          ]
        },
        {
          "output_type": "stream",
          "name": "stderr",
          "text": [
            "300it [07:50,  1.53s/it]"
          ]
        },
        {
          "output_type": "stream",
          "name": "stdout",
          "text": [
            "[Epoch: 20 | Iteration:   301 | Train ] MPJPE loss: 87.509 | KL loss: 0.619 | Total loss: 88.128\n"
          ]
        },
        {
          "output_type": "stream",
          "name": "stderr",
          "text": [
            "400it [10:24,  1.53s/it]"
          ]
        },
        {
          "output_type": "stream",
          "name": "stdout",
          "text": [
            "[Epoch: 20 | Iteration:   401 | Train ] MPJPE loss: 81.381 | KL loss: 0.617 | Total loss: 81.998\n"
          ]
        },
        {
          "output_type": "stream",
          "name": "stderr",
          "text": [
            "500it [12:58,  1.54s/it]"
          ]
        },
        {
          "output_type": "stream",
          "name": "stdout",
          "text": [
            "[Epoch: 20 | Iteration:   501 | Train ] MPJPE loss: 84.863 | KL loss: 0.614 | Total loss: 85.478\n"
          ]
        },
        {
          "output_type": "stream",
          "name": "stderr",
          "text": [
            "600it [15:31,  1.51s/it]"
          ]
        },
        {
          "output_type": "stream",
          "name": "stdout",
          "text": [
            "[Epoch: 20 | Iteration:   601 | Train ] MPJPE loss: 81.393 | KL loss: 0.612 | Total loss: 82.005\n"
          ]
        },
        {
          "output_type": "stream",
          "name": "stderr",
          "text": [
            "700it [18:04,  1.54s/it]"
          ]
        },
        {
          "output_type": "stream",
          "name": "stdout",
          "text": [
            "[Epoch: 20 | Iteration:   701 | Train ] MPJPE loss: 77.358 | KL loss: 0.610 | Total loss: 77.968\n"
          ]
        },
        {
          "output_type": "stream",
          "name": "stderr",
          "text": [
            "704it [18:11,  1.55s/it]\n",
            "1it [00:00,  1.15it/s]"
          ]
        },
        {
          "output_type": "stream",
          "name": "stdout",
          "text": [
            "\u001b[1m[Epoch: 20 | Iteration:     1 | Val   ] MPJPE loss: 79.416 | KL loss: 0.609 | Total loss: 80.026\u001b[0m\n"
          ]
        },
        {
          "output_type": "stream",
          "name": "stderr",
          "text": [
            "101it [00:48,  2.12it/s]"
          ]
        },
        {
          "output_type": "stream",
          "name": "stdout",
          "text": [
            "\u001b[1m[Epoch: 20 | Iteration:   101 | Val   ] MPJPE loss: 99.786 | KL loss: 0.609 | Total loss: 100.395\u001b[0m\n"
          ]
        },
        {
          "output_type": "stream",
          "name": "stderr",
          "text": [
            "110it [00:52,  2.08it/s]\n",
            "0it [00:00, ?it/s]"
          ]
        },
        {
          "output_type": "stream",
          "name": "stdout",
          "text": [
            "[Epoch: 21 | Iteration:     1 | Train ] MPJPE loss: 86.685 | KL loss: 0.609 | Total loss: 87.295\n"
          ]
        },
        {
          "output_type": "stream",
          "name": "stderr",
          "text": [
            "100it [02:39,  1.64s/it]"
          ]
        },
        {
          "output_type": "stream",
          "name": "stdout",
          "text": [
            "[Epoch: 21 | Iteration:   101 | Train ] MPJPE loss: 76.286 | KL loss: 0.607 | Total loss: 76.893\n"
          ]
        },
        {
          "output_type": "stream",
          "name": "stderr",
          "text": [
            "200it [05:16,  1.59s/it]"
          ]
        },
        {
          "output_type": "stream",
          "name": "stdout",
          "text": [
            "[Epoch: 21 | Iteration:   201 | Train ] MPJPE loss: 80.067 | KL loss: 0.605 | Total loss: 80.671\n"
          ]
        },
        {
          "output_type": "stream",
          "name": "stderr",
          "text": [
            "300it [07:52,  1.56s/it]"
          ]
        },
        {
          "output_type": "stream",
          "name": "stdout",
          "text": [
            "[Epoch: 21 | Iteration:   301 | Train ] MPJPE loss: 78.508 | KL loss: 0.602 | Total loss: 79.111\n"
          ]
        },
        {
          "output_type": "stream",
          "name": "stderr",
          "text": [
            "400it [10:26,  1.53s/it]"
          ]
        },
        {
          "output_type": "stream",
          "name": "stdout",
          "text": [
            "[Epoch: 21 | Iteration:   401 | Train ] MPJPE loss: 82.780 | KL loss: 0.600 | Total loss: 83.380\n"
          ]
        },
        {
          "output_type": "stream",
          "name": "stderr",
          "text": [
            "500it [13:00,  1.54s/it]"
          ]
        },
        {
          "output_type": "stream",
          "name": "stdout",
          "text": [
            "[Epoch: 21 | Iteration:   501 | Train ] MPJPE loss: 78.214 | KL loss: 0.598 | Total loss: 78.812\n"
          ]
        },
        {
          "output_type": "stream",
          "name": "stderr",
          "text": [
            "600it [15:33,  1.52s/it]"
          ]
        },
        {
          "output_type": "stream",
          "name": "stdout",
          "text": [
            "[Epoch: 21 | Iteration:   601 | Train ] MPJPE loss: 81.427 | KL loss: 0.595 | Total loss: 82.023\n"
          ]
        },
        {
          "output_type": "stream",
          "name": "stderr",
          "text": [
            "700it [18:06,  1.54s/it]"
          ]
        },
        {
          "output_type": "stream",
          "name": "stdout",
          "text": [
            "[Epoch: 21 | Iteration:   701 | Train ] MPJPE loss: 89.117 | KL loss: 0.593 | Total loss: 89.710\n"
          ]
        },
        {
          "output_type": "stream",
          "name": "stderr",
          "text": [
            "704it [18:13,  1.55s/it]\n",
            "1it [00:00,  1.17it/s]"
          ]
        },
        {
          "output_type": "stream",
          "name": "stdout",
          "text": [
            "\u001b[1m[Epoch: 21 | Iteration:     1 | Val   ] MPJPE loss: 77.858 | KL loss: 0.593 | Total loss: 78.451\u001b[0m\n"
          ]
        },
        {
          "output_type": "stream",
          "name": "stderr",
          "text": [
            "101it [00:48,  2.09it/s]"
          ]
        },
        {
          "output_type": "stream",
          "name": "stdout",
          "text": [
            "\u001b[1m[Epoch: 21 | Iteration:   101 | Val   ] MPJPE loss: 97.834 | KL loss: 0.593 | Total loss: 98.427\u001b[0m\n"
          ]
        },
        {
          "output_type": "stream",
          "name": "stderr",
          "text": [
            "110it [00:53,  2.05it/s]\n",
            "0it [00:00, ?it/s]"
          ]
        },
        {
          "output_type": "stream",
          "name": "stdout",
          "text": [
            "[Epoch: 22 | Iteration:     1 | Train ] MPJPE loss: 78.518 | KL loss: 0.593 | Total loss: 79.111\n"
          ]
        },
        {
          "output_type": "stream",
          "name": "stderr",
          "text": [
            "100it [02:38,  1.57s/it]"
          ]
        },
        {
          "output_type": "stream",
          "name": "stdout",
          "text": [
            "[Epoch: 22 | Iteration:   101 | Train ] MPJPE loss: 84.901 | KL loss: 0.591 | Total loss: 85.491\n"
          ]
        },
        {
          "output_type": "stream",
          "name": "stderr",
          "text": [
            "200it [05:15,  1.56s/it]"
          ]
        },
        {
          "output_type": "stream",
          "name": "stdout",
          "text": [
            "[Epoch: 22 | Iteration:   201 | Train ] MPJPE loss: 82.137 | KL loss: 0.588 | Total loss: 82.726\n"
          ]
        },
        {
          "output_type": "stream",
          "name": "stderr",
          "text": [
            "300it [07:50,  1.54s/it]"
          ]
        },
        {
          "output_type": "stream",
          "name": "stdout",
          "text": [
            "[Epoch: 22 | Iteration:   301 | Train ] MPJPE loss: 76.596 | KL loss: 0.586 | Total loss: 77.182\n"
          ]
        },
        {
          "output_type": "stream",
          "name": "stderr",
          "text": [
            "400it [10:24,  1.54s/it]"
          ]
        },
        {
          "output_type": "stream",
          "name": "stdout",
          "text": [
            "[Epoch: 22 | Iteration:   401 | Train ] MPJPE loss: 78.364 | KL loss: 0.584 | Total loss: 78.948\n"
          ]
        },
        {
          "output_type": "stream",
          "name": "stderr",
          "text": [
            "500it [12:58,  1.53s/it]"
          ]
        },
        {
          "output_type": "stream",
          "name": "stdout",
          "text": [
            "[Epoch: 22 | Iteration:   501 | Train ] MPJPE loss: 77.132 | KL loss: 0.582 | Total loss: 77.714\n"
          ]
        },
        {
          "output_type": "stream",
          "name": "stderr",
          "text": [
            "600it [15:31,  1.52s/it]"
          ]
        },
        {
          "output_type": "stream",
          "name": "stdout",
          "text": [
            "[Epoch: 22 | Iteration:   601 | Train ] MPJPE loss: 84.491 | KL loss: 0.579 | Total loss: 85.070\n"
          ]
        },
        {
          "output_type": "stream",
          "name": "stderr",
          "text": [
            "700it [18:04,  1.54s/it]"
          ]
        },
        {
          "output_type": "stream",
          "name": "stdout",
          "text": [
            "[Epoch: 22 | Iteration:   701 | Train ] MPJPE loss: 77.030 | KL loss: 0.577 | Total loss: 77.607\n"
          ]
        },
        {
          "output_type": "stream",
          "name": "stderr",
          "text": [
            "704it [18:11,  1.55s/it]\n",
            "1it [00:00,  1.14it/s]"
          ]
        },
        {
          "output_type": "stream",
          "name": "stdout",
          "text": [
            "\u001b[1m[Epoch: 22 | Iteration:     1 | Val   ] MPJPE loss: 80.845 | KL loss: 0.577 | Total loss: 81.422\u001b[0m\n"
          ]
        },
        {
          "output_type": "stream",
          "name": "stderr",
          "text": [
            "101it [00:48,  2.12it/s]"
          ]
        },
        {
          "output_type": "stream",
          "name": "stdout",
          "text": [
            "\u001b[1m[Epoch: 22 | Iteration:   101 | Val   ] MPJPE loss: 99.363 | KL loss: 0.577 | Total loss: 99.940\u001b[0m\n"
          ]
        },
        {
          "output_type": "stream",
          "name": "stderr",
          "text": [
            "110it [00:53,  2.06it/s]\n",
            "0it [00:00, ?it/s]"
          ]
        },
        {
          "output_type": "stream",
          "name": "stdout",
          "text": [
            "[Epoch: 23 | Iteration:     1 | Train ] MPJPE loss: 82.253 | KL loss: 0.577 | Total loss: 82.830\n"
          ]
        },
        {
          "output_type": "stream",
          "name": "stderr",
          "text": [
            "100it [02:38,  1.57s/it]"
          ]
        },
        {
          "output_type": "stream",
          "name": "stdout",
          "text": [
            "[Epoch: 23 | Iteration:   101 | Train ] MPJPE loss: 82.114 | KL loss: 0.575 | Total loss: 82.689\n"
          ]
        },
        {
          "output_type": "stream",
          "name": "stderr",
          "text": [
            "200it [05:15,  1.61s/it]"
          ]
        },
        {
          "output_type": "stream",
          "name": "stdout",
          "text": [
            "[Epoch: 23 | Iteration:   201 | Train ] MPJPE loss: 84.113 | KL loss: 0.572 | Total loss: 84.685\n"
          ]
        },
        {
          "output_type": "stream",
          "name": "stderr",
          "text": [
            "300it [07:50,  1.53s/it]"
          ]
        },
        {
          "output_type": "stream",
          "name": "stdout",
          "text": [
            "[Epoch: 23 | Iteration:   301 | Train ] MPJPE loss: 77.347 | KL loss: 0.570 | Total loss: 77.917\n"
          ]
        },
        {
          "output_type": "stream",
          "name": "stderr",
          "text": [
            "400it [10:24,  1.54s/it]"
          ]
        },
        {
          "output_type": "stream",
          "name": "stdout",
          "text": [
            "[Epoch: 23 | Iteration:   401 | Train ] MPJPE loss: 83.124 | KL loss: 0.568 | Total loss: 83.692\n"
          ]
        },
        {
          "output_type": "stream",
          "name": "stderr",
          "text": [
            "500it [12:58,  1.53s/it]"
          ]
        },
        {
          "output_type": "stream",
          "name": "stdout",
          "text": [
            "[Epoch: 23 | Iteration:   501 | Train ] MPJPE loss: 80.682 | KL loss: 0.566 | Total loss: 81.248\n"
          ]
        },
        {
          "output_type": "stream",
          "name": "stderr",
          "text": [
            "600it [15:31,  1.52s/it]"
          ]
        },
        {
          "output_type": "stream",
          "name": "stdout",
          "text": [
            "[Epoch: 23 | Iteration:   601 | Train ] MPJPE loss: 81.937 | KL loss: 0.564 | Total loss: 82.501\n"
          ]
        },
        {
          "output_type": "stream",
          "name": "stderr",
          "text": [
            "700it [18:05,  1.53s/it]"
          ]
        },
        {
          "output_type": "stream",
          "name": "stdout",
          "text": [
            "[Epoch: 23 | Iteration:   701 | Train ] MPJPE loss: 77.086 | KL loss: 0.561 | Total loss: 77.648\n"
          ]
        },
        {
          "output_type": "stream",
          "name": "stderr",
          "text": [
            "704it [18:12,  1.55s/it]\n",
            "1it [00:00,  1.19it/s]"
          ]
        },
        {
          "output_type": "stream",
          "name": "stdout",
          "text": [
            "\u001b[1m[Epoch: 23 | Iteration:     1 | Val   ] MPJPE loss: 83.560 | KL loss: 0.561 | Total loss: 84.122\u001b[0m\n"
          ]
        },
        {
          "output_type": "stream",
          "name": "stderr",
          "text": [
            "101it [00:48,  2.12it/s]"
          ]
        },
        {
          "output_type": "stream",
          "name": "stdout",
          "text": [
            "\u001b[1m[Epoch: 23 | Iteration:   101 | Val   ] MPJPE loss: 99.211 | KL loss: 0.561 | Total loss: 99.772\u001b[0m\n"
          ]
        },
        {
          "output_type": "stream",
          "name": "stderr",
          "text": [
            "110it [00:53,  2.05it/s]\n",
            "0it [00:00, ?it/s]"
          ]
        },
        {
          "output_type": "stream",
          "name": "stdout",
          "text": [
            "[Epoch: 24 | Iteration:     1 | Train ] MPJPE loss: 83.828 | KL loss: 0.561 | Total loss: 84.389\n"
          ]
        },
        {
          "output_type": "stream",
          "name": "stderr",
          "text": [
            "100it [02:38,  1.59s/it]"
          ]
        },
        {
          "output_type": "stream",
          "name": "stdout",
          "text": [
            "[Epoch: 24 | Iteration:   101 | Train ] MPJPE loss: 77.334 | KL loss: 0.559 | Total loss: 77.893\n"
          ]
        },
        {
          "output_type": "stream",
          "name": "stderr",
          "text": [
            "200it [05:15,  1.57s/it]"
          ]
        },
        {
          "output_type": "stream",
          "name": "stdout",
          "text": [
            "[Epoch: 24 | Iteration:   201 | Train ] MPJPE loss: 82.995 | KL loss: 0.557 | Total loss: 83.552\n"
          ]
        },
        {
          "output_type": "stream",
          "name": "stderr",
          "text": [
            "300it [07:50,  1.59s/it]"
          ]
        },
        {
          "output_type": "stream",
          "name": "stdout",
          "text": [
            "[Epoch: 24 | Iteration:   301 | Train ] MPJPE loss: 78.114 | KL loss: 0.555 | Total loss: 78.669\n"
          ]
        },
        {
          "output_type": "stream",
          "name": "stderr",
          "text": [
            "400it [10:23,  1.52s/it]"
          ]
        },
        {
          "output_type": "stream",
          "name": "stdout",
          "text": [
            "[Epoch: 24 | Iteration:   401 | Train ] MPJPE loss: 80.131 | KL loss: 0.552 | Total loss: 80.683\n"
          ]
        },
        {
          "output_type": "stream",
          "name": "stderr",
          "text": [
            "500it [12:55,  1.52s/it]"
          ]
        },
        {
          "output_type": "stream",
          "name": "stdout",
          "text": [
            "[Epoch: 24 | Iteration:   501 | Train ] MPJPE loss: 81.555 | KL loss: 0.550 | Total loss: 82.105\n"
          ]
        },
        {
          "output_type": "stream",
          "name": "stderr",
          "text": [
            "600it [15:28,  1.52s/it]"
          ]
        },
        {
          "output_type": "stream",
          "name": "stdout",
          "text": [
            "[Epoch: 24 | Iteration:   601 | Train ] MPJPE loss: 83.988 | KL loss: 0.548 | Total loss: 84.536\n"
          ]
        },
        {
          "output_type": "stream",
          "name": "stderr",
          "text": [
            "700it [18:00,  1.54s/it]"
          ]
        },
        {
          "output_type": "stream",
          "name": "stdout",
          "text": [
            "[Epoch: 24 | Iteration:   701 | Train ] MPJPE loss: 82.006 | KL loss: 0.546 | Total loss: 82.552\n"
          ]
        },
        {
          "output_type": "stream",
          "name": "stderr",
          "text": [
            "704it [18:07,  1.54s/it]\n",
            "1it [00:00,  1.09it/s]"
          ]
        },
        {
          "output_type": "stream",
          "name": "stdout",
          "text": [
            "\u001b[1m[Epoch: 24 | Iteration:     1 | Val   ] MPJPE loss: 79.297 | KL loss: 0.546 | Total loss: 79.843\u001b[0m\n"
          ]
        },
        {
          "output_type": "stream",
          "name": "stderr",
          "text": [
            "101it [00:47,  2.12it/s]"
          ]
        },
        {
          "output_type": "stream",
          "name": "stdout",
          "text": [
            "\u001b[1m[Epoch: 24 | Iteration:   101 | Val   ] MPJPE loss: 100.298 | KL loss: 0.546 | Total loss: 100.844\u001b[0m\n"
          ]
        },
        {
          "output_type": "stream",
          "name": "stderr",
          "text": [
            "110it [00:52,  2.08it/s]\n",
            "0it [00:00, ?it/s]"
          ]
        },
        {
          "output_type": "stream",
          "name": "stdout",
          "text": [
            "[Epoch: 25 | Iteration:     1 | Train ] MPJPE loss: 81.021 | KL loss: 0.546 | Total loss: 81.567\n"
          ]
        },
        {
          "output_type": "stream",
          "name": "stderr",
          "text": [
            "100it [02:37,  1.57s/it]"
          ]
        },
        {
          "output_type": "stream",
          "name": "stdout",
          "text": [
            "[Epoch: 25 | Iteration:   101 | Train ] MPJPE loss: 74.253 | KL loss: 0.544 | Total loss: 74.796\n"
          ]
        },
        {
          "output_type": "stream",
          "name": "stderr",
          "text": [
            "200it [05:13,  1.55s/it]"
          ]
        },
        {
          "output_type": "stream",
          "name": "stdout",
          "text": [
            "[Epoch: 25 | Iteration:   201 | Train ] MPJPE loss: 74.372 | KL loss: 0.542 | Total loss: 74.913\n"
          ]
        },
        {
          "output_type": "stream",
          "name": "stderr",
          "text": [
            "300it [07:48,  1.54s/it]"
          ]
        },
        {
          "output_type": "stream",
          "name": "stdout",
          "text": [
            "[Epoch: 25 | Iteration:   301 | Train ] MPJPE loss: 74.357 | KL loss: 0.539 | Total loss: 74.896\n"
          ]
        },
        {
          "output_type": "stream",
          "name": "stderr",
          "text": [
            "400it [10:21,  1.53s/it]"
          ]
        },
        {
          "output_type": "stream",
          "name": "stdout",
          "text": [
            "[Epoch: 25 | Iteration:   401 | Train ] MPJPE loss: 83.523 | KL loss: 0.537 | Total loss: 84.060\n"
          ]
        },
        {
          "output_type": "stream",
          "name": "stderr",
          "text": [
            "500it [12:53,  1.51s/it]"
          ]
        },
        {
          "output_type": "stream",
          "name": "stdout",
          "text": [
            "[Epoch: 25 | Iteration:   501 | Train ] MPJPE loss: 82.603 | KL loss: 0.535 | Total loss: 83.138\n"
          ]
        },
        {
          "output_type": "stream",
          "name": "stderr",
          "text": [
            "600it [15:26,  1.51s/it]"
          ]
        },
        {
          "output_type": "stream",
          "name": "stdout",
          "text": [
            "[Epoch: 25 | Iteration:   601 | Train ] MPJPE loss: 78.634 | KL loss: 0.533 | Total loss: 79.167\n"
          ]
        },
        {
          "output_type": "stream",
          "name": "stderr",
          "text": [
            "700it [17:58,  1.54s/it]"
          ]
        },
        {
          "output_type": "stream",
          "name": "stdout",
          "text": [
            "[Epoch: 25 | Iteration:   701 | Train ] MPJPE loss: 82.102 | KL loss: 0.531 | Total loss: 82.633\n"
          ]
        },
        {
          "output_type": "stream",
          "name": "stderr",
          "text": [
            "704it [18:05,  1.54s/it]\n",
            "1it [00:00,  1.17it/s]"
          ]
        },
        {
          "output_type": "stream",
          "name": "stdout",
          "text": [
            "\u001b[1m[Epoch: 25 | Iteration:     1 | Val   ] MPJPE loss: 76.538 | KL loss: 0.531 | Total loss: 77.068\u001b[0m\n"
          ]
        },
        {
          "output_type": "stream",
          "name": "stderr",
          "text": [
            "101it [00:47,  2.16it/s]"
          ]
        },
        {
          "output_type": "stream",
          "name": "stdout",
          "text": [
            "\u001b[1m[Epoch: 25 | Iteration:   101 | Val   ] MPJPE loss: 100.416 | KL loss: 0.531 | Total loss: 100.947\u001b[0m\n"
          ]
        },
        {
          "output_type": "stream",
          "name": "stderr",
          "text": [
            "110it [00:52,  2.08it/s]\n"
          ]
        },
        {
          "output_type": "display_data",
          "data": {
            "text/plain": [
              "<Figure size 1000x600 with 1 Axes>"
            ],
            "image/png": "[encoded data removed]"
          },
          "metadata": {}
        }
      ],
      "source": [
        "train_losses, val_losses = model_training.train(data_loader=train_dataset,\n",
        "                                                vald_loader=vald_dataset)"
      ]
    },
    {
      "cell_type": "markdown",
      "source": [
        "## Testing"
      ],
      "metadata": {
        "id": "DPkykXZQiNSS"
      }
    },
    {
      "cell_type": "code",
      "source": [
        "_, _, test_dataset = load_dataset()"
      ],
      "metadata": {
        "colab": {
          "base_uri": "https://localhost:8080/"
        },
        "id": "nUEchQ8EDPrW",
        "outputId": "23bee1f9-b31f-4ec9-bfa9-1745d407a884"
      },
      "execution_count": null,
      "outputs": [
        {
          "output_type": "stream",
          "name": "stdout",
          "text": [
            "Loading Train Dataset...\n",
            "Loading Validation Dataset...\n",
            "Loading Test Dataset...\n",
            ">>> Training dataset length: 180077\n",
            ">>> Validation dataset length: 28110\n",
            ">>> Test dataset length: 3840\n"
          ]
        }
      ]
    },
    {
      "cell_type": "code",
      "source": [
        "num_channels = 3\n",
        "output_n = 25\n",
        "input_n = 10\n",
        "num_joints = 22\n",
        "num_heads = 8\n",
        "dropout = 0.3\n",
        "d_model = 512\n",
        "num_predictions = 100\n",
        "\n",
        "model = Model(num_channels=num_channels,\n",
        "              num_frames_out=output_n,\n",
        "              old_frames=input_n,\n",
        "              num_joints=num_joints,\n",
        "              num_heads=num_heads,\n",
        "              drop=dropout,\n",
        "              d_model=d_model,\n",
        "              num_predictions=num_predictions)"
      ],
      "metadata": {
        "id": "3jGs3taJ4D-r"
      },
      "execution_count": null,
      "outputs": []
    },
    {
      "cell_type": "code",
      "source": [
        "ckpt_path = path\n",
        "output_n = 25\n",
        "input_n = 10\n",
        "actions_to_consider_test = 'all'\n",
        "\n",
        "test(model=model,\n",
        "     ckpt_path=ckpt_path,\n",
        "     test_loader=test_dataset,\n",
        "     input_n=input_n,\n",
        "     output_n=output_n,\n",
        "     actions_to_consider_test=actions_to_consider_test)"
      ],
      "metadata": {
        "colab": {
          "base_uri": "https://localhost:8080/"
        },
        "id": "0ijLXf4LD3Gy",
        "outputId": "300bc1be-545a-4087-cc83-4beb5d88fed1"
      },
      "execution_count": 1,
      "outputs": [
        {
          "output_type": "stream",
          "name": "stdout",
          "text": [
            "Model loaded\n",
            "walking :  73.5\n",
            "eating :  63.0\n",
            "smoking :  61.1\n",
            "discussion :  98.7\n",
            "directions :  87.8\n",
            "greeting :  117.7\n",
            "phoning :  79.7\n",
            "posing :  120.6\n",
            "purchases :  107.2\n",
            "sitting :  84.3\n",
            "sittingdown :  107.1\n",
            "takingphoto :  83.9\n",
            "waiting :  88.9\n",
            "walkingdog :  117.1\n",
            "walkingtogether :  65.7\n",
            "Average: 90.4\n",
            "Prediction time:  3.8380204730563694\n"
          ]
        }
      ]
    },
    {
      "cell_type": "code",
      "source": [
        "num_channels = 3\n",
        "output_n = 25\n",
        "input_n = 10\n",
        "num_joints = 22\n",
        "num_heads = 8\n",
        "dropout = 0.3\n",
        "d_model = 512\n",
        "num_predictions = 200\n",
        "return_sample = True\n",
        "\n",
        "model = Model(num_channels=num_channels,\n",
        "              num_frames_out=output_n,\n",
        "              old_frames=input_n,\n",
        "              num_joints=num_joints,\n",
        "              num_heads=num_heads,\n",
        "              drop=dropout,\n",
        "              d_model=d_model,\n",
        "              num_predictions=num_predictions,\n",
        "              return_sample=return_sample)"
      ],
      "metadata": {
        "id": "hLf4m50iMUOT"
      },
      "execution_count": null,
      "outputs": []
    },
    {
      "cell_type": "code",
      "source": [
        "mu, ci, isin, dev = get_ci(model=model,\n",
        "                           ckpt_path=ckpt_path,\n",
        "                           test_loader=test_dataset,\n",
        "                           input_n=input_n,\n",
        "                           output_n=output_n)"
      ],
      "metadata": {
        "id": "bfqk4ibnjbS1"
      },
      "execution_count": null,
      "outputs": []
    },
    {
      "cell_type": "code",
      "source": [
        "plot_ci(ci, cmap='RdPu')"
      ],
      "metadata": {
        "colab": {
          "base_uri": "https://localhost:8080/",
          "height": 564
        },
        "outputId": "b0b16721-bd14-4923-96d0-81701c8487d1",
        "id": "vF_lhk8giUjs"
      },
      "execution_count": null,
      "outputs": [
        {
          "output_type": "display_data",
          "data": {
            "text/plain": [
              "<Figure size 1000x600 with 2 Axes>"
            ],
            "image/png": "[encoded data removed]"
          },
          "metadata": {}
        }
      ]
    },
    {
      "cell_type": "code",
      "source": [
        "plot_loss_conf(ci, dev)"
      ],
      "metadata": {
        "colab": {
          "base_uri": "https://localhost:8080/",
          "height": 476
        },
        "id": "yVIVL51wMYNX",
        "outputId": "f164d515-608e-4d5d-ab84-cd160055c4f9"
      },
      "execution_count": null,
      "outputs": [
        {
          "output_type": "display_data",
          "data": {
            "text/plain": [
              "<Figure size 640x480 with 2 Axes>"
            ],
            "image/png": "[encoded data removed]"
          },
          "metadata": {}
        }
      ]
    }
  ]
}