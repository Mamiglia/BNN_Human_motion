{
  "nbformat": 4,
  "nbformat_minor": 0,
  "metadata": {
    "colab": {
      "provenance": [],
      "gpuType": "T4",
      "collapsed_sections": [
        "R2xJCGqoloFt",
        "NHIPyFkRl24A",
        "PPogCINwmIgb",
        "PY2CT5WZmNKI",
        "zUL3vfCfmaOO",
        "RStWekR7AVRB",
        "j7uoY-P7AVRC",
        "1nGPOuEoAVRC",
        "BUD8j4miTcek",
        "WiaFdbcWTcel",
        "4GKuQclGTcel"
      ]
    },
    "kernelspec": {
      "name": "python3",
      "display_name": "Python 3"
    },
    "language_info": {
      "name": "python"
    },
    "accelerator": "GPU"
  },
  "cells": [
    {
      "cell_type": "code",
      "execution_count": null,
      "metadata": {
        "id": "AX0NYqgpU4US"
      },
      "outputs": [],
      "source": [
        "!rm -r ./*\n",
        "!git clone https://github.com/Mamiglia/BNN_Human_motion\n",
        "!mv BNN_Human_motion/* ."
      ]
    },
    {
      "cell_type": "code",
      "source": [
        "!pip install bayesian-torch lightning"
      ],
      "metadata": {
        "id": "Vg0gq1CA2nkd"
      },
      "execution_count": null,
      "outputs": []
    },
    {
      "cell_type": "code",
      "source": [
        "from funcs.dataloader import load_dataset\n",
        "from funcs.pos_embed_p import Pos_Embed\n",
        "from funcs.loss import *\n",
        "from funcs.utils import h36motion3d as datasets\n",
        "from funcs.utils.data_utils import *"
      ],
      "metadata": {
        "id": "ww9sB4Io2c8J"
      },
      "execution_count": 3,
      "outputs": []
    },
    {
      "cell_type": "code",
      "source": [
        "import torch\n",
        "import torch.nn as nn\n",
        "import torch.optim as optim\n",
        "import numpy as np\n",
        "import torch.nn.functional as F\n",
        "import matplotlib.pyplot as plt\n",
        "import time\n",
        "from torch.utils.data import Dataset\n",
        "import torch\n",
        "from torch.utils.data import DataLoader"
      ],
      "metadata": {
        "id": "oc9MNwufU94V"
      },
      "execution_count": 4,
      "outputs": []
    },
    {
      "cell_type": "code",
      "source": [
        "device = torch.device('cuda' if torch.cuda.is_available() else 'cpu')\n",
        "print('Using device:', device,  '- Type:', torch.cuda.get_device_name(0))"
      ],
      "metadata": {
        "id": "DY0qGeWG8eNQ",
        "outputId": "7a928b1a-753b-467a-8995-328d3f36f2d8",
        "colab": {
          "base_uri": "https://localhost:8080/"
        }
      },
      "execution_count": 5,
      "outputs": [
        {
          "output_type": "stream",
          "name": "stdout",
          "text": [
            "Using device: cuda - Type: Tesla T4\n"
          ]
        }
      ]
    },
    {
      "cell_type": "code",
      "source": [
        "dataset, vald_dataset = load_dataset(output_n=15, batch_size=32)"
      ],
      "metadata": {
        "colab": {
          "base_uri": "https://localhost:8080/"
        },
        "id": "OT4EwVgTkhhw",
        "outputId": "2c461c7e-c1c6-4859-d37d-12715920666b"
      },
      "execution_count": 6,
      "outputs": [
        {
          "output_type": "stream",
          "name": "stdout",
          "text": [
            "Loading Train Dataset...\n",
            "Loading Validation Dataset...\n",
            ">>> Training dataset length: 181577\n",
            ">>> Validation dataset length: 28410\n"
          ]
        }
      ]
    },
    {
      "cell_type": "markdown",
      "source": [
        "# Costum Model from HW3\n",
        "- Encoder: Transfomer + CNN\n",
        "- Decoder: LSTM"
      ],
      "metadata": {
        "id": "R2xJCGqoloFt"
      }
    },
    {
      "cell_type": "markdown",
      "source": [
        "## Definition"
      ],
      "metadata": {
        "id": "1RIJSktVmf_U"
      }
    },
    {
      "cell_type": "markdown",
      "source": [
        "### Encoder"
      ],
      "metadata": {
        "id": "NHIPyFkRl24A"
      }
    },
    {
      "cell_type": "code",
      "source": [
        "class Attention(nn.Module):\n",
        "    # CLASSICAL ATTENTION MECHANISM\n",
        "    # IT'S THE SAME OF THE TEORICAL PART\n",
        "\n",
        "    def __init__(self, attn_dropout):\n",
        "        super().__init__()\n",
        "        self.dropout = nn.Dropout(attn_dropout)\n",
        "    def forward(self, query, key, value, mask=None):\n",
        "        attn = torch.matmul(query, key.transpose(-2, -1))\n",
        "        d_k = query.size(-1)\n",
        "        attn = attn / (d_k ** 0.5)\n",
        "        if mask is not None:\n",
        "            attn = attn.masked_fill(mask == 0, -1e9)\n",
        "        attn = self.dropout(F.softmax(attn,-1))\n",
        "        output = torch.matmul(attn, value)\n",
        "        return output, attn"
      ],
      "metadata": {
        "id": "fkV-z-A9mCag"
      },
      "execution_count": 6,
      "outputs": []
    },
    {
      "cell_type": "code",
      "source": [
        "class MultiHeadAttention(nn.Module):\n",
        "    # ALSO THE MULTIHEAD ATTENTION MECHANISM IS THE SAME OF TEORICAL PART\n",
        "\n",
        "    def __init__(self, num_heads, d_model, dropout):\n",
        "        super(MultiHeadAttention, self).__init__()\n",
        "        assert d_model % num_heads == 0\n",
        "        #  We assume d_v always equals d_k\n",
        "        self.d_k = d_model // num_heads\n",
        "        self.num_heads = num_heads\n",
        "        self.query_ff = nn.Linear(d_model, d_model)\n",
        "        self.key_ff = nn.Linear(d_model, d_model)\n",
        "        self.value_ff = nn.Linear(d_model, d_model)\n",
        "        self.attn = None\n",
        "        self.dropout = nn.Dropout(p=dropout)\n",
        "        self.attention = Attention(attn_dropout=dropout)\n",
        "    def forward(self, query, key, value, mask=None, return_attention=False):\n",
        "        if mask is not None:\n",
        "            mask = mask.unsqueeze(1)\n",
        "        nbatches = query.size(0)\n",
        "        query = self.query_ff(query).view(nbatches, -1, self.num_heads, self.d_k).transpose(1, 2)\n",
        "        key = self.key_ff(key).view(nbatches, -1, self.num_heads, self.d_k).transpose(1, 2)\n",
        "        value = self.value_ff(value).view(nbatches, -1, self.num_heads, self.d_k).transpose(1, 2)\n",
        "        x, self.attn = self.attention(query, key, value, mask)\n",
        "        x = x.transpose(1, 2).contiguous().view(nbatches, -1, self.num_heads * self.d_k)\n",
        "        if return_attention:\n",
        "            return self.attn_ff(x), self.attn\n",
        "        return x"
      ],
      "metadata": {
        "id": "UqbYj72GmCPU"
      },
      "execution_count": 7,
      "outputs": []
    },
    {
      "cell_type": "code",
      "source": [
        "class EncoderBlock(nn.Module):\n",
        "    # THE ENCODER BLOCK IS A TIPICAL TRANSFORMER ENCODER,\n",
        "    # BUT WE HAVE ADDED A CONVOLUTIONAL LAYER AT THE END:\n",
        "    # self.conv IS USED TO SHRINK THE INFORMATION ALONG THE ENCODER BLOCKS\n",
        "    # THIS IS A METHOD TO DISTILL INFORMATION SHOULD BE PASSED TO THE DECODER\n",
        "    # AND MOREOVER TO SAVE A LOT OF TIME\n",
        "\n",
        "    def __init__(self,num_heads,d_model,time_in,time_out,num_joints,dropout):\n",
        "        super().__init__()\n",
        "\n",
        "        self.num_joints = num_joints\n",
        "        self.d_model = d_model\n",
        "\n",
        "        self.self_attn = MultiHeadAttention(num_heads, d_model, dropout)\n",
        "\n",
        "        # LAYERNORM LAYERS AND DROPOUT\n",
        "        self.norm1 = nn.LayerNorm(d_model)\n",
        "        self.norm2 = nn.LayerNorm(d_model)\n",
        "        self.dropout = nn.Dropout(dropout)\n",
        "        self.relu = nn.ReLU()\n",
        "\n",
        "        # MLP\n",
        "        self.lin_net = nn.Sequential(\n",
        "            nn.Linear(d_model,2*d_model),\n",
        "            nn.ReLU(),\n",
        "            nn.Linear(2*d_model,d_model),\n",
        "            nn.ReLU()\n",
        "        )\n",
        "\n",
        "        # A CNN SHRINKS THE FRAMES FROM time_it TO time_out\n",
        "        # AND THE d_model IS HALVED AFTER EACH BLOCK\n",
        "        self.conv = nn.Conv1d(time_in,time_out,3,padding=1)\n",
        "\n",
        "    def forward(self, xs, mask=None):\n",
        "        x = xs\n",
        "        att = self.self_attn(x, x, x, mask)\n",
        "        x = self.relu(x + att)\n",
        "        x = self.norm1(x)\n",
        "\n",
        "        lin_output = self.lin_net(x)\n",
        "        x = self.relu(x + self.dropout(lin_output))\n",
        "\n",
        "        # WE ADD A RESIDUAL CONNECTION ALSO HERE\n",
        "        # IT REDUCES A BIT THE VANISH GRADIENT\n",
        "        x = self.norm2(x + xs)\n",
        "\n",
        "        # SHRINK\n",
        "        x = self.conv(x)\n",
        "\n",
        "        return x"
      ],
      "metadata": {
        "id": "NKAjIztjmBBL"
      },
      "execution_count": 8,
      "outputs": []
    },
    {
      "cell_type": "markdown",
      "source": [],
      "metadata": {
        "id": "upCttpEdmhQ2"
      }
    },
    {
      "cell_type": "markdown",
      "source": [
        "### Decoder"
      ],
      "metadata": {
        "id": "PPogCINwmIgb"
      }
    },
    {
      "cell_type": "code",
      "source": [
        "class Decoder(nn.Module):\n",
        "    # THE DECODER BLOCK IS A SIMPLE LSTM,\n",
        "    # WHICH TAKES THE DISTILLED INFORMATION FROM THE\n",
        "    # ENCODER AS HIDDEN STATE AND AUTOREGRESSIVLY\n",
        "    # FORSEES THE NEXT FRAMES\n",
        "    def __init__(self, hidden_dim, num_layers=1):\n",
        "        super(Decoder, self).__init__()\n",
        "        # LSTM\n",
        "        self.lstm = nn.LSTM(66, hidden_dim, num_layers=num_layers)\n",
        "        # LINEAR self.out TO RETURN THE ORIGINAL DIMENSIONS\n",
        "        self.out = nn.Linear(hidden_dim, 66)\n",
        "\n",
        "    def forward(self, hidden, num_steps):\n",
        "        # CELL STATE IS INITIALIZED TO ZEROS\n",
        "        cell = nn.Parameter(torch.zeros(*hidden.shape)).to(device)\n",
        "        batch_size = hidden.size(1)\n",
        "        # THE <START> IS INITIALIZED TO ONES\n",
        "        input = torch.ones((batch_size,66), dtype=torch.float).unsqueeze(0).to(device)\n",
        "        outputs = torch.zeros((num_steps,batch_size,66), dtype=torch.float).to(device)\n",
        "\n",
        "        for t in range(num_steps):\n",
        "            # FORCAST\n",
        "            decoder_output, (_,_) = self.lstm(input, (hidden,cell))\n",
        "            # SET TO THE ORIGINAL DIMENSIONS\n",
        "            decoder_output = self.out(decoder_output[-1])\n",
        "            outputs[t] = decoder_output\n",
        "            # STACK TO THE INPUT\n",
        "            input = torch.cat((input,decoder_output.unsqueeze(0)),0)\n",
        "        return outputs"
      ],
      "metadata": {
        "id": "Ga-9vyI2lz7E"
      },
      "execution_count": 27,
      "outputs": []
    },
    {
      "cell_type": "markdown",
      "source": [
        "### Model"
      ],
      "metadata": {
        "id": "PY2CT5WZmNKI"
      }
    },
    {
      "cell_type": "code",
      "source": [
        "def conv_init(conv):\n",
        "    nn.init.kaiming_normal_(conv.weight, nonlinearity='relu')"
      ],
      "metadata": {
        "id": "0jwpPR8rmUwK"
      },
      "execution_count": 28,
      "outputs": []
    },
    {
      "cell_type": "code",
      "source": [
        "def fc_init(fc):\n",
        "    nn.init.kaiming_normal_(fc.weight, nonlinearity='relu')"
      ],
      "metadata": {
        "id": "SecYT-rjmUoF"
      },
      "execution_count": 29,
      "outputs": []
    },
    {
      "cell_type": "code",
      "source": [
        "def bn_init(bn, scale):\n",
        "    nn.init.constant_(bn.weight, scale)\n",
        "    nn.init.constant_(bn.bias, 0)"
      ],
      "metadata": {
        "id": "FT97LMNqmUbD"
      },
      "execution_count": 30,
      "outputs": []
    },
    {
      "cell_type": "code",
      "source": [
        "class Model(nn.Module):\n",
        "    # THIS IS THE FINAL MODEL IN WHICH WE MERGED THE ENCODER AND DECODER PARTS\n",
        "    def __init__(self, num_channels, num_frames_out,\n",
        "                 old_frames, num_joints, num_heads, drop,\n",
        "                 d_model = 512, config=None):\n",
        "        super().__init__()\n",
        "\n",
        "        # CONFIGURATION FOR THE ENCODER BLOCKS\n",
        "        if config==None:\n",
        "            self.config = [[d_model,10,8],[d_model,8,6],[d_model,6,4],[d_model,4,2],[d_model,2,1]]\n",
        "\n",
        "        self.num_channels = num_channels\n",
        "        self.num_frames_out = num_frames_out\n",
        "        self.num_heads = num_heads\n",
        "        self.num_joints = num_joints\n",
        "        self.old_frames = old_frames\n",
        "        self.d_model = d_model\n",
        "\n",
        "        # LINEAR BLOCK TO PASS FROM INITIAL DIMENSION 66 TO d_model\n",
        "        self.lin = nn.Sequential(nn.Linear(self.num_channels*self.num_joints,d_model),nn.BatchNorm1d(self.old_frames))\n",
        "        self.norm = nn.BatchNorm2d(self.num_channels)\n",
        "\n",
        "        # ENCODER\n",
        "        self.blocks = nn.ModuleList()\n",
        "        # d_ : d_model of the block;\n",
        "        # in_ : number of frames of the sequences at the begin;\n",
        "        # out_ : number of frames of the sequences at the end\n",
        "        for index, (d_,in_,out_) in enumerate(self.config):\n",
        "            self.blocks.append(EncoderBlock(num_heads=self.num_heads,\n",
        "                                            d_model=d_, time_in=in_, time_out=out_,\n",
        "                                            num_joints=self.num_joints,dropout=drop))\n",
        "\n",
        "        # SINUSOIDAL POSITIONAL EMBEDDINGS\n",
        "        self.pos = Pos_Embed(self.num_channels,self.old_frames,self.num_joints)\n",
        "        # DECODER: HIDDEN STATE DIMENSION IS THE DIMENSION OF THE LAST ENCODER\n",
        "        self.dec = Decoder(self.d_model)\n",
        "\n",
        "        # WEIGHTS INITIALIZATION\n",
        "        for m in self.modules():\n",
        "            if isinstance(m, nn.Conv2d):\n",
        "                conv_init(m)\n",
        "            if isinstance(m, nn.Conv1d):\n",
        "                conv_init(m)\n",
        "            elif isinstance(m, nn.BatchNorm2d):\n",
        "                bn_init(m,1)\n",
        "            elif isinstance(m, nn.BatchNorm1d):\n",
        "                bn_init(m,1)\n",
        "            elif isinstance(m, nn.Linear):\n",
        "                fc_init(m)\n",
        "\n",
        "    def forward(self,x):\n",
        "        x = x.view(-1,self.old_frames,self.num_joints,self.num_channels).permute(0,3,1,2)\n",
        "        # SUM POSITIONAL EMBEDDING\n",
        "        x = (x + self.pos(x)).permute(0,2,3,1).view(-1,self.old_frames,self.num_joints*self.num_channels)\n",
        "        # LINEAR LAYER\n",
        "        x = self.lin(x)\n",
        "        # ENCODER BLOCKS\n",
        "        for i, block in enumerate(self.blocks):\n",
        "            x = block(x)\n",
        "        # RETRIEVE CONTEXT FROM THE ENCODER\n",
        "        context = x.view(-1,self.d_model).unsqueeze(0)\n",
        "        # PASS TO THE DECODER AND RETURN THE RESULTS\n",
        "        results = self.dec(hidden = context,num_steps = self.num_frames_out)\n",
        "        results = results.permute(1,0,2)\n",
        "        return results"
      ],
      "metadata": {
        "id": "F6F99TtgmPN7"
      },
      "execution_count": 31,
      "outputs": []
    },
    {
      "cell_type": "markdown",
      "source": [
        "## Training"
      ],
      "metadata": {
        "id": "zUL3vfCfmaOO"
      }
    },
    {
      "cell_type": "code",
      "source": [
        "# Argument for training\n",
        "n_epochs = 5\n",
        "log_step = 100\n",
        "input_n = 10\n",
        "output_n = 15\n",
        "\n",
        "# The model name to save/load\n",
        "datas = 'h36m'\n",
        "model_path = datas + '_3d_' + str(output_n) + 'frames_ckpt'\n",
        "\n",
        "model = Model(num_channels=3,\n",
        "              num_frames_out=output_n,\n",
        "              old_frames=input_n,\n",
        "              num_joints=22,\n",
        "              num_heads=8,\n",
        "              drop=0.3).to(device)\n",
        "\n",
        "# Arguments to setup the optimizer\n",
        "lr = 5e-04 # learning rate\n",
        "use_scheduler = True # use MultiStepLR scheduler\n",
        "milestones = [2, 2, 2, 5, 5]   # the epochs after which the learning rate is adjusted by gamma\n",
        "gamma = 0.5 #gamma correction to the learning rate, after reaching the milestone epochs\n",
        "weight_decay = 0.00003 # weight decay (L2 penalty)\n",
        "optimizer = optim.Adam(model.parameters(), lr=lr, weight_decay=weight_decay)\n",
        "\n",
        "if use_scheduler:\n",
        "    scheduler = optim.lr_scheduler.MultiStepLR(optimizer, milestones=milestones, gamma=gamma)"
      ],
      "metadata": {
        "id": "O5MQaXD6mlXI"
      },
      "execution_count": 32,
      "outputs": []
    },
    {
      "cell_type": "code",
      "source": [
        "# WE HAVE REWRITE THE TRAIN FUNCTION\n",
        "# TO IMPLEMENT THE SPEED REPRESENTATION\n",
        "\n",
        "save_and_plot = True\n",
        "def train_final(data_loader, vald_loader, clip_grad=None):\n",
        "  train_loss = []\n",
        "  val_loss = []\n",
        "  val_loss_best = 1000\n",
        "\n",
        "  # Initialize lists to store data from each checkpoint\n",
        "  train_losses = []\n",
        "  val_losses = []\n",
        "\n",
        "  dim_used = np.array([6, 7, 8, 9, 10, 11, 12, 13, 14, 15, 16, 17, 21, 22, 23, 24, 25,\n",
        "                    26, 27, 28, 29, 30, 31, 32, 36, 37, 38, 39, 40, 41, 42, 43, 44, 45,\n",
        "                    46, 47, 51, 52, 53, 54, 55, 56, 57, 58, 59, 63, 64, 65, 66, 67, 68,\n",
        "                    75, 76, 77, 78, 79, 80, 81, 82, 83, 87, 88, 89, 90, 91, 92])\n",
        "\n",
        "  for epoch in range(n_epochs):\n",
        "      running_loss = 0\n",
        "      n = 0\n",
        "      model.train()\n",
        "      for cnt, batch in enumerate(data_loader):\n",
        "          batch = batch.float().to(device)\n",
        "          batch_dim = batch.shape[0]\n",
        "          n += batch_dim\n",
        "\n",
        "          # GET SPEED REPRESENTATION:\n",
        "          # SET THE FIRST FRAME TO ZERO AND CALCULATE THE SPEED AS\n",
        "          # Y_{N+1} = X_{N+1} - X_{N}\n",
        "          sequences_train = torch.cat((torch.zeros(*batch[:, :1, dim_used].size()).to(device),batch[:, 1:10, dim_used]-batch[:, :9, dim_used]), 1)\n",
        "          sequences_gt = batch[:, input_n:input_n + output_n, dim_used]\n",
        "\n",
        "          optimizer.zero_grad()\n",
        "          sequences_predict=model(sequences_train)\n",
        "          # COME BACK POSITIONAL REPRESENTATION:\n",
        "          # SUM EACH FRAME TO THE NEXT\n",
        "          # X_{N+1} = Y_{N+1} + Y_{N}\n",
        "          # ADD THE LAST FRAME OF THE TRAIN ONES\n",
        "          sequences_predict[:, 1:output_n, :] = sequences_predict[:, 1:output_n, :] + sequences_predict[:, :output_n-1, :]\n",
        "          sequences_predict = (sequences_predict + batch[:, (input_n-1):input_n, dim_used])\n",
        "\n",
        "\n",
        "          loss = mpjpe_error(sequences_predict, sequences_gt) / output_n\n",
        "\n",
        "\n",
        "          if cnt % log_step == 0:\n",
        "            print('[Epoch: %d, Iteration: %5d]  Training loss: %.3f' %(epoch+1, cnt+1, loss.item()*output_n))\n",
        "\n",
        "          loss.backward()\n",
        "          if clip_grad is not None:\n",
        "            torch.nn.utils.clip_grad_norm_(model.parameters(), clip_grad)\n",
        "\n",
        "          optimizer.step()\n",
        "          running_loss += loss*batch_dim*output_n\n",
        "\n",
        "      train_loss.append(running_loss.detach().cpu()/n)\n",
        "      model.eval()\n",
        "      with torch.no_grad():\n",
        "          running_loss = 0\n",
        "          n = 0\n",
        "          for cnt, batch in enumerate(vald_loader):\n",
        "              batch = batch.float().to(device)\n",
        "              batch_dim = batch.shape[0]\n",
        "              n += batch_dim\n",
        "\n",
        "              # GET SPEED REPRESENTATION:\n",
        "              # SET THE FIRST FRAME TO ZERO AND CALCULATE THE SPEED AS\n",
        "              # Y_{N+1} = X_{N+1} - X_{N}\n",
        "              sequences_train = torch.cat((torch.zeros(*batch[:, :1, dim_used].size()).to(device), batch[:, 1:input_n, dim_used] - batch[:, :input_n-1, dim_used]), 1)\n",
        "              sequences_gt = batch[:, input_n:input_n + output_n, dim_used]\n",
        "\n",
        "              sequences_predict = model(sequences_train)\n",
        "\n",
        "              # COME BACK POSITIONAL REPRESENTATION:\n",
        "              # SUM EACH FRAME TO THE NEXT\n",
        "              # X_{N+1} = Y_{N+1} + Y_{N}\n",
        "              # ADD THE LAST FRAME OF THE TRAIN ONES\n",
        "              sequences_predict[:, 1:output_n, :] = sequences_predict[:, 1:output_n, :] + sequences_predict[:, :(output_n-1), :]\n",
        "              sequences_predict = (sequences_predict + batch[:, (input_n-1):input_n, dim_used])\n",
        "              loss = mpjpe_error(sequences_predict, sequences_gt) / output_n\n",
        "\n",
        "              if cnt % log_step == 0:\n",
        "                print('[Epoch: %d, Iteration: %5d]  Validation loss: %.3f' %(epoch+1, cnt+1, loss.item()*output_n))\n",
        "              running_loss += loss * batch_dim * output_n\n",
        "          val_loss.append(running_loss.detach().cpu()/n)\n",
        "          if running_loss/n < val_loss_best:\n",
        "            val_loss_best = running_loss/n\n",
        "          if (epoch+1) % 5 == 0:\n",
        "            torch.save(model.state_dict(), './checkpoints/LSTM_final_checkpoint_' + str(epoch+1) + '.pt')\n",
        "            train_losses.append(train_loss[-1])\n",
        "            val_losses.append(val_loss[-1])\n",
        "\n",
        "  if use_scheduler:\n",
        "    scheduler.step()\n",
        "\n",
        "  epochs=[5]#,10,15,20]\n",
        "\n",
        "  # Create the plot\n",
        "  plt.figure(figsize=(10, 6))\n",
        "  plt.plot(epochs, train_losses, label='Train Loss', marker='o')\n",
        "  plt.plot(epochs, val_losses, label='Validation Loss', marker='o')\n",
        "\n",
        "  plt.xlabel('Epoch')\n",
        "  plt.ylabel('Loss')\n",
        "  plt.title('Training and Validation Loss Over Epochs')\n",
        "\n",
        "  plt.legend()\n",
        "\n",
        "  # Display the plot\n",
        "  plt.grid(True)\n",
        "  plt.show()\n",
        "  return train_losses,val_losses"
      ],
      "metadata": {
        "id": "v0IV0mwYmnkj"
      },
      "execution_count": 33,
      "outputs": []
    },
    {
      "cell_type": "code",
      "source": [
        "t_loss, v_loss = train_final(dataset, vald_dataset)"
      ],
      "metadata": {
        "id": "WxadEGHsmp7n",
        "colab": {
          "base_uri": "https://localhost:8080/",
          "height": 339
        },
        "outputId": "220f9e4e-3ce9-4e1b-e2b5-ad1a959580ba"
      },
      "execution_count": 34,
      "outputs": [
        {
          "output_type": "stream",
          "name": "stdout",
          "text": [
            "[Epoch: 1, Iteration:     1]  Training loss: 89.595\n"
          ]
        },
        {
          "output_type": "error",
          "ename": "KeyboardInterrupt",
          "evalue": "ignored",
          "traceback": [
            "\u001b[0;31m---------------------------------------------------------------------------\u001b[0m",
            "\u001b[0;31mKeyboardInterrupt\u001b[0m                         Traceback (most recent call last)",
            "\u001b[0;32m<ipython-input-34-f03c63ebe02f>\u001b[0m in \u001b[0;36m<cell line: 1>\u001b[0;34m()\u001b[0m\n\u001b[0;32m----> 1\u001b[0;31m \u001b[0mt_loss\u001b[0m\u001b[0;34m,\u001b[0m \u001b[0mv_loss\u001b[0m \u001b[0;34m=\u001b[0m \u001b[0mtrain_final\u001b[0m\u001b[0;34m(\u001b[0m\u001b[0mdataset\u001b[0m\u001b[0;34m,\u001b[0m \u001b[0mvald_dataset\u001b[0m\u001b[0;34m)\u001b[0m\u001b[0;34m\u001b[0m\u001b[0;34m\u001b[0m\u001b[0m\n\u001b[0m",
            "\u001b[0;32m<ipython-input-33-a69bb6282966>\u001b[0m in \u001b[0;36mtrain_final\u001b[0;34m(data_loader, vald_loader, clip_grad)\u001b[0m\n\u001b[1;32m     48\u001b[0m             \u001b[0mprint\u001b[0m\u001b[0;34m(\u001b[0m\u001b[0;34m'[Epoch: %d, Iteration: %5d]  Training loss: %.3f'\u001b[0m \u001b[0;34m%\u001b[0m\u001b[0;34m(\u001b[0m\u001b[0mepoch\u001b[0m\u001b[0;34m+\u001b[0m\u001b[0;36m1\u001b[0m\u001b[0;34m,\u001b[0m \u001b[0mcnt\u001b[0m\u001b[0;34m+\u001b[0m\u001b[0;36m1\u001b[0m\u001b[0;34m,\u001b[0m \u001b[0mloss\u001b[0m\u001b[0;34m.\u001b[0m\u001b[0mitem\u001b[0m\u001b[0;34m(\u001b[0m\u001b[0;34m)\u001b[0m\u001b[0;34m*\u001b[0m\u001b[0moutput_n\u001b[0m\u001b[0;34m)\u001b[0m\u001b[0;34m)\u001b[0m\u001b[0;34m\u001b[0m\u001b[0;34m\u001b[0m\u001b[0m\n\u001b[1;32m     49\u001b[0m \u001b[0;34m\u001b[0m\u001b[0m\n\u001b[0;32m---> 50\u001b[0;31m           \u001b[0mloss\u001b[0m\u001b[0;34m.\u001b[0m\u001b[0mbackward\u001b[0m\u001b[0;34m(\u001b[0m\u001b[0;34m)\u001b[0m\u001b[0;34m\u001b[0m\u001b[0;34m\u001b[0m\u001b[0m\n\u001b[0m\u001b[1;32m     51\u001b[0m           \u001b[0;32mif\u001b[0m \u001b[0mclip_grad\u001b[0m \u001b[0;32mis\u001b[0m \u001b[0;32mnot\u001b[0m \u001b[0;32mNone\u001b[0m\u001b[0;34m:\u001b[0m\u001b[0;34m\u001b[0m\u001b[0;34m\u001b[0m\u001b[0m\n\u001b[1;32m     52\u001b[0m             \u001b[0mtorch\u001b[0m\u001b[0;34m.\u001b[0m\u001b[0mnn\u001b[0m\u001b[0;34m.\u001b[0m\u001b[0mutils\u001b[0m\u001b[0;34m.\u001b[0m\u001b[0mclip_grad_norm_\u001b[0m\u001b[0;34m(\u001b[0m\u001b[0mmodel\u001b[0m\u001b[0;34m.\u001b[0m\u001b[0mparameters\u001b[0m\u001b[0;34m(\u001b[0m\u001b[0;34m)\u001b[0m\u001b[0;34m,\u001b[0m \u001b[0mclip_grad\u001b[0m\u001b[0;34m)\u001b[0m\u001b[0;34m\u001b[0m\u001b[0;34m\u001b[0m\u001b[0m\n",
            "\u001b[0;32m/usr/local/lib/python3.10/dist-packages/torch/_tensor.py\u001b[0m in \u001b[0;36mbackward\u001b[0;34m(self, gradient, retain_graph, create_graph, inputs)\u001b[0m\n\u001b[1;32m    490\u001b[0m                 \u001b[0minputs\u001b[0m\u001b[0;34m=\u001b[0m\u001b[0minputs\u001b[0m\u001b[0;34m,\u001b[0m\u001b[0;34m\u001b[0m\u001b[0;34m\u001b[0m\u001b[0m\n\u001b[1;32m    491\u001b[0m             )\n\u001b[0;32m--> 492\u001b[0;31m         torch.autograd.backward(\n\u001b[0m\u001b[1;32m    493\u001b[0m             \u001b[0mself\u001b[0m\u001b[0;34m,\u001b[0m \u001b[0mgradient\u001b[0m\u001b[0;34m,\u001b[0m \u001b[0mretain_graph\u001b[0m\u001b[0;34m,\u001b[0m \u001b[0mcreate_graph\u001b[0m\u001b[0;34m,\u001b[0m \u001b[0minputs\u001b[0m\u001b[0;34m=\u001b[0m\u001b[0minputs\u001b[0m\u001b[0;34m\u001b[0m\u001b[0;34m\u001b[0m\u001b[0m\n\u001b[1;32m    494\u001b[0m         )\n",
            "\u001b[0;32m/usr/local/lib/python3.10/dist-packages/torch/autograd/__init__.py\u001b[0m in \u001b[0;36mbackward\u001b[0;34m(tensors, grad_tensors, retain_graph, create_graph, grad_variables, inputs)\u001b[0m\n\u001b[1;32m    249\u001b[0m     \u001b[0;31m# some Python versions print out the first line of a multi-line function\u001b[0m\u001b[0;34m\u001b[0m\u001b[0;34m\u001b[0m\u001b[0m\n\u001b[1;32m    250\u001b[0m     \u001b[0;31m# calls in the traceback and some print out the last line\u001b[0m\u001b[0;34m\u001b[0m\u001b[0;34m\u001b[0m\u001b[0m\n\u001b[0;32m--> 251\u001b[0;31m     Variable._execution_engine.run_backward(  # Calls into the C++ engine to run the backward pass\n\u001b[0m\u001b[1;32m    252\u001b[0m         \u001b[0mtensors\u001b[0m\u001b[0;34m,\u001b[0m\u001b[0;34m\u001b[0m\u001b[0;34m\u001b[0m\u001b[0m\n\u001b[1;32m    253\u001b[0m         \u001b[0mgrad_tensors_\u001b[0m\u001b[0;34m,\u001b[0m\u001b[0;34m\u001b[0m\u001b[0;34m\u001b[0m\u001b[0m\n",
            "\u001b[0;31mKeyboardInterrupt\u001b[0m: "
          ]
        }
      ]
    },
    {
      "cell_type": "markdown",
      "source": [
        "### Analysis and test"
      ],
      "metadata": {
        "id": "grqfpjoQmsgf"
      }
    },
    {
      "cell_type": "code",
      "source": [
        "def test(ckpt_path=None):\n",
        "    model.load_state_dict(torch.load(ckpt_path))\n",
        "    print('model loaded')\n",
        "    model.eval()\n",
        "    accum_loss = 0\n",
        "    n_batches = 0\n",
        "    actions = define_actions(actions_to_consider_test)\n",
        "    dim_used = np.array([ 6, 7, 8, 9, 10, 11, 12, 13, 14, 15, 16, 17, 21, 22, 23, 24, 25,\n",
        "                          26, 27, 28, 29, 30, 31, 32, 36, 37, 38, 39, 40, 41, 42, 43, 44, 45,\n",
        "                          46, 47, 51, 52, 53, 54, 55, 56, 57, 58, 59, 63, 64, 65, 66, 67, 68,\n",
        "                          75, 76, 77, 78, 79, 80, 81, 82, 83, 87, 88, 89, 90, 91, 92 ])\n",
        "    # joints at same loc\n",
        "    joint_to_ignore = np.array([16, 20, 23, 24, 28, 31])\n",
        "\n",
        "    index_to_ignore = np.concatenate((joint_to_ignore * 3, joint_to_ignore * 3 + 1, joint_to_ignore * 3 + 2))\n",
        "    joint_equal = np.array([13, 19, 22, 13, 27, 30])\n",
        "    index_to_equal = np.concatenate((joint_equal*3, joint_equal*3+1, joint_equal*3+2))\n",
        "    totalll = 0\n",
        "    counter = 0\n",
        "    for action in actions:\n",
        "      running_loss = 0\n",
        "      n = 0\n",
        "      dataset_test = datasets.Datasets(path, input_n, 25, skip_rate, split=2, actions=[action])\n",
        "      #print('>>> test action for sequences: {:d}'.format(dataset_test.__len__()))\n",
        "\n",
        "      test_loader = DataLoader(dataset_test, batch_size=batch_size_test, shuffle=False, num_workers=0, pin_memory=True)\n",
        "      for cnt,batch in enumerate(test_loader):\n",
        "        with torch.no_grad():\n",
        "\n",
        "          batch=batch.to(device)\n",
        "          batch_dim=batch.shape[0]\n",
        "          n+=batch_dim\n",
        "\n",
        "          all_joints_seq=batch.clone()[:, input_n:input_n+25,:]\n",
        "\n",
        "          # GET SPEED REPRESENTATION OF THE FIRST FRAMES:\n",
        "          # SET THE FIRST FRAME TO ZERO AND CALCULATE THE SPEED AS\n",
        "          # Y_{N+1} = X_{N+1} - X_{N}\n",
        "          sequences_train1=torch.cat((torch.zeros(*batch[:,:1,dim_used].size()).to(device),batch[:,1:input_n,dim_used]-batch[:,:(input_n-1),dim_used]),1)\n",
        "          sequences_gt=batch[:,10:35,:]\n",
        "\n",
        "\n",
        "          running_time = time.time()\n",
        "          sequences_predict1 = model(sequences_train1)\n",
        "\n",
        "          # COME BACK POSITIONAL REPRESENTATION OF THE FIRST PREDICTION:\n",
        "          # SUM EACH FRAME TO THE NEXT\n",
        "          # X_{N+1} = Y_{N+1} + Y_{N}\n",
        "          # ADD THE LAST FRAME OF THE TRAIN ONES\n",
        "          sequences_predict1[:,1:output_n,:]=sequences_predict1[:,1:output_n,:]+sequences_predict1[:,:(output_n-1),:]\n",
        "          sequences_predict1=(sequences_predict1+batch[:,(input_n-1):input_n,dim_used])\n",
        "\n",
        "          # GET SPEED REPRESENTATION OF THE PREDICTED STEPS:\n",
        "          # SET THE FIRST FRAME TO ZERO AND CALCULATE THE SPEED AS\n",
        "          # Y_{N+1} = X_{N+1} - X_{N}\n",
        "          sequences_train2=torch.cat((torch.zeros(*batch[:,:1,dim_used].size()).to(device),\n",
        "                                     sequences_predict1[:,6:15,:]-sequences_predict1[:,5:14,:]),1)\n",
        "\n",
        "          sequences_predict2=model(sequences_train2)\n",
        "\n",
        "          # COME BACK POSITIONAL REPRESENTATION OF THE SECOND PREDICTION:\n",
        "          # SUM EACH FRAME TO THE NEXT\n",
        "          # X_{N+1} = Y_{N+1} + Y_{N}\n",
        "          # ADD THE LAST FRAME OF THE TRAIN ONES\n",
        "          sequences_predict2[:,1:output_n,:]=sequences_predict2[:,1:output_n,:]+sequences_predict2[:,:(output_n-1),:]\n",
        "          sequences_predict2=(sequences_predict2+sequences_predict1[:,(output_n-1):output_n,:])\n",
        "\n",
        "          # STACK THE TWO PREDICTED SEQUENCES\n",
        "          sequences_predict = torch.cat((sequences_predict1,sequences_predict2[:,:10,:]),1)\n",
        "\n",
        "          totalll += time.time()-running_time\n",
        "          counter += 1\n",
        "\n",
        "          all_joints_seq[:,:,dim_used] = sequences_predict\n",
        "\n",
        "\n",
        "          all_joints_seq[:,:,index_to_ignore] = all_joints_seq[:,:,index_to_equal]\n",
        "\n",
        "          loss = mpjpe_error(all_joints_seq.view(-1,25,32,3),sequences_gt.view(-1,25,32,3))\n",
        "          running_loss += loss*batch_dim\n",
        "          accum_loss += loss*batch_dim\n",
        "\n",
        "      #print('loss at test subject for action : '+str(action)+ ' is: '+ str(running_loss/n))\n",
        "      print(str(action),': ', str(np.round((running_loss/n).item(),1)))\n",
        "      n_batches+=n\n",
        "    print('Average: ' + str(np.round((accum_loss/n_batches).item(),1)))\n",
        "    print('Prediction time: ', totalll/counter)"
      ],
      "metadata": {
        "id": "q_ZNNWfZmw9_"
      },
      "execution_count": null,
      "outputs": []
    },
    {
      "cell_type": "code",
      "source": [
        "path = './data/h3.6m/h3.6m/dataset'\n",
        "skip_rate = 1\n",
        "batch_size_test = 8\n",
        "actions_to_consider_test = 'all'\n",
        "ckpt_path = './checkpoints/LSTM_final_checkpoint_5.pt'\n",
        "\n",
        "test(ckpt_path)"
      ],
      "metadata": {
        "id": "yz9TMbI3mxfh"
      },
      "execution_count": null,
      "outputs": []
    },
    {
      "cell_type": "markdown",
      "source": [
        "# Bayesian LSTM version\n",
        "- Encoder: Transformer + CNN\n",
        "- Decoder: Bayesian LSTM"
      ],
      "metadata": {
        "id": "67awsFbxm9dn"
      }
    },
    {
      "cell_type": "code",
      "source": [
        "!pip install blitz-bayesian-pytorch"
      ],
      "metadata": {
        "id": "fN5xLxk0otQN"
      },
      "execution_count": null,
      "outputs": []
    },
    {
      "cell_type": "code",
      "source": [
        "# to use the blitz-bayesian library\n",
        "from blitz.modules import BayesianLinear\n",
        "from blitz.modules import BayesianLSTM"
      ],
      "metadata": {
        "id": "ZwIkuRgooubO"
      },
      "execution_count": 8,
      "outputs": []
    },
    {
      "cell_type": "code",
      "source": [
        "# to use the bayesian-torch library\n",
        "from bayesian_torch.layers import LinearReparameterization as BayesianLinear\n",
        "from bayesian_torch.layers import LSTMReparameterization as BayesianLSTM"
      ],
      "metadata": {
        "id": "LFWVgbfg4l0x"
      },
      "execution_count": 7,
      "outputs": []
    },
    {
      "cell_type": "markdown",
      "source": [
        "## Definition"
      ],
      "metadata": {
        "id": "SX8M0Sa_AVQ5"
      }
    },
    {
      "cell_type": "markdown",
      "source": [
        "### Encoder"
      ],
      "metadata": {
        "id": "RStWekR7AVRB"
      }
    },
    {
      "cell_type": "code",
      "source": [
        "class Attention(nn.Module):\n",
        "    # CLASSICAL ATTENTION MECHANISM\n",
        "    # IT'S THE SAME OF THE TEORICAL PART\n",
        "\n",
        "    def __init__(self, attn_dropout):\n",
        "        super().__init__()\n",
        "        self.dropout = nn.Dropout(attn_dropout)\n",
        "    def forward(self, query, key, value, mask=None):\n",
        "        attn = torch.matmul(query, key.transpose(-2, -1))\n",
        "        d_k = query.size(-1)\n",
        "        attn = attn / (d_k ** 0.5)\n",
        "        if mask is not None:\n",
        "            attn = attn.masked_fill(mask == 0, -1e9)\n",
        "        attn = self.dropout(F.softmax(attn,-1))\n",
        "        output = torch.matmul(attn, value)\n",
        "        return output, attn"
      ],
      "metadata": {
        "id": "tN8KjEMpAVRB"
      },
      "execution_count": 9,
      "outputs": []
    },
    {
      "cell_type": "code",
      "source": [
        "class MultiHeadAttention(nn.Module):\n",
        "    # ALSO THE MULTIHEAD ATTENTION MECHANISM IS THE SAME OF TEORICAL PART\n",
        "\n",
        "    def __init__(self, num_heads, d_model, dropout):\n",
        "        super(MultiHeadAttention, self).__init__()\n",
        "        assert d_model % num_heads == 0\n",
        "        #  We assume d_v always equals d_k\n",
        "        self.d_k = d_model // num_heads\n",
        "        self.num_heads = num_heads\n",
        "        self.query_ff = nn.Linear(d_model, d_model)\n",
        "        self.key_ff = nn.Linear(d_model, d_model)\n",
        "        self.value_ff = nn.Linear(d_model, d_model)\n",
        "        self.attn = None\n",
        "        self.dropout = nn.Dropout(p=dropout)\n",
        "        self.attention = Attention(attn_dropout=dropout)\n",
        "    def forward(self, query, key, value, mask=None, return_attention=False):\n",
        "        if mask is not None:\n",
        "            mask = mask.unsqueeze(1)\n",
        "        nbatches = query.size(0)\n",
        "        query = self.query_ff(query).view(nbatches, -1, self.num_heads, self.d_k).transpose(1, 2)\n",
        "        key = self.key_ff(key).view(nbatches, -1, self.num_heads, self.d_k).transpose(1, 2)\n",
        "        value = self.value_ff(value).view(nbatches, -1, self.num_heads, self.d_k).transpose(1, 2)\n",
        "        x, self.attn = self.attention(query, key, value, mask)\n",
        "        x = x.transpose(1, 2).contiguous().view(nbatches, -1, self.num_heads * self.d_k)\n",
        "        if return_attention:\n",
        "            return self.attn_ff(x), self.attn\n",
        "        return x"
      ],
      "metadata": {
        "id": "amaoykvRAVRB"
      },
      "execution_count": 10,
      "outputs": []
    },
    {
      "cell_type": "code",
      "source": [
        "class EncoderBlock(nn.Module):\n",
        "    # THE ENCODER BLOCK IS A TIPICAL TRANSFORMER ENCODER,\n",
        "    # BUT WE HAVE ADDED A CONVOLUTIONAL LAYER AT THE END:\n",
        "    # self.conv IS USED TO SHRINK THE INFORMATION ALONG THE ENCODER BLOCKS\n",
        "    # THIS IS A METHOD TO DISTILL INFORMATION SHOULD BE PASSED TO THE DECODER\n",
        "    # AND MOREOVER TO SAVE A LOT OF TIME\n",
        "\n",
        "    def __init__(self,num_heads,d_model,time_in,time_out,num_joints,dropout):\n",
        "        super().__init__()\n",
        "\n",
        "        self.num_joints = num_joints\n",
        "        self.d_model = d_model\n",
        "\n",
        "        self.self_attn = MultiHeadAttention(num_heads, d_model, dropout)\n",
        "\n",
        "        # LAYERNORM LAYERS AND DROPOUT\n",
        "        self.norm1 = nn.LayerNorm(d_model)\n",
        "        self.norm2 = nn.LayerNorm(d_model)\n",
        "        self.dropout = nn.Dropout(dropout)\n",
        "        self.relu = nn.ReLU()\n",
        "\n",
        "        # MLP\n",
        "        self.lin_net = nn.Sequential(\n",
        "            nn.Linear(d_model,2*d_model),\n",
        "            nn.ReLU(),\n",
        "            nn.Linear(2*d_model,d_model),\n",
        "            nn.ReLU()\n",
        "        )\n",
        "\n",
        "        # A CNN SHRINKS THE FRAMES FROM time_it TO time_out\n",
        "        # AND THE d_model IS HALVED AFTER EACH BLOCK\n",
        "        self.conv = nn.Conv1d(time_in,time_out,3,padding=1)\n",
        "\n",
        "    def forward(self, xs, mask=None):\n",
        "        x = xs\n",
        "        att = self.self_attn(x, x, x, mask)\n",
        "        x = self.relu(x + att)\n",
        "        x = self.norm1(x)\n",
        "\n",
        "        lin_output = self.lin_net(x)\n",
        "        x = self.relu(x + self.dropout(lin_output))\n",
        "\n",
        "        # WE ADD A RESIDUAL CONNECTION ALSO HERE\n",
        "        # IT REDUCES A BIT THE VANISH GRADIENT\n",
        "        x = self.norm2(x + xs)\n",
        "\n",
        "        # SHRINK\n",
        "        x = self.conv(x)\n",
        "\n",
        "        return x"
      ],
      "metadata": {
        "id": "jA0GYRIYAVRB"
      },
      "execution_count": 11,
      "outputs": []
    },
    {
      "cell_type": "markdown",
      "source": [
        "### Decoder"
      ],
      "metadata": {
        "id": "j7uoY-P7AVRC"
      }
    },
    {
      "cell_type": "code",
      "source": [
        "class Decoder(nn.Module):\n",
        "    # THE DECODER BLOCK IS A SIMPLE LSTM,\n",
        "    # WHICH TAKES THE DISTILLED INFORMATION FROM THE\n",
        "    # ENCODER AS HIDDEN STATE AND AUTOREGRESSIVLY\n",
        "    # FORSEES THE NEXT FRAMES\n",
        "    def __init__(self, hidden_dim, num_layers=1):\n",
        "        super(Decoder, self).__init__()\n",
        "        # LSTM\n",
        "        self.lstm = BayesianLSTM(66, hidden_dim)\n",
        "        # LINEAR self.out TO RETURN THE ORIGINAL DIMENSIONS\n",
        "        self.out = nn.Linear(hidden_dim, 66)\n",
        "\n",
        "    def forward(self, hidden, num_steps):\n",
        "        # CELL STATE IS INITIALIZED TO ZEROS\n",
        "        cell = nn.Parameter(torch.zeros(*hidden.shape)).to(device)\n",
        "        batch_size = hidden.size(1)\n",
        "        # THE <START> IS INITIALIZED TO ONES\n",
        "        input = torch.ones((batch_size,66), dtype=torch.float).unsqueeze(0).to(device)\n",
        "        outputs = torch.zeros((num_steps,batch_size,66), dtype=torch.float).to(device)\n",
        "\n",
        "        for t in range(num_steps):\n",
        "            # FORCAST\n",
        "            decoder_output, (_,_) = self.lstm(input) # if blitz-bayesian library\n",
        "            #decoder_output, _, kl = self.lstm(input) # if bayesian-torch library\n",
        "            # SET TO THE ORIGINAL DIMENSIONS\n",
        "            decoder_output = self.out(decoder_output[-1])\n",
        "            outputs[t] = decoder_output\n",
        "            # STACK TO THE INPUT\n",
        "            input = torch.cat((input,decoder_output.unsqueeze(0)),0)\n",
        "        return outputs"
      ],
      "metadata": {
        "id": "YK_aIjVwAVRC"
      },
      "execution_count": 12,
      "outputs": []
    },
    {
      "cell_type": "markdown",
      "source": [
        "### Model"
      ],
      "metadata": {
        "id": "1nGPOuEoAVRC"
      }
    },
    {
      "cell_type": "code",
      "source": [
        "def conv_init(conv):\n",
        "    nn.init.kaiming_normal_(conv.weight, nonlinearity='relu')"
      ],
      "metadata": {
        "id": "3FPpIS6SAVRC"
      },
      "execution_count": 13,
      "outputs": []
    },
    {
      "cell_type": "code",
      "source": [
        "def fc_init(fc):\n",
        "    nn.init.kaiming_normal_(fc.weight, nonlinearity='relu')"
      ],
      "metadata": {
        "id": "VkznwRnmAVRC"
      },
      "execution_count": 14,
      "outputs": []
    },
    {
      "cell_type": "code",
      "source": [
        "def bn_init(bn, scale):\n",
        "    nn.init.constant_(bn.weight, scale)\n",
        "    nn.init.constant_(bn.bias, 0)"
      ],
      "metadata": {
        "id": "lntSvOeKAVRC"
      },
      "execution_count": 15,
      "outputs": []
    },
    {
      "cell_type": "code",
      "source": [
        "class Model(nn.Module):\n",
        "    # THIS IS THE FINAL MODEL IN WHICH WE MERGED THE ENCODER AND DECODER PARTS\n",
        "    def __init__(self, num_channels, num_frames_out,\n",
        "                 old_frames, num_joints, num_heads, drop,\n",
        "                 d_model = 512, config=None):\n",
        "        super().__init__()\n",
        "\n",
        "        # CONFIGURATION FOR THE ENCODER BLOCKS\n",
        "        if config==None:\n",
        "            self.config = [[d_model,10,8],[d_model,8,6],[d_model,6,4],[d_model,4,2],[d_model,2,1]]\n",
        "\n",
        "        self.num_channels = num_channels\n",
        "        self.num_frames_out = num_frames_out\n",
        "        self.num_heads = num_heads\n",
        "        self.num_joints = num_joints\n",
        "        self.old_frames = old_frames\n",
        "        self.d_model = d_model\n",
        "\n",
        "        # LINEAR BLOCK TO PASS FROM INITIAL DIMENSION 66 TO d_model\n",
        "        self.lin = nn.Sequential(nn.Linear(self.num_channels*self.num_joints,d_model),nn.BatchNorm1d(self.old_frames))\n",
        "        self.norm = nn.BatchNorm2d(self.num_channels)\n",
        "\n",
        "        # ENCODER\n",
        "        self.blocks = nn.ModuleList()\n",
        "        # d_ : d_model of the block;\n",
        "        # in_ : number of frames of the sequences at the begin;\n",
        "        # out_ : number of frames of the sequences at the end\n",
        "        for index, (d_,in_,out_) in enumerate(self.config):\n",
        "            self.blocks.append(EncoderBlock(num_heads=self.num_heads,\n",
        "                                            d_model=d_, time_in=in_, time_out=out_,\n",
        "                                            num_joints=self.num_joints,dropout=drop))\n",
        "\n",
        "        # SINUSOIDAL POSITIONAL EMBEDDINGS\n",
        "        self.pos = Pos_Embed(self.num_channels,self.old_frames,self.num_joints)\n",
        "        # DECODER: HIDDEN STATE DIMENSION IS THE DIMENSION OF THE LAST ENCODER\n",
        "        self.dec = Decoder(self.d_model)\n",
        "\n",
        "        # WEIGHTS INITIALIZATION\n",
        "        for m in self.modules():\n",
        "            if isinstance(m, nn.Conv2d):\n",
        "                conv_init(m)\n",
        "            if isinstance(m, nn.Conv1d):\n",
        "                conv_init(m)\n",
        "            elif isinstance(m, nn.BatchNorm2d):\n",
        "                bn_init(m,1)\n",
        "            elif isinstance(m, nn.BatchNorm1d):\n",
        "                bn_init(m,1)\n",
        "            elif isinstance(m, nn.Linear):\n",
        "                fc_init(m)\n",
        "\n",
        "    def forward(self,x):\n",
        "        x = x.view(-1,self.old_frames,self.num_joints,self.num_channels).permute(0,3,1,2)\n",
        "        # SUM POSITIONAL EMBEDDING\n",
        "        x = (x + self.pos(x)).permute(0,2,3,1).view(-1,self.old_frames,self.num_joints*self.num_channels)\n",
        "        # LINEAR LAYER\n",
        "        x = self.lin(x)\n",
        "        # ENCODER BLOCKS\n",
        "        for i, block in enumerate(self.blocks):\n",
        "            x = block(x)\n",
        "        # RETRIEVE CONTEXT FROM THE ENCODER\n",
        "        context = x.view(-1,self.d_model).unsqueeze(0)\n",
        "        # PASS TO THE DECODER AND RETURN THE RESULTS\n",
        "        results = self.dec(hidden = context,num_steps = self.num_frames_out)\n",
        "        results = results.permute(1,0,2)\n",
        "        return results"
      ],
      "metadata": {
        "id": "gZdzMIDfAVRC"
      },
      "execution_count": 16,
      "outputs": []
    },
    {
      "cell_type": "markdown",
      "source": [
        "## Training"
      ],
      "metadata": {
        "id": "gF-6ZJHMAVRD"
      }
    },
    {
      "cell_type": "code",
      "source": [
        "# Argument for training\n",
        "n_epochs = 5\n",
        "log_step = 50\n",
        "input_n = 10\n",
        "output_n = 15\n",
        "\n",
        "# The model name to save/load\n",
        "datas = 'h36m'\n",
        "model_path = datas + '_3d_' + str(output_n) + 'frames_ckpt'\n",
        "\n",
        "model = Model(num_channels=3,\n",
        "              num_frames_out=output_n,\n",
        "              old_frames=input_n,\n",
        "              num_joints=22,\n",
        "              num_heads=8,\n",
        "              drop=0.3).to(device)\n",
        "\n",
        "# Arguments to setup the optimizer\n",
        "lr = 5e-04 # learning rate\n",
        "use_scheduler = True # use MultiStepLR scheduler\n",
        "milestones = [2, 2, 2, 5, 5]   # the epochs after which the learning rate is adjusted by gamma\n",
        "gamma = 0.5 #gamma correction to the learning rate, after reaching the milestone epochs\n",
        "weight_decay = 0.00003 # weight decay (L2 penalty)\n",
        "optimizer = optim.Adam(model.parameters(), lr=lr, weight_decay=weight_decay)\n",
        "\n",
        "if use_scheduler:\n",
        "    scheduler = optim.lr_scheduler.MultiStepLR(optimizer, milestones=milestones, gamma=gamma)"
      ],
      "metadata": {
        "id": "M_Rq3_ibAVRD"
      },
      "execution_count": 17,
      "outputs": []
    },
    {
      "cell_type": "code",
      "source": [
        "# WE HAVE REWRITE THE TRAIN FUNCTION\n",
        "# TO IMPLEMENT THE SPEED REPRESENTATION\n",
        "\n",
        "save_and_plot = False\n",
        "def train_final(data_loader, vald_loader, clip_grad=None):\n",
        "  train_loss = []\n",
        "  val_loss = []\n",
        "  val_loss_best = 1000\n",
        "\n",
        "  # Initialize lists to store data from each checkpoint\n",
        "  train_losses = []\n",
        "  val_losses = []\n",
        "\n",
        "  dim_used = np.array([6, 7, 8, 9, 10, 11, 12, 13, 14, 15, 16, 17, 21, 22, 23, 24, 25,\n",
        "                    26, 27, 28, 29, 30, 31, 32, 36, 37, 38, 39, 40, 41, 42, 43, 44, 45,\n",
        "                    46, 47, 51, 52, 53, 54, 55, 56, 57, 58, 59, 63, 64, 65, 66, 67, 68,\n",
        "                    75, 76, 77, 78, 79, 80, 81, 82, 83, 87, 88, 89, 90, 91, 92])\n",
        "\n",
        "  for epoch in range(n_epochs):\n",
        "      running_loss = 0\n",
        "      n = 0\n",
        "      model.train()\n",
        "      for cnt, batch in enumerate(data_loader):\n",
        "          batch = batch.float().to(device)\n",
        "          batch_dim = batch.shape[0]\n",
        "          n += batch_dim\n",
        "\n",
        "          # GET SPEED REPRESENTATION:\n",
        "          # SET THE FIRST FRAME TO ZERO AND CALCULATE THE SPEED AS\n",
        "          # Y_{N+1} = X_{N+1} - X_{N}\n",
        "          sequences_train = torch.cat((torch.zeros(*batch[:, :1, dim_used].size()).to(device),batch[:, 1:10, dim_used]-batch[:, :9, dim_used]), 1)\n",
        "          sequences_gt = batch[:, input_n:input_n + output_n, dim_used]\n",
        "\n",
        "          optimizer.zero_grad()\n",
        "          sequences_predict=model(sequences_train)\n",
        "          # COME BACK POSITIONAL REPRESENTATION:\n",
        "          # SUM EACH FRAME TO THE NEXT\n",
        "          # X_{N+1} = Y_{N+1} + Y_{N}\n",
        "          # ADD THE LAST FRAME OF THE TRAIN ONES\n",
        "          sequences_predict[:, 1:output_n, :] = sequences_predict[:, 1:output_n, :] + sequences_predict[:, :output_n-1, :]\n",
        "          sequences_predict = (sequences_predict + batch[:, (input_n-1):input_n, dim_used])\n",
        "\n",
        "\n",
        "          loss = mpjpe_error(sequences_predict, sequences_gt) / output_n\n",
        "\n",
        "\n",
        "          if cnt % log_step == 0:\n",
        "            print('[Epoch: %d, Iteration: %5d]  Training loss: %.3f' %(epoch+1, cnt+1, loss.item()*output_n))\n",
        "\n",
        "          loss.backward()\n",
        "          if clip_grad is not None:\n",
        "            torch.nn.utils.clip_grad_norm_(model.parameters(), clip_grad)\n",
        "\n",
        "          optimizer.step()\n",
        "          running_loss += loss*batch_dim*output_n\n",
        "\n",
        "      train_loss.append(running_loss.detach().cpu()/n)\n",
        "      model.eval()\n",
        "      with torch.no_grad():\n",
        "          running_loss = 0\n",
        "          n = 0\n",
        "          for cnt, batch in enumerate(vald_loader):\n",
        "              batch = batch.float().to(device)\n",
        "              batch_dim = batch.shape[0]\n",
        "              n += batch_dim\n",
        "\n",
        "              # GET SPEED REPRESENTATION:\n",
        "              # SET THE FIRST FRAME TO ZERO AND CALCULATE THE SPEED AS\n",
        "              # Y_{N+1} = X_{N+1} - X_{N}\n",
        "              sequences_train = torch.cat((torch.zeros(*batch[:, :1, dim_used].size()).to(device), batch[:, 1:input_n, dim_used] - batch[:, :input_n-1, dim_used]), 1)\n",
        "              sequences_gt = batch[:, input_n:input_n + output_n, dim_used]\n",
        "\n",
        "              sequences_predict = model(sequences_train)\n",
        "\n",
        "              # COME BACK POSITIONAL REPRESENTATION:\n",
        "              # SUM EACH FRAME TO THE NEXT\n",
        "              # X_{N+1} = Y_{N+1} + Y_{N}\n",
        "              # ADD THE LAST FRAME OF THE TRAIN ONES\n",
        "              sequences_predict[:, 1:output_n, :] = sequences_predict[:, 1:output_n, :] + sequences_predict[:, :(output_n-1), :]\n",
        "              sequences_predict = (sequences_predict + batch[:, (input_n-1):input_n, dim_used])\n",
        "              loss = mpjpe_error(sequences_predict, sequences_gt) / output_n\n",
        "\n",
        "              if cnt % log_step == 0:\n",
        "                print('[Epoch: %d, Iteration: %5d]  Validation loss: %.3f' %(epoch+1, cnt+1, loss.item()*output_n))\n",
        "              running_loss += loss * batch_dim * output_n\n",
        "          val_loss.append(running_loss.detach().cpu()/n)\n",
        "          if running_loss/n < val_loss_best:\n",
        "            val_loss_best = running_loss/n\n",
        "          if (epoch+1) % 5 == 0:\n",
        "            torch.save(model.state_dict(), './checkpoints/LSTM_final_checkpoint_' + str(epoch+1) + '.pt')\n",
        "            train_losses.append(train_loss[-1])\n",
        "            val_losses.append(val_loss[-1])\n",
        "\n",
        "  if use_scheduler:\n",
        "    scheduler.step()\n",
        "\n",
        "  epochs=[5]#,10,15,20]\n",
        "\n",
        "  # Create the plot\n",
        "  plt.figure(figsize=(10, 6))\n",
        "  plt.plot(epochs, train_losses, label='Train Loss', marker='o')\n",
        "  plt.plot(epochs, val_losses, label='Validation Loss', marker='o')\n",
        "\n",
        "  plt.xlabel('Epoch')\n",
        "  plt.ylabel('Loss')\n",
        "  plt.title('Training and Validation Loss Over Epochs')\n",
        "\n",
        "  plt.legend()\n",
        "\n",
        "  # Display the plot\n",
        "  plt.grid(True)\n",
        "  plt.show()\n",
        "  return train_losses, val_losses"
      ],
      "metadata": {
        "id": "ZIzedFK6AVRD"
      },
      "execution_count": 18,
      "outputs": []
    },
    {
      "cell_type": "code",
      "source": [
        "t_loss, v_loss = train_final(dataset, vald_dataset)"
      ],
      "metadata": {
        "id": "4jU2QmreAVRD"
      },
      "execution_count": null,
      "outputs": []
    },
    {
      "cell_type": "markdown",
      "source": [
        "### Analysis and test"
      ],
      "metadata": {
        "id": "joRCIHl3AVRE"
      }
    },
    {
      "cell_type": "code",
      "source": [
        "def test(ckpt_path=None):\n",
        "    model.load_state_dict(torch.load(ckpt_path))\n",
        "    print('model loaded')\n",
        "    model.eval()\n",
        "    accum_loss = 0\n",
        "    n_batches = 0\n",
        "    actions = define_actions(actions_to_consider_test)\n",
        "    dim_used = np.array([ 6, 7, 8, 9, 10, 11, 12, 13, 14, 15, 16, 17, 21, 22, 23, 24, 25,\n",
        "                          26, 27, 28, 29, 30, 31, 32, 36, 37, 38, 39, 40, 41, 42, 43, 44, 45,\n",
        "                          46, 47, 51, 52, 53, 54, 55, 56, 57, 58, 59, 63, 64, 65, 66, 67, 68,\n",
        "                          75, 76, 77, 78, 79, 80, 81, 82, 83, 87, 88, 89, 90, 91, 92 ])\n",
        "    # joints at same loc\n",
        "    joint_to_ignore = np.array([16, 20, 23, 24, 28, 31])\n",
        "\n",
        "    index_to_ignore = np.concatenate((joint_to_ignore * 3, joint_to_ignore * 3 + 1, joint_to_ignore * 3 + 2))\n",
        "    joint_equal = np.array([13, 19, 22, 13, 27, 30])\n",
        "    index_to_equal = np.concatenate((joint_equal*3, joint_equal*3+1, joint_equal*3+2))\n",
        "    totalll = 0\n",
        "    counter = 0\n",
        "    for action in actions:\n",
        "      running_loss = 0\n",
        "      n = 0\n",
        "      dataset_test = datasets.Datasets(path, input_n, 25, skip_rate, split=2, actions=[action])\n",
        "      #print('>>> test action for sequences: {:d}'.format(dataset_test.__len__()))\n",
        "\n",
        "      test_loader = DataLoader(dataset_test, batch_size=batch_size_test, shuffle=False, num_workers=0, pin_memory=True)\n",
        "      for cnt,batch in enumerate(test_loader):\n",
        "        with torch.no_grad():\n",
        "\n",
        "          batch=batch.to(device)\n",
        "          batch_dim=batch.shape[0]\n",
        "          n+=batch_dim\n",
        "\n",
        "          all_joints_seq=batch.clone()[:, input_n:input_n+25,:]\n",
        "\n",
        "          # GET SPEED REPRESENTATION OF THE FIRST FRAMES:\n",
        "          # SET THE FIRST FRAME TO ZERO AND CALCULATE THE SPEED AS\n",
        "          # Y_{N+1} = X_{N+1} - X_{N}\n",
        "          sequences_train1=torch.cat((torch.zeros(*batch[:,:1,dim_used].size()).to(device),batch[:,1:input_n,dim_used]-batch[:,:(input_n-1),dim_used]),1)\n",
        "          sequences_gt=batch[:,10:35,:]\n",
        "\n",
        "\n",
        "          running_time = time.time()\n",
        "          sequences_predict1 = model(sequences_train1)\n",
        "\n",
        "          # COME BACK POSITIONAL REPRESENTATION OF THE FIRST PREDICTION:\n",
        "          # SUM EACH FRAME TO THE NEXT\n",
        "          # X_{N+1} = Y_{N+1} + Y_{N}\n",
        "          # ADD THE LAST FRAME OF THE TRAIN ONES\n",
        "          sequences_predict1[:,1:output_n,:]=sequences_predict1[:,1:output_n,:]+sequences_predict1[:,:(output_n-1),:]\n",
        "          sequences_predict1=(sequences_predict1+batch[:,(input_n-1):input_n,dim_used])\n",
        "\n",
        "          # GET SPEED REPRESENTATION OF THE PREDICTED STEPS:\n",
        "          # SET THE FIRST FRAME TO ZERO AND CALCULATE THE SPEED AS\n",
        "          # Y_{N+1} = X_{N+1} - X_{N}\n",
        "          sequences_train2=torch.cat((torch.zeros(*batch[:,:1,dim_used].size()).to(device),\n",
        "                                     sequences_predict1[:,6:15,:]-sequences_predict1[:,5:14,:]),1)\n",
        "\n",
        "          sequences_predict2=model(sequences_train2)\n",
        "\n",
        "          # COME BACK POSITIONAL REPRESENTATION OF THE SECOND PREDICTION:\n",
        "          # SUM EACH FRAME TO THE NEXT\n",
        "          # X_{N+1} = Y_{N+1} + Y_{N}\n",
        "          # ADD THE LAST FRAME OF THE TRAIN ONES\n",
        "          sequences_predict2[:,1:output_n,:]=sequences_predict2[:,1:output_n,:]+sequences_predict2[:,:(output_n-1),:]\n",
        "          sequences_predict2=(sequences_predict2+sequences_predict1[:,(output_n-1):output_n,:])\n",
        "\n",
        "          # STACK THE TWO PREDICTED SEQUENCES\n",
        "          sequences_predict = torch.cat((sequences_predict1,sequences_predict2[:,:10,:]),1)\n",
        "\n",
        "          totalll += time.time()-running_time\n",
        "          counter += 1\n",
        "\n",
        "          all_joints_seq[:,:,dim_used] = sequences_predict\n",
        "\n",
        "\n",
        "          all_joints_seq[:,:,index_to_ignore] = all_joints_seq[:,:,index_to_equal]\n",
        "\n",
        "          loss = mpjpe_error(all_joints_seq.view(-1,25,32,3),sequences_gt.view(-1,25,32,3))\n",
        "          running_loss += loss*batch_dim\n",
        "          accum_loss += loss*batch_dim\n",
        "\n",
        "      #print('loss at test subject for action : '+str(action)+ ' is: '+ str(running_loss/n))\n",
        "      print(str(action),': ', str(np.round((running_loss/n).item(),1)))\n",
        "      n_batches+=n\n",
        "    print('Average: ' + str(np.round((accum_loss/n_batches).item(),1)))\n",
        "    print('Prediction time: ', totalll/counter)"
      ],
      "metadata": {
        "id": "T-NNhaUTAVRE"
      },
      "execution_count": null,
      "outputs": []
    },
    {
      "cell_type": "code",
      "source": [
        "path = './data/h3.6m/h3.6m/dataset'\n",
        "skip_rate = 1\n",
        "batch_size_test = 8\n",
        "actions_to_consider_test = 'all'\n",
        "ckpt_path = './checkpoints/LSTM_final_checkpoint_5.pt'\n",
        "\n",
        "test(ckpt_path)"
      ],
      "metadata": {
        "id": "dh_jti0GAVRE"
      },
      "execution_count": null,
      "outputs": []
    },
    {
      "cell_type": "markdown",
      "source": [
        "# Bayesian GRU version\n",
        "- Encoder: Transformer + CNN\n",
        "- Decoder: Bayesian GRU"
      ],
      "metadata": {
        "id": "5pdoyGt6Tceb"
      }
    },
    {
      "cell_type": "code",
      "source": [
        "!pip install blitz-bayesian-pytorch"
      ],
      "metadata": {
        "id": "lPci27c4Tcej"
      },
      "execution_count": null,
      "outputs": []
    },
    {
      "cell_type": "code",
      "source": [
        "from blitz.modules import BayesianLinear\n",
        "from blitz.modules import BayesianGRU"
      ],
      "metadata": {
        "id": "PRpvqSKOTcej"
      },
      "execution_count": 8,
      "outputs": []
    },
    {
      "cell_type": "markdown",
      "source": [
        "## Definition"
      ],
      "metadata": {
        "id": "-iO4_PjVTcek"
      }
    },
    {
      "cell_type": "markdown",
      "source": [
        "### Encoder"
      ],
      "metadata": {
        "id": "BUD8j4miTcek"
      }
    },
    {
      "cell_type": "code",
      "source": [
        "class Attention(nn.Module):\n",
        "    # CLASSICAL ATTENTION MECHANISM\n",
        "    # IT'S THE SAME OF THE TEORICAL PART\n",
        "\n",
        "    def __init__(self, attn_dropout):\n",
        "        super().__init__()\n",
        "        self.dropout = nn.Dropout(attn_dropout)\n",
        "    def forward(self, query, key, value, mask=None):\n",
        "        attn = torch.matmul(query, key.transpose(-2, -1))\n",
        "        d_k = query.size(-1)\n",
        "        attn = attn / (d_k ** 0.5)\n",
        "        if mask is not None:\n",
        "            attn = attn.masked_fill(mask == 0, -1e9)\n",
        "        attn = self.dropout(F.softmax(attn,-1))\n",
        "        output = torch.matmul(attn, value)\n",
        "        return output, attn"
      ],
      "metadata": {
        "id": "1GqcL-vTTcek"
      },
      "execution_count": 9,
      "outputs": []
    },
    {
      "cell_type": "code",
      "source": [
        "class MultiHeadAttention(nn.Module):\n",
        "    # ALSO THE MULTIHEAD ATTENTION MECHANISM IS THE SAME OF TEORICAL PART\n",
        "\n",
        "    def __init__(self, num_heads, d_model, dropout):\n",
        "        super(MultiHeadAttention, self).__init__()\n",
        "        assert d_model % num_heads == 0\n",
        "        #  We assume d_v always equals d_k\n",
        "        self.d_k = d_model // num_heads\n",
        "        self.num_heads = num_heads\n",
        "        self.query_ff = nn.Linear(d_model, d_model)\n",
        "        self.key_ff = nn.Linear(d_model, d_model)\n",
        "        self.value_ff = nn.Linear(d_model, d_model)\n",
        "        self.attn = None\n",
        "        self.dropout = nn.Dropout(p=dropout)\n",
        "        self.attention = Attention(attn_dropout=dropout)\n",
        "    def forward(self, query, key, value, mask=None, return_attention=False):\n",
        "        if mask is not None:\n",
        "            mask = mask.unsqueeze(1)\n",
        "        nbatches = query.size(0)\n",
        "        query = self.query_ff(query).view(nbatches, -1, self.num_heads, self.d_k).transpose(1, 2)\n",
        "        key = self.key_ff(key).view(nbatches, -1, self.num_heads, self.d_k).transpose(1, 2)\n",
        "        value = self.value_ff(value).view(nbatches, -1, self.num_heads, self.d_k).transpose(1, 2)\n",
        "        x, self.attn = self.attention(query, key, value, mask)\n",
        "        x = x.transpose(1, 2).contiguous().view(nbatches, -1, self.num_heads * self.d_k)\n",
        "        if return_attention:\n",
        "            return self.attn_ff(x), self.attn\n",
        "        return x"
      ],
      "metadata": {
        "id": "UCjvwHetTcek"
      },
      "execution_count": 10,
      "outputs": []
    },
    {
      "cell_type": "code",
      "source": [
        "class EncoderBlock(nn.Module):\n",
        "    # THE ENCODER BLOCK IS A TIPICAL TRANSFORMER ENCODER,\n",
        "    # BUT WE HAVE ADDED A CONVOLUTIONAL LAYER AT THE END:\n",
        "    # self.conv IS USED TO SHRINK THE INFORMATION ALONG THE ENCODER BLOCKS\n",
        "    # THIS IS A METHOD TO DISTILL INFORMATION SHOULD BE PASSED TO THE DECODER\n",
        "    # AND MOREOVER TO SAVE A LOT OF TIME\n",
        "\n",
        "    def __init__(self,num_heads,d_model,time_in,time_out,num_joints,dropout):\n",
        "        super().__init__()\n",
        "\n",
        "        self.num_joints = num_joints\n",
        "        self.d_model = d_model\n",
        "\n",
        "        self.self_attn = MultiHeadAttention(num_heads, d_model, dropout)\n",
        "\n",
        "        # LAYERNORM LAYERS AND DROPOUT\n",
        "        self.norm1 = nn.LayerNorm(d_model)\n",
        "        self.norm2 = nn.LayerNorm(d_model)\n",
        "        self.dropout = nn.Dropout(dropout)\n",
        "        self.relu = nn.ReLU()\n",
        "\n",
        "        # MLP\n",
        "        self.lin_net = nn.Sequential(\n",
        "            nn.Linear(d_model,2*d_model),\n",
        "            nn.ReLU(),\n",
        "            nn.Linear(2*d_model,d_model),\n",
        "            nn.ReLU()\n",
        "        )\n",
        "\n",
        "        # A CNN SHRINKS THE FRAMES FROM time_it TO time_out\n",
        "        # AND THE d_model IS HALVED AFTER EACH BLOCK\n",
        "        self.conv = nn.Conv1d(time_in,time_out,3,padding=1)\n",
        "\n",
        "    def forward(self, xs, mask=None):\n",
        "        x = xs\n",
        "        att = self.self_attn(x, x, x, mask)\n",
        "        x = self.relu(x + att)\n",
        "        x = self.norm1(x)\n",
        "\n",
        "        lin_output = self.lin_net(x)\n",
        "        x = self.relu(x + self.dropout(lin_output))\n",
        "\n",
        "        # WE ADD A RESIDUAL CONNECTION ALSO HERE\n",
        "        # IT REDUCES A BIT THE VANISH GRADIENT\n",
        "        x = self.norm2(x + xs)\n",
        "\n",
        "        # SHRINK\n",
        "        x = self.conv(x)\n",
        "\n",
        "        return x"
      ],
      "metadata": {
        "id": "-OwNQv45Tcel"
      },
      "execution_count": 11,
      "outputs": []
    },
    {
      "cell_type": "markdown",
      "source": [
        "### Decoder"
      ],
      "metadata": {
        "id": "WiaFdbcWTcel"
      }
    },
    {
      "cell_type": "code",
      "source": [
        "class Decoder(nn.Module):\n",
        "    # THE DECODER BLOCK IS A SIMPLE GRU,\n",
        "    # WHICH TAKES THE DISTILLED INFORMATION FROM THE\n",
        "    # ENCODER AS HIDDEN STATE AND AUTOREGRESSIVLY\n",
        "    # FORSEES THE NEXT FRAMES\n",
        "    def __init__(self, hidden_dim, num_layers=1):\n",
        "        super(Decoder, self).__init__()\n",
        "        # GRU\n",
        "        self.gru = BayesianGRU(66, hidden_dim)\n",
        "        # LINEAR self.out TO RETURN THE ORIGINAL DIMENSIONS\n",
        "        self.out = nn.Linear(hidden_dim, 66)\n",
        "\n",
        "    def forward(self, hidden, num_steps):\n",
        "        # CELL STATE IS INITIALIZED TO ZEROS\n",
        "        cell = nn.Parameter(torch.zeros(*hidden.shape)).to(device)\n",
        "        batch_size = hidden.size(1)\n",
        "        # THE <START> IS INITIALIZED TO ONES\n",
        "        input = torch.ones((batch_size,66), dtype=torch.float).unsqueeze(0).to(device)\n",
        "        outputs = torch.zeros((num_steps,batch_size,66), dtype=torch.float).to(device)\n",
        "\n",
        "        for t in range(num_steps):\n",
        "            # FORCAST\n",
        "            decoder_output, _ = self.gru(input)\n",
        "            # SET TO THE ORIGINAL DIMENSIONS\n",
        "            decoder_output = self.out(decoder_output[-1])\n",
        "            outputs[t] = decoder_output\n",
        "            # STACK TO THE INPUT\n",
        "            input = torch.cat((input,decoder_output.unsqueeze(0)),0)\n",
        "        return outputs"
      ],
      "metadata": {
        "id": "dDAkSXvRTcel"
      },
      "execution_count": 12,
      "outputs": []
    },
    {
      "cell_type": "markdown",
      "source": [
        "### Model"
      ],
      "metadata": {
        "id": "4GKuQclGTcel"
      }
    },
    {
      "cell_type": "code",
      "source": [
        "def conv_init(conv):\n",
        "    nn.init.kaiming_normal_(conv.weight, nonlinearity='relu')"
      ],
      "metadata": {
        "id": "18pzcMrMTcel"
      },
      "execution_count": 13,
      "outputs": []
    },
    {
      "cell_type": "code",
      "source": [
        "def fc_init(fc):\n",
        "    nn.init.kaiming_normal_(fc.weight, nonlinearity='relu')"
      ],
      "metadata": {
        "id": "_gFTVDuhTcel"
      },
      "execution_count": 14,
      "outputs": []
    },
    {
      "cell_type": "code",
      "source": [
        "def bn_init(bn, scale):\n",
        "    nn.init.constant_(bn.weight, scale)\n",
        "    nn.init.constant_(bn.bias, 0)"
      ],
      "metadata": {
        "id": "TIyDDZB3Tcem"
      },
      "execution_count": 15,
      "outputs": []
    },
    {
      "cell_type": "code",
      "source": [
        "class Model(nn.Module):\n",
        "    # THIS IS THE FINAL MODEL IN WHICH WE MERGED THE ENCODER AND DECODER PARTS\n",
        "    def __init__(self, num_channels, num_frames_out,\n",
        "                 old_frames, num_joints, num_heads, drop,\n",
        "                 d_model = 512, config=None):\n",
        "        super().__init__()\n",
        "\n",
        "        # CONFIGURATION FOR THE ENCODER BLOCKS\n",
        "        if config==None:\n",
        "            self.config = [[d_model,10,8],[d_model,8,6],[d_model,6,4],[d_model,4,2],[d_model,2,1]]\n",
        "\n",
        "        self.num_channels = num_channels\n",
        "        self.num_frames_out = num_frames_out\n",
        "        self.num_heads = num_heads\n",
        "        self.num_joints = num_joints\n",
        "        self.old_frames = old_frames\n",
        "        self.d_model = d_model\n",
        "\n",
        "        # LINEAR BLOCK TO PASS FROM INITIAL DIMENSION 66 TO d_model\n",
        "        self.lin = nn.Sequential(nn.Linear(self.num_channels*self.num_joints,d_model),nn.BatchNorm1d(self.old_frames))\n",
        "        self.norm = nn.BatchNorm2d(self.num_channels)\n",
        "\n",
        "        # ENCODER\n",
        "        self.blocks = nn.ModuleList()\n",
        "        # d_ : d_model of the block;\n",
        "        # in_ : number of frames of the sequences at the begin;\n",
        "        # out_ : number of frames of the sequences at the end\n",
        "        for index, (d_,in_,out_) in enumerate(self.config):\n",
        "            self.blocks.append(EncoderBlock(num_heads=self.num_heads,\n",
        "                                            d_model=d_, time_in=in_, time_out=out_,\n",
        "                                            num_joints=self.num_joints,dropout=drop))\n",
        "\n",
        "        # SINUSOIDAL POSITIONAL EMBEDDINGS\n",
        "        self.pos = Pos_Embed(self.num_channels,self.old_frames,self.num_joints)\n",
        "        # DECODER: HIDDEN STATE DIMENSION IS THE DIMENSION OF THE LAST ENCODER\n",
        "        self.dec = Decoder(self.d_model)\n",
        "\n",
        "        # WEIGHTS INITIALIZATION\n",
        "        for m in self.modules():\n",
        "            if isinstance(m, nn.Conv2d):\n",
        "                conv_init(m)\n",
        "            if isinstance(m, nn.Conv1d):\n",
        "                conv_init(m)\n",
        "            elif isinstance(m, nn.BatchNorm2d):\n",
        "                bn_init(m,1)\n",
        "            elif isinstance(m, nn.BatchNorm1d):\n",
        "                bn_init(m,1)\n",
        "            elif isinstance(m, nn.Linear):\n",
        "                fc_init(m)\n",
        "\n",
        "    def forward(self,x):\n",
        "        x = x.view(-1,self.old_frames,self.num_joints,self.num_channels).permute(0,3,1,2)\n",
        "        # SUM POSITIONAL EMBEDDING\n",
        "        x = (x + self.pos(x)).permute(0,2,3,1).view(-1,self.old_frames,self.num_joints*self.num_channels)\n",
        "        # LINEAR LAYER\n",
        "        x = self.lin(x)\n",
        "        # ENCODER BLOCKS\n",
        "        for i, block in enumerate(self.blocks):\n",
        "            x = block(x)\n",
        "        # RETRIEVE CONTEXT FROM THE ENCODER\n",
        "        context = x.view(-1,self.d_model).unsqueeze(0)\n",
        "        # PASS TO THE DECODER AND RETURN THE RESULTS\n",
        "        results = self.dec(hidden = context,num_steps = self.num_frames_out)\n",
        "        results = results.permute(1,0,2)\n",
        "        return results"
      ],
      "metadata": {
        "id": "UZf12AgDTcem"
      },
      "execution_count": 16,
      "outputs": []
    },
    {
      "cell_type": "markdown",
      "source": [
        "## Training"
      ],
      "metadata": {
        "id": "EuXx10bGTcem"
      }
    },
    {
      "cell_type": "code",
      "source": [
        "# Argument for training\n",
        "n_epochs = 5\n",
        "log_step = 50\n",
        "input_n = 10\n",
        "output_n = 15\n",
        "\n",
        "# The model name to save/load\n",
        "datas = 'h36m'\n",
        "model_path = datas + '_3d_' + str(output_n) + 'frames_ckpt'\n",
        "\n",
        "model = Model(num_channels=3,\n",
        "              num_frames_out=output_n,\n",
        "              old_frames=input_n,\n",
        "              num_joints=22,\n",
        "              num_heads=8,\n",
        "              drop=0.3).to(device)\n",
        "\n",
        "# Arguments to setup the optimizer\n",
        "lr = 5e-04 # learning rate\n",
        "use_scheduler = True # use MultiStepLR scheduler\n",
        "milestones = [2, 2, 2, 5, 5]   # the epochs after which the learning rate is adjusted by gamma\n",
        "gamma = 0.5 #gamma correction to the learning rate, after reaching the milestone epochs\n",
        "weight_decay = 0.00003 # weight decay (L2 penalty)\n",
        "optimizer = optim.Adam(model.parameters(), lr=lr, weight_decay=weight_decay)\n",
        "\n",
        "if use_scheduler:\n",
        "    scheduler = optim.lr_scheduler.MultiStepLR(optimizer, milestones=milestones, gamma=gamma)"
      ],
      "metadata": {
        "id": "swJ3OAE5Tcem"
      },
      "execution_count": 17,
      "outputs": []
    },
    {
      "cell_type": "code",
      "source": [
        "# WE HAVE REWRITE THE TRAIN FUNCTION\n",
        "# TO IMPLEMENT THE SPEED REPRESENTATION\n",
        "\n",
        "save_and_plot = False\n",
        "def train_final(data_loader, vald_loader, clip_grad=None):\n",
        "  train_loss = []\n",
        "  val_loss = []\n",
        "  val_loss_best = 1000\n",
        "\n",
        "  # Initialize lists to store data from each checkpoint\n",
        "  train_losses = []\n",
        "  val_losses = []\n",
        "\n",
        "  dim_used = np.array([6, 7, 8, 9, 10, 11, 12, 13, 14, 15, 16, 17, 21, 22, 23, 24, 25,\n",
        "                      26, 27, 28, 29, 30, 31, 32, 36, 37, 38, 39, 40, 41, 42, 43, 44, 45,\n",
        "                      46, 47, 51, 52, 53, 54, 55, 56, 57, 58, 59, 63, 64, 65, 66, 67, 68,\n",
        "                      75, 76, 77, 78, 79, 80, 81, 82, 83, 87, 88, 89, 90, 91, 92])\n",
        "\n",
        "  for epoch in range(n_epochs):\n",
        "      running_loss = 0\n",
        "      n = 0\n",
        "      model.train()\n",
        "      for cnt, batch in enumerate(data_loader):\n",
        "          batch = batch.float().to(device)\n",
        "          batch_dim = batch.shape[0]\n",
        "          n += batch_dim\n",
        "\n",
        "          # GET SPEED REPRESENTATION:\n",
        "          # SET THE FIRST FRAME TO ZERO AND CALCULATE THE SPEED AS\n",
        "          # Y_{N+1} = X_{N+1} - X_{N}\n",
        "          sequences_train = torch.cat((torch.zeros(*batch[:, :1, dim_used].size()).to(device),batch[:, 1:10, dim_used]-batch[:, :9, dim_used]), 1)\n",
        "          sequences_gt = batch[:, input_n:input_n + output_n, dim_used]\n",
        "\n",
        "          optimizer.zero_grad()\n",
        "          sequences_predict=model(sequences_train)\n",
        "          # COME BACK POSITIONAL REPRESENTATION:\n",
        "          # SUM EACH FRAME TO THE NEXT\n",
        "          # X_{N+1} = Y_{N+1} + Y_{N}\n",
        "          # ADD THE LAST FRAME OF THE TRAIN ONES\n",
        "          sequences_predict[:, 1:output_n, :] = sequences_predict[:, 1:output_n, :] + sequences_predict[:, :output_n-1, :]\n",
        "          sequences_predict = (sequences_predict + batch[:, (input_n-1):input_n, dim_used])\n",
        "\n",
        "\n",
        "          loss = mpjpe_error(sequences_predict, sequences_gt) / output_n\n",
        "\n",
        "\n",
        "          if cnt % log_step == 0:\n",
        "            print('[Epoch: %d, Iteration: %5d]  Training loss: %.3f' %(epoch+1, cnt+1, loss.item()*output_n))\n",
        "\n",
        "          loss.backward()\n",
        "          if clip_grad is not None:\n",
        "            torch.nn.utils.clip_grad_norm_(model.parameters(), clip_grad)\n",
        "\n",
        "          optimizer.step()\n",
        "          running_loss += loss*batch_dim*output_n\n",
        "\n",
        "      train_loss.append(running_loss.detach().cpu()/n)\n",
        "      model.eval()\n",
        "      with torch.no_grad():\n",
        "          running_loss = 0\n",
        "          n = 0\n",
        "          for cnt, batch in enumerate(vald_loader):\n",
        "              batch = batch.float().to(device)\n",
        "              batch_dim = batch.shape[0]\n",
        "              n += batch_dim\n",
        "\n",
        "              # GET SPEED REPRESENTATION:\n",
        "              # SET THE FIRST FRAME TO ZERO AND CALCULATE THE SPEED AS\n",
        "              # Y_{N+1} = X_{N+1} - X_{N}\n",
        "              sequences_train = torch.cat((torch.zeros(*batch[:, :1, dim_used].size()).to(device), batch[:, 1:input_n, dim_used] - batch[:, :input_n-1, dim_used]), 1)\n",
        "              sequences_gt = batch[:, input_n:input_n + output_n, dim_used]\n",
        "\n",
        "              sequences_predict = model(sequences_train)\n",
        "\n",
        "              # COME BACK POSITIONAL REPRESENTATION:\n",
        "              # SUM EACH FRAME TO THE NEXT\n",
        "              # X_{N+1} = Y_{N+1} + Y_{N}\n",
        "              # ADD THE LAST FRAME OF THE TRAIN ONES\n",
        "              sequences_predict[:, 1:output_n, :] = sequences_predict[:, 1:output_n, :] + sequences_predict[:, :(output_n-1), :]\n",
        "              sequences_predict = (sequences_predict + batch[:, (input_n-1):input_n, dim_used])\n",
        "              loss = mpjpe_error(sequences_predict, sequences_gt) / output_n\n",
        "\n",
        "              if cnt % log_step == 0:\n",
        "                print('[Epoch: %d, Iteration: %5d]  Validation loss: %.3f' %(epoch+1, cnt+1, loss.item()*output_n))\n",
        "              running_loss += loss * batch_dim * output_n\n",
        "          val_loss.append(running_loss.detach().cpu()/n)\n",
        "          if running_loss/n < val_loss_best:\n",
        "            val_loss_best = running_loss/n\n",
        "          if (epoch+1) % 5 == 0:\n",
        "            torch.save(model.state_dict(), './checkpoints/LSTM_final_checkpoint_' + str(epoch+1) + '.pt')\n",
        "            train_losses.append(train_loss[-1])\n",
        "            val_losses.append(val_loss[-1])\n",
        "\n",
        "  if use_scheduler:\n",
        "    scheduler.step()\n",
        "\n",
        "  epochs=[5]#,10,15,20]\n",
        "\n",
        "  # Create the plot\n",
        "  plt.figure(figsize=(10, 6))\n",
        "  plt.plot(epochs, train_losses, label='Train Loss', marker='o')\n",
        "  plt.plot(epochs, val_losses, label='Validation Loss', marker='o')\n",
        "\n",
        "  plt.xlabel('Epoch')\n",
        "  plt.ylabel('Loss')\n",
        "  plt.title('Training and Validation Loss Over Epochs')\n",
        "\n",
        "  plt.legend()\n",
        "\n",
        "  # Display the plot\n",
        "  plt.grid(True)\n",
        "  plt.show()\n",
        "  return train_losses,val_losses"
      ],
      "metadata": {
        "id": "ME2u0U_STcem"
      },
      "execution_count": 18,
      "outputs": []
    },
    {
      "cell_type": "code",
      "source": [
        "t_loss, v_loss = train_final(dataset, vald_dataset)"
      ],
      "metadata": {
        "colab": {
          "base_uri": "https://localhost:8080/",
          "height": 478
        },
        "outputId": "1cf2cbf0-be78-4b85-a5bb-3dcf89452aea",
        "id": "Yu80UwR9Tcem"
      },
      "execution_count": 19,
      "outputs": [
        {
          "output_type": "stream",
          "name": "stdout",
          "text": [
            "[Epoch: 1, Iteration:     1]  Training loss: 77.170\n",
            "[Epoch: 1, Iteration:    51]  Training loss: 84.953\n",
            "[Epoch: 1, Iteration:   101]  Training loss: 80.441\n",
            "[Epoch: 1, Iteration:   151]  Training loss: 63.808\n",
            "[Epoch: 1, Iteration:   201]  Training loss: 76.087\n",
            "[Epoch: 1, Iteration:   251]  Training loss: 75.209\n",
            "[Epoch: 1, Iteration:   301]  Training loss: 82.337\n",
            "[Epoch: 1, Iteration:   351]  Training loss: 72.179\n",
            "[Epoch: 1, Iteration:   401]  Training loss: 72.022\n"
          ]
        },
        {
          "output_type": "error",
          "ename": "KeyboardInterrupt",
          "evalue": "ignored",
          "traceback": [
            "\u001b[0;31m---------------------------------------------------------------------------\u001b[0m",
            "\u001b[0;31mKeyboardInterrupt\u001b[0m                         Traceback (most recent call last)",
            "\u001b[0;32m<ipython-input-19-f03c63ebe02f>\u001b[0m in \u001b[0;36m<cell line: 1>\u001b[0;34m()\u001b[0m\n\u001b[0;32m----> 1\u001b[0;31m \u001b[0mt_loss\u001b[0m\u001b[0;34m,\u001b[0m \u001b[0mv_loss\u001b[0m \u001b[0;34m=\u001b[0m \u001b[0mtrain_final\u001b[0m\u001b[0;34m(\u001b[0m\u001b[0mdataset\u001b[0m\u001b[0;34m,\u001b[0m \u001b[0mvald_dataset\u001b[0m\u001b[0;34m)\u001b[0m\u001b[0;34m\u001b[0m\u001b[0;34m\u001b[0m\u001b[0m\n\u001b[0m",
            "\u001b[0;32m<ipython-input-18-dc6e9d24febd>\u001b[0m in \u001b[0;36mtrain_final\u001b[0;34m(data_loader, vald_loader, clip_grad)\u001b[0m\n\u001b[1;32m     48\u001b[0m             \u001b[0mprint\u001b[0m\u001b[0;34m(\u001b[0m\u001b[0;34m'[Epoch: %d, Iteration: %5d]  Training loss: %.3f'\u001b[0m \u001b[0;34m%\u001b[0m\u001b[0;34m(\u001b[0m\u001b[0mepoch\u001b[0m\u001b[0;34m+\u001b[0m\u001b[0;36m1\u001b[0m\u001b[0;34m,\u001b[0m \u001b[0mcnt\u001b[0m\u001b[0;34m+\u001b[0m\u001b[0;36m1\u001b[0m\u001b[0;34m,\u001b[0m \u001b[0mloss\u001b[0m\u001b[0;34m.\u001b[0m\u001b[0mitem\u001b[0m\u001b[0;34m(\u001b[0m\u001b[0;34m)\u001b[0m\u001b[0;34m*\u001b[0m\u001b[0moutput_n\u001b[0m\u001b[0;34m)\u001b[0m\u001b[0;34m)\u001b[0m\u001b[0;34m\u001b[0m\u001b[0;34m\u001b[0m\u001b[0m\n\u001b[1;32m     49\u001b[0m \u001b[0;34m\u001b[0m\u001b[0m\n\u001b[0;32m---> 50\u001b[0;31m           \u001b[0mloss\u001b[0m\u001b[0;34m.\u001b[0m\u001b[0mbackward\u001b[0m\u001b[0;34m(\u001b[0m\u001b[0;34m)\u001b[0m\u001b[0;34m\u001b[0m\u001b[0;34m\u001b[0m\u001b[0m\n\u001b[0m\u001b[1;32m     51\u001b[0m           \u001b[0;32mif\u001b[0m \u001b[0mclip_grad\u001b[0m \u001b[0;32mis\u001b[0m \u001b[0;32mnot\u001b[0m \u001b[0;32mNone\u001b[0m\u001b[0;34m:\u001b[0m\u001b[0;34m\u001b[0m\u001b[0;34m\u001b[0m\u001b[0m\n\u001b[1;32m     52\u001b[0m             \u001b[0mtorch\u001b[0m\u001b[0;34m.\u001b[0m\u001b[0mnn\u001b[0m\u001b[0;34m.\u001b[0m\u001b[0mutils\u001b[0m\u001b[0;34m.\u001b[0m\u001b[0mclip_grad_norm_\u001b[0m\u001b[0;34m(\u001b[0m\u001b[0mmodel\u001b[0m\u001b[0;34m.\u001b[0m\u001b[0mparameters\u001b[0m\u001b[0;34m(\u001b[0m\u001b[0;34m)\u001b[0m\u001b[0;34m,\u001b[0m \u001b[0mclip_grad\u001b[0m\u001b[0;34m)\u001b[0m\u001b[0;34m\u001b[0m\u001b[0;34m\u001b[0m\u001b[0m\n",
            "\u001b[0;32m/usr/local/lib/python3.10/dist-packages/torch/_tensor.py\u001b[0m in \u001b[0;36mbackward\u001b[0;34m(self, gradient, retain_graph, create_graph, inputs)\u001b[0m\n\u001b[1;32m    490\u001b[0m                 \u001b[0minputs\u001b[0m\u001b[0;34m=\u001b[0m\u001b[0minputs\u001b[0m\u001b[0;34m,\u001b[0m\u001b[0;34m\u001b[0m\u001b[0;34m\u001b[0m\u001b[0m\n\u001b[1;32m    491\u001b[0m             )\n\u001b[0;32m--> 492\u001b[0;31m         torch.autograd.backward(\n\u001b[0m\u001b[1;32m    493\u001b[0m             \u001b[0mself\u001b[0m\u001b[0;34m,\u001b[0m \u001b[0mgradient\u001b[0m\u001b[0;34m,\u001b[0m \u001b[0mretain_graph\u001b[0m\u001b[0;34m,\u001b[0m \u001b[0mcreate_graph\u001b[0m\u001b[0;34m,\u001b[0m \u001b[0minputs\u001b[0m\u001b[0;34m=\u001b[0m\u001b[0minputs\u001b[0m\u001b[0;34m\u001b[0m\u001b[0;34m\u001b[0m\u001b[0m\n\u001b[1;32m    494\u001b[0m         )\n",
            "\u001b[0;32m/usr/local/lib/python3.10/dist-packages/torch/autograd/__init__.py\u001b[0m in \u001b[0;36mbackward\u001b[0;34m(tensors, grad_tensors, retain_graph, create_graph, grad_variables, inputs)\u001b[0m\n\u001b[1;32m    249\u001b[0m     \u001b[0;31m# some Python versions print out the first line of a multi-line function\u001b[0m\u001b[0;34m\u001b[0m\u001b[0;34m\u001b[0m\u001b[0m\n\u001b[1;32m    250\u001b[0m     \u001b[0;31m# calls in the traceback and some print out the last line\u001b[0m\u001b[0;34m\u001b[0m\u001b[0;34m\u001b[0m\u001b[0m\n\u001b[0;32m--> 251\u001b[0;31m     Variable._execution_engine.run_backward(  # Calls into the C++ engine to run the backward pass\n\u001b[0m\u001b[1;32m    252\u001b[0m         \u001b[0mtensors\u001b[0m\u001b[0;34m,\u001b[0m\u001b[0;34m\u001b[0m\u001b[0;34m\u001b[0m\u001b[0m\n\u001b[1;32m    253\u001b[0m         \u001b[0mgrad_tensors_\u001b[0m\u001b[0;34m,\u001b[0m\u001b[0;34m\u001b[0m\u001b[0;34m\u001b[0m\u001b[0m\n",
            "\u001b[0;31mKeyboardInterrupt\u001b[0m: "
          ]
        }
      ]
    },
    {
      "cell_type": "markdown",
      "source": [
        "### Analysis and test"
      ],
      "metadata": {
        "id": "5uMGVqgGTcen"
      }
    },
    {
      "cell_type": "code",
      "source": [
        "def test(ckpt_path=None):\n",
        "    model.load_state_dict(torch.load(ckpt_path))\n",
        "    print('model loaded')\n",
        "    model.eval()\n",
        "    accum_loss = 0\n",
        "    n_batches = 0\n",
        "    actions = define_actions(actions_to_consider_test)\n",
        "    dim_used = np.array([ 6, 7, 8, 9, 10, 11, 12, 13, 14, 15, 16, 17, 21, 22, 23, 24, 25,\n",
        "                          26, 27, 28, 29, 30, 31, 32, 36, 37, 38, 39, 40, 41, 42, 43, 44, 45,\n",
        "                          46, 47, 51, 52, 53, 54, 55, 56, 57, 58, 59, 63, 64, 65, 66, 67, 68,\n",
        "                          75, 76, 77, 78, 79, 80, 81, 82, 83, 87, 88, 89, 90, 91, 92 ])\n",
        "    # joints at same loc\n",
        "    joint_to_ignore = np.array([16, 20, 23, 24, 28, 31])\n",
        "\n",
        "    index_to_ignore = np.concatenate((joint_to_ignore * 3, joint_to_ignore * 3 + 1, joint_to_ignore * 3 + 2))\n",
        "    joint_equal = np.array([13, 19, 22, 13, 27, 30])\n",
        "    index_to_equal = np.concatenate((joint_equal*3, joint_equal*3+1, joint_equal*3+2))\n",
        "    totalll = 0\n",
        "    counter = 0\n",
        "    for action in actions:\n",
        "      running_loss = 0\n",
        "      n = 0\n",
        "      dataset_test = datasets.Datasets(path, input_n, 25, skip_rate, split=2, actions=[action])\n",
        "      #print('>>> test action for sequences: {:d}'.format(dataset_test.__len__()))\n",
        "\n",
        "      test_loader = DataLoader(dataset_test, batch_size=batch_size_test, shuffle=False, num_workers=0, pin_memory=True)\n",
        "      for cnt,batch in enumerate(test_loader):\n",
        "        with torch.no_grad():\n",
        "\n",
        "          batch=batch.to(device)\n",
        "          batch_dim=batch.shape[0]\n",
        "          n+=batch_dim\n",
        "\n",
        "          all_joints_seq=batch.clone()[:, input_n:input_n+25,:]\n",
        "\n",
        "          # GET SPEED REPRESENTATION OF THE FIRST FRAMES:\n",
        "          # SET THE FIRST FRAME TO ZERO AND CALCULATE THE SPEED AS\n",
        "          # Y_{N+1} = X_{N+1} - X_{N}\n",
        "          sequences_train1=torch.cat((torch.zeros(*batch[:,:1,dim_used].size()).to(device),batch[:,1:input_n,dim_used]-batch[:,:(input_n-1),dim_used]),1)\n",
        "          sequences_gt=batch[:,10:35,:]\n",
        "\n",
        "\n",
        "          running_time = time.time()\n",
        "          sequences_predict1 = model(sequences_train1)\n",
        "\n",
        "          # COME BACK POSITIONAL REPRESENTATION OF THE FIRST PREDICTION:\n",
        "          # SUM EACH FRAME TO THE NEXT\n",
        "          # X_{N+1} = Y_{N+1} + Y_{N}\n",
        "          # ADD THE LAST FRAME OF THE TRAIN ONES\n",
        "          sequences_predict1[:,1:output_n,:]=sequences_predict1[:,1:output_n,:]+sequences_predict1[:,:(output_n-1),:]\n",
        "          sequences_predict1=(sequences_predict1+batch[:,(input_n-1):input_n,dim_used])\n",
        "\n",
        "          # GET SPEED REPRESENTATION OF THE PREDICTED STEPS:\n",
        "          # SET THE FIRST FRAME TO ZERO AND CALCULATE THE SPEED AS\n",
        "          # Y_{N+1} = X_{N+1} - X_{N}\n",
        "          sequences_train2=torch.cat((torch.zeros(*batch[:,:1,dim_used].size()).to(device),\n",
        "                                     sequences_predict1[:,6:15,:]-sequences_predict1[:,5:14,:]),1)\n",
        "\n",
        "          sequences_predict2=model(sequences_train2)\n",
        "\n",
        "          # COME BACK POSITIONAL REPRESENTATION OF THE SECOND PREDICTION:\n",
        "          # SUM EACH FRAME TO THE NEXT\n",
        "          # X_{N+1} = Y_{N+1} + Y_{N}\n",
        "          # ADD THE LAST FRAME OF THE TRAIN ONES\n",
        "          sequences_predict2[:,1:output_n,:]=sequences_predict2[:,1:output_n,:]+sequences_predict2[:,:(output_n-1),:]\n",
        "          sequences_predict2=(sequences_predict2+sequences_predict1[:,(output_n-1):output_n,:])\n",
        "\n",
        "          # STACK THE TWO PREDICTED SEQUENCES\n",
        "          sequences_predict = torch.cat((sequences_predict1,sequences_predict2[:,:10,:]),1)\n",
        "\n",
        "          totalll += time.time()-running_time\n",
        "          counter += 1\n",
        "\n",
        "          all_joints_seq[:,:,dim_used] = sequences_predict\n",
        "\n",
        "\n",
        "          all_joints_seq[:,:,index_to_ignore] = all_joints_seq[:,:,index_to_equal]\n",
        "\n",
        "          loss = mpjpe_error(all_joints_seq.view(-1,25,32,3),sequences_gt.view(-1,25,32,3))\n",
        "          running_loss += loss*batch_dim\n",
        "          accum_loss += loss*batch_dim\n",
        "\n",
        "      #print('loss at test subject for action : '+str(action)+ ' is: '+ str(running_loss/n))\n",
        "      print(str(action),': ', str(np.round((running_loss/n).item(),1)))\n",
        "      n_batches+=n\n",
        "    print('Average: ' + str(np.round((accum_loss/n_batches).item(),1)))\n",
        "    print('Prediction time: ', totalll/counter)"
      ],
      "metadata": {
        "id": "0BnfwhzjTcen"
      },
      "execution_count": null,
      "outputs": []
    },
    {
      "cell_type": "code",
      "source": [
        "path = './data/h3.6m/h3.6m/dataset'\n",
        "skip_rate = 1\n",
        "batch_size_test = 8\n",
        "actions_to_consider_test = 'all'\n",
        "ckpt_path = './checkpoints/LSTM_final_checkpoint_5.pt'\n",
        "\n",
        "test(ckpt_path)"
      ],
      "metadata": {
        "id": "-Ju5nNJsTcen"
      },
      "execution_count": null,
      "outputs": []
    },
    {
      "cell_type": "code",
      "source": [],
      "metadata": {
        "id": "4XtUbu7YTbXY"
      },
      "execution_count": null,
      "outputs": []
    },
    {
      "cell_type": "markdown",
      "source": [
        "## Prove"
      ],
      "metadata": {
        "id": "aYbizYUM21EQ"
      }
    },
    {
      "cell_type": "code",
      "source": [
        "# preds = [regressor(X) for i in range(samples)]\n",
        "preds = [model(X) for i in range(samples)]\n",
        "preds = torch.stack(preds)\n",
        "means = preds.mean(axis=0)\n",
        "stds = preds.std(axis=0)"
      ],
      "metadata": {
        "id": "rCJ7Gn8afPjM"
      },
      "execution_count": null,
      "outputs": []
    },
    {
      "cell_type": "code",
      "source": [
        "#decoder_output, (_,_) = self.lstm(input)\n",
        "\n",
        "rnn = nn.LSTM(10, 20, 2)\n",
        "input = torch.randn(5, 3, 10)\n",
        "h0 = torch.randn(2, 3, 20)\n",
        "c0 = torch.randn(2, 3, 20)\n",
        "output = rnn(input, (h0, c0))\n",
        "print(len(output))\n",
        "print(type(output))\n",
        "print(output.shape)\n",
        "print(output)"
      ],
      "metadata": {
        "id": "hFFgtODu6FGm",
        "colab": {
          "base_uri": "https://localhost:8080/",
          "height": 263
        },
        "outputId": "dd6a8ad6-9dc7-4df5-edec-4161100f9eae"
      },
      "execution_count": 39,
      "outputs": [
        {
          "output_type": "stream",
          "name": "stdout",
          "text": [
            "2\n",
            "<class 'tuple'>\n"
          ]
        },
        {
          "output_type": "error",
          "ename": "AttributeError",
          "evalue": "ignored",
          "traceback": [
            "\u001b[0;31m---------------------------------------------------------------------------\u001b[0m",
            "\u001b[0;31mAttributeError\u001b[0m                            Traceback (most recent call last)",
            "\u001b[0;32m<ipython-input-39-d339c9176b48>\u001b[0m in \u001b[0;36m<cell line: 10>\u001b[0;34m()\u001b[0m\n\u001b[1;32m      8\u001b[0m \u001b[0mprint\u001b[0m\u001b[0;34m(\u001b[0m\u001b[0mlen\u001b[0m\u001b[0;34m(\u001b[0m\u001b[0moutput\u001b[0m\u001b[0;34m)\u001b[0m\u001b[0;34m)\u001b[0m\u001b[0;34m\u001b[0m\u001b[0;34m\u001b[0m\u001b[0m\n\u001b[1;32m      9\u001b[0m \u001b[0mprint\u001b[0m\u001b[0;34m(\u001b[0m\u001b[0mtype\u001b[0m\u001b[0;34m(\u001b[0m\u001b[0moutput\u001b[0m\u001b[0;34m)\u001b[0m\u001b[0;34m)\u001b[0m\u001b[0;34m\u001b[0m\u001b[0;34m\u001b[0m\u001b[0m\n\u001b[0;32m---> 10\u001b[0;31m \u001b[0mprint\u001b[0m\u001b[0;34m(\u001b[0m\u001b[0moutput\u001b[0m\u001b[0;34m.\u001b[0m\u001b[0mshape\u001b[0m\u001b[0;34m)\u001b[0m\u001b[0;34m\u001b[0m\u001b[0;34m\u001b[0m\u001b[0m\n\u001b[0m\u001b[1;32m     11\u001b[0m \u001b[0mprint\u001b[0m\u001b[0;34m(\u001b[0m\u001b[0moutput\u001b[0m\u001b[0;34m)\u001b[0m\u001b[0;34m\u001b[0m\u001b[0;34m\u001b[0m\u001b[0m\n",
            "\u001b[0;31mAttributeError\u001b[0m: 'tuple' object has no attribute 'shape'"
          ]
        }
      ]
    },
    {
      "cell_type": "code",
      "source": [
        "rnn = BayesianLSTM(10, 20)\n",
        "input = torch.randn(5, 3, 10)\n",
        "h0 = torch.randn(2, 3, 20)\n",
        "c0 = torch.randn(2, 3, 20)\n",
        "output, (_,_) = rnn(input)#, (h0, c0))\n",
        "print(output.shape)\n",
        "print(type(output))\n",
        "print(output)"
      ],
      "metadata": {
        "colab": {
          "base_uri": "https://localhost:8080/"
        },
        "id": "H0Zdr82j6dwa",
        "outputId": "7c346d9f-f9f2-4f08-a02c-3303b8a70b91"
      },
      "execution_count": 43,
      "outputs": [
        {
          "output_type": "stream",
          "name": "stdout",
          "text": [
            "torch.Size([5, 3, 20])\n",
            "<class 'torch.Tensor'>\n",
            "tensor([[[-0.0154, -0.0824,  0.0443,  0.0058,  0.0595,  0.0853, -0.0689,\n",
            "          -0.0372, -0.0436,  0.0691, -0.0299, -0.0083, -0.0086, -0.0773,\n",
            "          -0.0249,  0.0078, -0.0162, -0.0569,  0.0030, -0.0711],\n",
            "         [ 0.1273, -0.2521,  0.0972,  0.1094,  0.2912,  0.1215,  0.0204,\n",
            "           0.0394, -0.1064, -0.1068, -0.0594,  0.0066,  0.0159, -0.0396,\n",
            "           0.0199,  0.1068,  0.2224, -0.2074, -0.0535,  0.0125],\n",
            "         [ 0.0983, -0.1818,  0.0706,  0.0946,  0.1653,  0.2212, -0.0282,\n",
            "          -0.0783, -0.0986, -0.0277,  0.0158,  0.0344,  0.0315, -0.0408,\n",
            "          -0.0655,  0.0662,  0.2410, -0.2139,  0.0043, -0.0318]],\n",
            "\n",
            "        [[-0.0045,  0.1394,  0.1334, -0.0465,  0.0003,  0.0456,  0.0217,\n",
            "           0.0158, -0.1479,  0.0936,  0.0580, -0.0837,  0.0631, -0.0971,\n",
            "           0.0540, -0.0212,  0.1646,  0.0375,  0.0328, -0.0276],\n",
            "         [ 0.0086, -0.0118,  0.0282, -0.0338,  0.0057,  0.0451, -0.0169,\n",
            "          -0.1055, -0.0967,  0.0199, -0.0846,  0.0539,  0.0149, -0.0527,\n",
            "          -0.0561, -0.0283,  0.0791,  0.0690, -0.0029, -0.0139],\n",
            "         [ 0.0027,  0.0696,  0.0872, -0.1094, -0.0338,  0.0556,  0.0450,\n",
            "          -0.1490, -0.1439,  0.0611, -0.0577,  0.1077,  0.0570,  0.0303,\n",
            "          -0.0751,  0.0229,  0.0820,  0.1720,  0.0235,  0.0096]],\n",
            "\n",
            "        [[ 0.0004, -0.1239, -0.0411, -0.0483,  0.0401,  0.0181,  0.0535,\n",
            "           0.0229,  0.0523, -0.0718, -0.1347,  0.1219, -0.0634,  0.0212,\n",
            "          -0.0470,  0.0497, -0.0735,  0.0274, -0.0986, -0.0112],\n",
            "         [-0.0114, -0.1352, -0.0062, -0.0262,  0.0511,  0.0697,  0.0219,\n",
            "           0.0156,  0.0673, -0.0631, -0.0818,  0.0114, -0.0868,  0.0217,\n",
            "           0.0254, -0.0195, -0.0191, -0.0681,  0.0287, -0.0911],\n",
            "         [ 0.0756, -0.2289,  0.0866, -0.0340,  0.1645,  0.0436, -0.0092,\n",
            "           0.0073, -0.0259, -0.1226, -0.0964,  0.0109,  0.0102, -0.0438,\n",
            "           0.0150,  0.1063,  0.1465, -0.0295, -0.0358,  0.0725]],\n",
            "\n",
            "        [[ 0.0031,  0.0006,  0.0647,  0.0071,  0.0544,  0.0726,  0.0997,\n",
            "           0.1084, -0.1364,  0.0414,  0.0053,  0.0416,  0.0399, -0.0469,\n",
            "           0.0160,  0.0660,  0.1382, -0.0835,  0.0277, -0.1099],\n",
            "         [ 0.0342, -0.0863,  0.0607, -0.0340,  0.0288,  0.1017, -0.0306,\n",
            "           0.0039, -0.0240, -0.0248,  0.0827, -0.0055,  0.0031, -0.1103,\n",
            "           0.0122,  0.0202,  0.1492, -0.0843,  0.0216, -0.1038],\n",
            "         [ 0.1120, -0.1852,  0.0099, -0.0448,  0.0661,  0.0769, -0.0507,\n",
            "          -0.0288, -0.0511, -0.2221, -0.1395,  0.0217, -0.0440, -0.0473,\n",
            "           0.0202, -0.0296,  0.0118, -0.0156, -0.1087,  0.1598]],\n",
            "\n",
            "        [[-0.0484, -0.0260,  0.0511, -0.0865, -0.0521,  0.1318,  0.0358,\n",
            "          -0.0812, -0.0291, -0.0247, -0.0084,  0.0199, -0.0170,  0.0573,\n",
            "          -0.0060,  0.0599, -0.0766, -0.0107,  0.0045,  0.0069],\n",
            "         [ 0.1610, -0.0908,  0.1765, -0.0570,  0.1381,  0.0359,  0.0586,\n",
            "           0.0327, -0.1013,  0.1491, -0.0836, -0.0269,  0.0309,  0.0505,\n",
            "           0.0036, -0.0568,  0.1542, -0.0142,  0.0375, -0.1519],\n",
            "         [ 0.1566, -0.0320,  0.1377, -0.1009,  0.0258,  0.0706,  0.1042,\n",
            "           0.0173, -0.1410,  0.1082, -0.0251, -0.0588,  0.0073,  0.0431,\n",
            "           0.0240, -0.1449,  0.1501, -0.0154,  0.0974, -0.1764]]],\n",
            "       grad_fn=<CloneBackward0>)\n"
          ]
        }
      ]
    },
    {
      "cell_type": "markdown",
      "source": [
        "### Analysis and Testing"
      ],
      "metadata": {
        "id": "lN7REaZatqXP"
      }
    },
    {
      "cell_type": "code",
      "source": [
        "def test(ckpt_path=None):\n",
        "    model.load_state_dict(torch.load(ckpt_path))\n",
        "    print('model loaded')\n",
        "    model.eval()\n",
        "    accum_loss=0\n",
        "    n_batches=0 # number of batches for all the sequences\n",
        "    actions=define_actions(actions_to_consider_test)\n",
        "    dim_used = np.array([6, 7, 8, 9, 10, 11, 12, 13, 14, 15, 16, 17, 21, 22, 23, 24, 25,\n",
        "                      26, 27, 28, 29, 30, 31, 32, 36, 37, 38, 39, 40, 41, 42, 43, 44, 45,\n",
        "                      46, 47, 51, 52, 53, 54, 55, 56, 57, 58, 59, 63, 64, 65, 66, 67, 68,\n",
        "                      75, 76, 77, 78, 79, 80, 81, 82, 83, 87, 88, 89, 90, 91, 92])\n",
        "    # joints at same loc\n",
        "    joint_to_ignore = np.array([16, 20, 23, 24, 28, 31])\n",
        "\n",
        "    index_to_ignore = np.concatenate((joint_to_ignore * 3, joint_to_ignore * 3 + 1, joint_to_ignore * 3 + 2))\n",
        "    joint_equal = np.array([13, 19, 22, 13, 27, 30])\n",
        "    index_to_equal = np.concatenate((joint_equal * 3, joint_equal * 3 + 1, joint_equal * 3 + 2))\n",
        "    totalll=0\n",
        "    counter=0\n",
        "    for action in actions:\n",
        "      running_loss=0\n",
        "      n=0\n",
        "      dataset_test = datasets.Datasets(path,input_n,25,skip_rate, split=2,actions=[action])\n",
        "      #print('>>> test action for sequences: {:d}'.format(dataset_test.__len__()))\n",
        "\n",
        "      test_loader = DataLoader(dataset_test, batch_size=batch_size_test, shuffle=False, num_workers=0, pin_memory=True)\n",
        "      for cnt,batch in enumerate(test_loader):\n",
        "        with torch.no_grad():\n",
        "\n",
        "          batch=batch.to(device)\n",
        "          batch_dim=batch.shape[0]\n",
        "          n+=batch_dim\n",
        "\n",
        "          all_joints_seq=batch.clone()[:, input_n:input_n+25,:]\n",
        "\n",
        "          # GET SPEED REPRESENTATION OF THE FIRST FRAMES:\n",
        "          # SET THE FIRST FRAME TO ZERO AND CALCULATE THE SPEED AS\n",
        "          # Y_{N+1} = X_{N+1} - X_{N}\n",
        "          sequences_train1=torch.cat((torch.zeros(*batch[:,:1,dim_used].size()).to(device),batch[:,1:input_n,dim_used]-batch[:,:(input_n-1),dim_used]),1)\n",
        "          sequences_gt=batch[:,10:35,:]\n",
        "\n",
        "\n",
        "          running_time = time.time()\n",
        "          sequences_predict1 = model(sequences_train1)\n",
        "\n",
        "          # COME BACK POSITIONAL REPRESENTATION OF THE FIRST PREDICTION:\n",
        "          # SUM EACH FRAME TO THE NEXT\n",
        "          # X_{N+1} = Y_{N+1} + Y_{N}\n",
        "          # ADD THE LAST FRAME OF THE TRAIN ONES\n",
        "          sequences_predict1[:,1:output_n,:]=sequences_predict1[:,1:output_n,:]+sequences_predict1[:,:(output_n-1),:]\n",
        "          sequences_predict1=(sequences_predict1+batch[:,(input_n-1):input_n,dim_used])\n",
        "\n",
        "          # GET SPEED REPRESENTATION OF THE PREDICTED STEPS:\n",
        "          # SET THE FIRST FRAME TO ZERO AND CALCULATE THE SPEED AS\n",
        "          # Y_{N+1} = X_{N+1} - X_{N}\n",
        "          sequences_train2=torch.cat((torch.zeros(*batch[:,:1,dim_used].size()).to(device),\n",
        "                                     sequences_predict1[:,6:15,:]-sequences_predict1[:,5:14,:]),1)\n",
        "\n",
        "          sequences_predict2=model(sequences_train2)\n",
        "\n",
        "          # COME BACK POSITIONAL REPRESENTATION OF THE SECOND PREDICTION:\n",
        "          # SUM EACH FRAME TO THE NEXT\n",
        "          # X_{N+1} = Y_{N+1} + Y_{N}\n",
        "          # ADD THE LAST FRAME OF THE TRAIN ONES\n",
        "          sequences_predict2[:,1:output_n,:]=sequences_predict2[:,1:output_n,:]+sequences_predict2[:,:(output_n-1),:]\n",
        "          sequences_predict2=(sequences_predict2+sequences_predict1[:,(output_n-1):output_n,:])\n",
        "\n",
        "          # STACK THE TWO PREDICTED SEQUENCES\n",
        "          sequences_predict = torch.cat((sequences_predict1,sequences_predict2[:,:10,:]),1)\n",
        "\n",
        "          totalll += time.time()-running_time\n",
        "          counter += 1\n",
        "\n",
        "          all_joints_seq[:,:,dim_used] = sequences_predict\n",
        "\n",
        "\n",
        "          all_joints_seq[:,:,index_to_ignore] = all_joints_seq[:,:,index_to_equal]\n",
        "\n",
        "          loss=mpjpe_error(all_joints_seq.view(-1,25,32,3),sequences_gt.view(-1,25,32,3))\n",
        "          running_loss+=loss*batch_dim\n",
        "          accum_loss+=loss*batch_dim\n",
        "\n",
        "      #print('loss at test subject for action : '+str(action)+ ' is: '+ str(running_loss/n))\n",
        "      print(str(action),': ', str(np.round((running_loss/n).item(),1)))\n",
        "      n_batches+=n\n",
        "    print('Average: '+str(np.round((accum_loss/n_batches).item(),1)))\n",
        "    print('Prediction time: ', totalll/counter)"
      ],
      "metadata": {
        "id": "ssR2G7h9tpSK"
      },
      "execution_count": null,
      "outputs": []
    },
    {
      "cell_type": "code",
      "source": [
        "ckpt_path = './checkpoints/final_checkpoint5.pt' # Change the epoch according to the validation curve\n",
        "test(ckpt_path)"
      ],
      "metadata": {
        "id": "k7yUN9JdtzoB"
      },
      "execution_count": null,
      "outputs": []
    },
    {
      "cell_type": "code",
      "source": [],
      "metadata": {
        "id": "R-4LCHnO_6jt"
      },
      "execution_count": null,
      "outputs": []
    },
    {
      "cell_type": "code",
      "source": [],
      "metadata": {
        "id": "szL3RC-N_6hV"
      },
      "execution_count": null,
      "outputs": []
    },
    {
      "cell_type": "code",
      "source": [],
      "metadata": {
        "id": "_0BzO-Tz_6a0"
      },
      "execution_count": null,
      "outputs": []
    },
    {
      "cell_type": "code",
      "source": [
        "!pip install scikit-learn==1.1.0"
      ],
      "metadata": {
        "id": "P3bOViSpAT6t"
      },
      "execution_count": null,
      "outputs": []
    },
    {
      "cell_type": "code",
      "source": [
        "import torch\n",
        "import torch.nn as nn\n",
        "import torch.nn.functional as F\n",
        "import torch.optim as optim\n",
        "import numpy as np\n",
        "\n",
        "from blitz.modules import BayesianLinear\n",
        "from blitz.utils import variational_estimator\n",
        "\n",
        "from sklearn.datasets import load_boston\n",
        "from sklearn.preprocessing import StandardScaler\n",
        "from sklearn.model_selection import train_test_split"
      ],
      "metadata": {
        "id": "Qh6InJ--_6Xd"
      },
      "execution_count": null,
      "outputs": []
    },
    {
      "cell_type": "code",
      "source": [
        "X, y = load_boston(return_X_y=True)\n",
        "X = StandardScaler().fit_transform(X)\n",
        "y = StandardScaler().fit_transform(np.expand_dims(y, -1))\n",
        "\n",
        "X_train, X_test, y_train, y_test = train_test_split(X,\n",
        "                                                    y,\n",
        "                                                    test_size=.25,\n",
        "                                                    random_state=42)\n",
        "\n",
        "\n",
        "X_train, y_train = torch.tensor(X_train).float(), torch.tensor(y_train).float()\n",
        "X_test, y_test = torch.tensor(X_test).float(), torch.tensor(y_test).float()"
      ],
      "metadata": {
        "id": "BI6aM6zx_7HU",
        "outputId": "aad8e276-67af-42a0-9d63-076c84b667f7",
        "colab": {
          "base_uri": "https://localhost:8080/"
        }
      },
      "execution_count": null,
      "outputs": [
        {
          "output_type": "stream",
          "name": "stderr",
          "text": [
            "/usr/local/lib/python3.10/dist-packages/sklearn/utils/deprecation.py:87: FutureWarning: Function load_boston is deprecated; `load_boston` is deprecated in 1.0 and will be removed in 1.2.\n",
            "\n",
            "    The Boston housing prices dataset has an ethical problem. You can refer to\n",
            "    the documentation of this function for further details.\n",
            "\n",
            "    The scikit-learn maintainers therefore strongly discourage the use of this\n",
            "    dataset unless the purpose of the code is to study and educate about\n",
            "    ethical issues in data science and machine learning.\n",
            "\n",
            "    In this special case, you can fetch the dataset from the original\n",
            "    source::\n",
            "\n",
            "        import pandas as pd\n",
            "        import numpy as np\n",
            "\n",
            "        data_url = \"http://lib.stat.cmu.edu/datasets/boston\"\n",
            "        raw_df = pd.read_csv(data_url, sep=\"\\s+\", skiprows=22, header=None)\n",
            "        data = np.hstack([raw_df.values[::2, :], raw_df.values[1::2, :2]])\n",
            "        target = raw_df.values[1::2, 2]\n",
            "\n",
            "    Alternative datasets include the California housing dataset (i.e.\n",
            "    :func:`~sklearn.datasets.fetch_california_housing`) and the Ames housing\n",
            "    dataset. You can load the datasets as follows::\n",
            "\n",
            "        from sklearn.datasets import fetch_california_housing\n",
            "        housing = fetch_california_housing()\n",
            "\n",
            "    for the California housing dataset and::\n",
            "\n",
            "        from sklearn.datasets import fetch_openml\n",
            "        housing = fetch_openml(name=\"house_prices\", as_frame=True)\n",
            "\n",
            "    for the Ames housing dataset.\n",
            "  warnings.warn(msg, category=FutureWarning)\n"
          ]
        }
      ]
    },
    {
      "cell_type": "code",
      "source": [
        "@variational_estimator\n",
        "class BayesianRegressor(nn.Module):\n",
        "    def __init__(self, input_dim, output_dim):\n",
        "        super().__init__()\n",
        "        #self.linear = nn.Linear(input_dim, output_dim)\n",
        "        self.blinear1 = BayesianLinear(input_dim, 512)\n",
        "        self.blinear2 = BayesianLinear(512, output_dim)\n",
        "\n",
        "    def forward(self, x):\n",
        "        x_ = self.blinear1(x)\n",
        "        x_ = F.relu(x_)\n",
        "        return self.blinear2(x_)"
      ],
      "metadata": {
        "id": "3Oqz0sHlAfUe"
      },
      "execution_count": null,
      "outputs": []
    },
    {
      "cell_type": "code",
      "source": [
        "def evaluate_regression(regressor,\n",
        "                        X,\n",
        "                        y,\n",
        "                        samples = 100,\n",
        "                        std_multiplier = 2):\n",
        "    preds = [regressor(X) for i in range(samples)]\n",
        "    preds = torch.stack(preds)\n",
        "    means = preds.mean(axis=0)\n",
        "    stds = preds.std(axis=0)\n",
        "    ci_upper = means + (std_multiplier * stds)\n",
        "    ci_lower = means - (std_multiplier * stds)\n",
        "    ic_acc = (ci_lower <= y) * (ci_upper >= y)\n",
        "    ic_acc = ic_acc.float().mean()\n",
        "    return ic_acc, (ci_upper >= y).float().mean(), (ci_lower <= y).float().mean()"
      ],
      "metadata": {
        "id": "6OYqTB_mAhg9"
      },
      "execution_count": null,
      "outputs": []
    },
    {
      "cell_type": "code",
      "source": [
        "regressor = BayesianRegressor(13, 1)\n",
        "optimizer = optim.Adam(regressor.parameters(), lr=0.01)\n",
        "criterion = torch.nn.MSELoss()\n",
        "\n",
        "ds_train = torch.utils.data.TensorDataset(X_train, y_train)\n",
        "dataloader_train = torch.utils.data.DataLoader(ds_train, batch_size=16, shuffle=True)\n",
        "\n",
        "ds_test = torch.utils.data.TensorDataset(X_test, y_test)\n",
        "dataloader_test = torch.utils.data.DataLoader(ds_test, batch_size=16, shuffle=True)"
      ],
      "metadata": {
        "id": "cCR8K639AjAU"
      },
      "execution_count": null,
      "outputs": []
    },
    {
      "cell_type": "code",
      "source": [
        "iteration = 0\n",
        "for epoch in range(100):\n",
        "    for i, (datapoints, labels) in enumerate(dataloader_train):\n",
        "        optimizer.zero_grad()\n",
        "\n",
        "        loss = regressor.sample_elbo(inputs=datapoints,\n",
        "                           labels=labels,\n",
        "                           criterion=criterion,\n",
        "                           sample_nbr=3)\n",
        "        loss.backward()\n",
        "        optimizer.step()\n",
        "\n",
        "        iteration += 1\n",
        "        if iteration%100==0:\n",
        "            ic_acc, under_ci_upper, over_ci_lower = evaluate_regression(regressor,\n",
        "                                                                        X_test,\n",
        "                                                                        y_test,\n",
        "                                                                        samples=25,\n",
        "                                                                        std_multiplier=3)\n",
        "\n",
        "            print(\"CI acc: {:.2f}, CI upper acc: {:.2f}, CI lower acc: {:.2f}\".format(ic_acc, under_ci_upper, over_ci_lower))\n",
        "            print(\"Loss: {:.4f}\".format(loss))"
      ],
      "metadata": {
        "id": "3F8iyZfPAkrW",
        "outputId": "6db3d27b-12fc-464c-d653-f9551b82c8bc",
        "colab": {
          "base_uri": "https://localhost:8080/"
        }
      },
      "execution_count": null,
      "outputs": [
        {
          "output_type": "stream",
          "name": "stdout",
          "text": [
            "CI acc: 0.01, CI upper acc: 0.63, CI lower acc: 0.38\n",
            "Loss: 29146.0410\n",
            "CI acc: 0.01, CI upper acc: 0.63, CI lower acc: 0.38\n",
            "Loss: 26189.4688\n",
            "CI acc: 0.02, CI upper acc: 0.64, CI lower acc: 0.38\n",
            "Loss: 23245.5527\n",
            "CI acc: 0.02, CI upper acc: 0.64, CI lower acc: 0.39\n",
            "Loss: 20409.8027\n",
            "CI acc: 0.02, CI upper acc: 0.64, CI lower acc: 0.38\n",
            "Loss: 17473.9551\n",
            "CI acc: 0.03, CI upper acc: 0.65, CI lower acc: 0.39\n",
            "Loss: 14634.7471\n",
            "CI acc: 0.04, CI upper acc: 0.65, CI lower acc: 0.39\n",
            "Loss: 11814.4570\n",
            "CI acc: 0.07, CI upper acc: 0.68, CI lower acc: 0.39\n",
            "Loss: 9117.9033\n",
            "CI acc: 0.17, CI upper acc: 0.73, CI lower acc: 0.44\n",
            "Loss: 6608.6040\n",
            "CI acc: 0.33, CI upper acc: 0.80, CI lower acc: 0.53\n",
            "Loss: 4374.3423\n",
            "CI acc: 0.52, CI upper acc: 0.84, CI lower acc: 0.68\n",
            "Loss: 2664.4241\n",
            "CI acc: 0.69, CI upper acc: 0.86, CI lower acc: 0.83\n",
            "Loss: 1519.8243\n",
            "CI acc: 0.85, CI upper acc: 0.91, CI lower acc: 0.94\n",
            "Loss: 797.3596\n",
            "CI acc: 0.87, CI upper acc: 0.92, CI lower acc: 0.95\n",
            "Loss: 454.3941\n",
            "CI acc: 0.88, CI upper acc: 0.95, CI lower acc: 0.93\n",
            "Loss: 306.1112\n",
            "CI acc: 0.94, CI upper acc: 0.94, CI lower acc: 1.00\n",
            "Loss: 227.2724\n",
            "CI acc: 0.94, CI upper acc: 0.94, CI lower acc: 1.00\n",
            "Loss: 217.5478\n",
            "CI acc: 0.91, CI upper acc: 0.92, CI lower acc: 0.99\n",
            "Loss: 195.3649\n",
            "CI acc: 0.94, CI upper acc: 0.94, CI lower acc: 1.00\n",
            "Loss: 190.6002\n",
            "CI acc: 0.94, CI upper acc: 0.94, CI lower acc: 1.00\n",
            "Loss: 170.1727\n",
            "CI acc: 0.91, CI upper acc: 0.95, CI lower acc: 0.96\n",
            "Loss: 155.4123\n",
            "CI acc: 0.94, CI upper acc: 0.94, CI lower acc: 1.00\n",
            "Loss: 175.9465\n",
            "CI acc: 0.94, CI upper acc: 0.94, CI lower acc: 1.00\n",
            "Loss: 183.7723\n",
            "CI acc: 0.94, CI upper acc: 0.94, CI lower acc: 1.00\n",
            "Loss: 171.1010\n"
          ]
        }
      ]
    },
    {
      "cell_type": "code",
      "source": [],
      "metadata": {
        "id": "qPIZi_wkAmM-"
      },
      "execution_count": null,
      "outputs": []
    }
  ]
}